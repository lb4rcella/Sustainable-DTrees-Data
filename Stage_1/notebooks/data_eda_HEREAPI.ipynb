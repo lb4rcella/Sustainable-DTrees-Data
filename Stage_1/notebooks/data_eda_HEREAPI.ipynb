{
 "cells": [
  {
   "cell_type": "code",
   "execution_count": 2,
   "metadata": {},
   "outputs": [],
   "source": [
    "import pandas as pd\n",
    "import numpy as np\n",
    "import matplotlib.pyplot as plt\n",
    "import requests\n",
    "from tqdm import tqdm\n",
    "\n",
    "DATA_DIR = \"../data/\""
   ]
  },
  {
   "cell_type": "code",
   "execution_count": 2,
   "metadata": {},
   "outputs": [],
   "source": [
    "data_tim = pd.read_csv(DATA_DIR+\"Senior_TIM_v1.txt\", sep=\"|\", encoding='latin1')\n",
    "data_bus_routes = pd.read_csv(DATA_DIR+\"BusRoutes.txt\", sep=\"|\", encoding='latin1')"
   ]
  },
  {
   "cell_type": "code",
   "execution_count": 3,
   "metadata": {},
   "outputs": [
    {
     "data": {
      "text/html": [
       "<div>\n",
       "<style scoped>\n",
       "    .dataframe tbody tr th:only-of-type {\n",
       "        vertical-align: middle;\n",
       "    }\n",
       "\n",
       "    .dataframe tbody tr th {\n",
       "        vertical-align: top;\n",
       "    }\n",
       "\n",
       "    .dataframe thead th {\n",
       "        text-align: right;\n",
       "    }\n",
       "</style>\n",
       "<table border=\"1\" class=\"dataframe\">\n",
       "  <thead>\n",
       "    <tr style=\"text-align: right;\">\n",
       "      <th></th>\n",
       "      <th>IDRoute</th>\n",
       "      <th>linkid</th>\n",
       "    </tr>\n",
       "  </thead>\n",
       "  <tbody>\n",
       "    <tr>\n",
       "      <th>0</th>\n",
       "      <td>1</td>\n",
       "      <td>537277300</td>\n",
       "    </tr>\n",
       "    <tr>\n",
       "      <th>1</th>\n",
       "      <td>1</td>\n",
       "      <td>537277673</td>\n",
       "    </tr>\n",
       "    <tr>\n",
       "      <th>2</th>\n",
       "      <td>1</td>\n",
       "      <td>537277754</td>\n",
       "    </tr>\n",
       "    <tr>\n",
       "      <th>3</th>\n",
       "      <td>1</td>\n",
       "      <td>537277777</td>\n",
       "    </tr>\n",
       "    <tr>\n",
       "      <th>4</th>\n",
       "      <td>1</td>\n",
       "      <td>537277795</td>\n",
       "    </tr>\n",
       "  </tbody>\n",
       "</table>\n",
       "</div>"
      ],
      "text/plain": [
       "   IDRoute     linkid\n",
       "0        1  537277300\n",
       "1        1  537277673\n",
       "2        1  537277754\n",
       "3        1  537277777\n",
       "4        1  537277795"
      ]
     },
     "execution_count": 3,
     "metadata": {},
     "output_type": "execute_result"
    }
   ],
   "source": [
    "data_bus_routes.head()"
   ]
  },
  {
   "cell_type": "code",
   "execution_count": 4,
   "metadata": {},
   "outputs": [
    {
     "data": {
      "text/html": [
       "<div>\n",
       "<style scoped>\n",
       "    .dataframe tbody tr th:only-of-type {\n",
       "        vertical-align: middle;\n",
       "    }\n",
       "\n",
       "    .dataframe tbody tr th {\n",
       "        vertical-align: top;\n",
       "    }\n",
       "\n",
       "    .dataframe thead th {\n",
       "        text-align: right;\n",
       "    }\n",
       "</style>\n",
       "<table border=\"1\" class=\"dataframe\">\n",
       "  <thead>\n",
       "    <tr style=\"text-align: right;\">\n",
       "      <th></th>\n",
       "      <th>linkid</th>\n",
       "      <th>Region_of_Origin</th>\n",
       "      <th>District_of_Origin</th>\n",
       "      <th>County_of_Origin</th>\n",
       "      <th>Average_Daily_SeniorPopulation_Travelling</th>\n",
       "    </tr>\n",
       "  </thead>\n",
       "  <tbody>\n",
       "    <tr>\n",
       "      <th>0</th>\n",
       "      <td>80216810</td>\n",
       "      <td>R1 - AM Lisboa</td>\n",
       "      <td>Lisboa</td>\n",
       "      <td>Lisboa</td>\n",
       "      <td>2013.681187</td>\n",
       "    </tr>\n",
       "    <tr>\n",
       "      <th>1</th>\n",
       "      <td>80216810</td>\n",
       "      <td>R1 - AM Lisboa</td>\n",
       "      <td>Setúbal</td>\n",
       "      <td>Palmela</td>\n",
       "      <td>7688.296396</td>\n",
       "    </tr>\n",
       "    <tr>\n",
       "      <th>2</th>\n",
       "      <td>80216810</td>\n",
       "      <td>R1 - AM Lisboa</td>\n",
       "      <td>Lisboa</td>\n",
       "      <td>Oeiras</td>\n",
       "      <td>220.647248</td>\n",
       "    </tr>\n",
       "    <tr>\n",
       "      <th>3</th>\n",
       "      <td>80216810</td>\n",
       "      <td>R1 - AM Lisboa</td>\n",
       "      <td>Lisboa</td>\n",
       "      <td>Vila Franca de Xira</td>\n",
       "      <td>233.203075</td>\n",
       "    </tr>\n",
       "    <tr>\n",
       "      <th>4</th>\n",
       "      <td>80216812</td>\n",
       "      <td>R1 - AM Lisboa</td>\n",
       "      <td>Lisboa</td>\n",
       "      <td>Lisboa</td>\n",
       "      <td>261.606014</td>\n",
       "    </tr>\n",
       "  </tbody>\n",
       "</table>\n",
       "</div>"
      ],
      "text/plain": [
       "     linkid Region_of_Origin District_of_Origin     County_of_Origin  \\\n",
       "0  80216810   R1 - AM Lisboa             Lisboa               Lisboa   \n",
       "1  80216810   R1 - AM Lisboa            Setúbal              Palmela   \n",
       "2  80216810   R1 - AM Lisboa             Lisboa               Oeiras   \n",
       "3  80216810   R1 - AM Lisboa             Lisboa  Vila Franca de Xira   \n",
       "4  80216812   R1 - AM Lisboa             Lisboa               Lisboa   \n",
       "\n",
       "   Average_Daily_SeniorPopulation_Travelling  \n",
       "0                                2013.681187  \n",
       "1                                7688.296396  \n",
       "2                                 220.647248  \n",
       "3                                 233.203075  \n",
       "4                                 261.606014  "
      ]
     },
     "execution_count": 4,
     "metadata": {},
     "output_type": "execute_result"
    }
   ],
   "source": [
    "data_tim.head()"
   ]
  },
  {
   "cell_type": "code",
   "execution_count": 5,
   "metadata": {},
   "outputs": [
    {
     "data": {
      "text/plain": [
       "84991"
      ]
     },
     "execution_count": 5,
     "metadata": {},
     "output_type": "execute_result"
    }
   ],
   "source": [
    "all_link_id = set(data_tim[\"linkid\"]) | set(data_bus_routes[\"linkid\"])\n",
    "len(all_link_id)"
   ]
  },
  {
   "cell_type": "code",
   "execution_count": 6,
   "metadata": {},
   "outputs": [
    {
     "ename": "ModuleNotFoundError",
     "evalue": "No module named 'herepy'",
     "output_type": "error",
     "traceback": [
      "\u001b[1;31m---------------------------------------------------------------------------\u001b[0m",
      "\u001b[1;31mModuleNotFoundError\u001b[0m                       Traceback (most recent call last)",
      "\u001b[1;32m<ipython-input-6-c2bfeb52b817>\u001b[0m in \u001b[0;36m<module>\u001b[1;34m\u001b[0m\n\u001b[1;32m----> 1\u001b[1;33m \u001b[1;32mfrom\u001b[0m \u001b[0mherepy\u001b[0m \u001b[1;32mimport\u001b[0m \u001b[0mGeocoderApi\u001b[0m\u001b[1;33m\u001b[0m\u001b[1;33m\u001b[0m\u001b[0m\n\u001b[0m\u001b[0;32m      2\u001b[0m \u001b[1;33m\u001b[0m\u001b[0m\n\u001b[0;32m      3\u001b[0m \u001b[0mgeocoder_api\u001b[0m \u001b[1;33m=\u001b[0m \u001b[0mGeocoderApi\u001b[0m\u001b[1;33m(\u001b[0m\u001b[0mapi_key\u001b[0m\u001b[1;33m=\u001b[0m\u001b[1;34m\"HhEntMfQMu0Dfq6xwWYZGCAEmIWXM1YUdPneSImQCD4\"\u001b[0m\u001b[1;33m)\u001b[0m\u001b[1;33m\u001b[0m\u001b[1;33m\u001b[0m\u001b[0m\n\u001b[0;32m      4\u001b[0m \u001b[1;33m\u001b[0m\u001b[0m\n\u001b[0;32m      5\u001b[0m \u001b[1;31m# geocodes given search text\u001b[0m\u001b[1;33m\u001b[0m\u001b[1;33m\u001b[0m\u001b[1;33m\u001b[0m\u001b[0m\n",
      "\u001b[1;31mModuleNotFoundError\u001b[0m: No module named 'herepy'"
     ]
    }
   ],
   "source": [
    "from herepy import GeocoderApi\n",
    "\n",
    "geocoder_api = GeocoderApi(api_key=\"HhEntMfQMu0Dfq6xwWYZGCAEmIWXM1YUdPneSImQCD4\")\n",
    "\n",
    "# geocodes given search text\n",
    "response = geocoder_api.free_form(\"80216810\")\n",
    "print(response.as_dict())"
   ]
  },
  {
   "cell_type": "code",
   "execution_count": 7,
   "metadata": {},
   "outputs": [
    {
     "ename": "NameError",
     "evalue": "name 'geocoder_api' is not defined",
     "output_type": "error",
     "traceback": [
      "\u001b[1;31m---------------------------------------------------------------------------\u001b[0m",
      "\u001b[1;31mNameError\u001b[0m                                 Traceback (most recent call last)",
      "\u001b[1;32m<ipython-input-7-16e050fa060a>\u001b[0m in \u001b[0;36m<module>\u001b[1;34m\u001b[0m\n\u001b[1;32m----> 1\u001b[1;33m \u001b[0mresponse\u001b[0m \u001b[1;33m=\u001b[0m \u001b[0mgeocoder_api\u001b[0m\u001b[1;33m.\u001b[0m\u001b[0mfree_form\u001b[0m\u001b[1;33m(\u001b[0m\u001b[1;34m\"80216810\"\u001b[0m\u001b[1;33m)\u001b[0m\u001b[1;33m\u001b[0m\u001b[1;33m\u001b[0m\u001b[0m\n\u001b[0m\u001b[0;32m      2\u001b[0m \u001b[0mprint\u001b[0m\u001b[1;33m(\u001b[0m\u001b[0mresponse\u001b[0m\u001b[1;33m.\u001b[0m\u001b[0mas_dict\u001b[0m\u001b[1;33m(\u001b[0m\u001b[1;33m)\u001b[0m\u001b[1;33m)\u001b[0m\u001b[1;33m\u001b[0m\u001b[1;33m\u001b[0m\u001b[0m\n",
      "\u001b[1;31mNameError\u001b[0m: name 'geocoder_api' is not defined"
     ]
    }
   ],
   "source": [
    "response = geocoder_api.free_form(\"80216810\")\n",
    "print(response.as_dict())"
   ]
  },
  {
   "cell_type": "markdown",
   "metadata": {},
   "source": [
    "## Make post request and parse response"
   ]
  },
  {
   "cell_type": "code",
   "execution_count": 8,
   "metadata": {
    "collapsed": true,
    "jupyter": {
     "outputs_hidden": true
    }
   },
   "outputs": [
    {
     "name": "stderr",
     "output_type": "stream",
     "text": [
      "0it [00:00, ?it/s]"
     ]
    },
    {
     "name": "stdout",
     "output_type": "stream",
     "text": [
      "Translating 84991 links\n"
     ]
    },
    {
     "name": "stderr",
     "output_type": "stream",
     "text": [
      "63it [00:17,  3.72it/s]"
     ]
    },
    {
     "name": "stdout",
     "output_type": "stream",
     "text": [
      "Failed gettin linkids 576717032 575144173\n"
     ]
    },
    {
     "name": "stderr",
     "output_type": "stream",
     "text": [
      "118it [00:32,  3.66it/s]"
     ]
    },
    {
     "name": "stdout",
     "output_type": "stream",
     "text": [
      "Failed gettin linkids 813433231 924320142\n"
     ]
    },
    {
     "name": "stderr",
     "output_type": "stream",
     "text": [
      "365it [01:44,  3.51it/s]"
     ]
    },
    {
     "name": "stdout",
     "output_type": "stream",
     "text": [
      "Failed gettin linkids 576717980 576717997\n"
     ]
    },
    {
     "name": "stderr",
     "output_type": "stream",
     "text": [
      "370it [01:45,  3.58it/s]"
     ]
    },
    {
     "name": "stdout",
     "output_type": "stream",
     "text": [
      "Failed gettin linkids 762578126 762578127\n"
     ]
    },
    {
     "name": "stderr",
     "output_type": "stream",
     "text": [
      "375it [01:47,  3.46it/s]"
     ]
    },
    {
     "name": "stdout",
     "output_type": "stream",
     "text": [
      "Failed gettin linkids 762578140 820511965\n"
     ]
    },
    {
     "name": "stderr",
     "output_type": "stream",
     "text": [
      "509it [02:29,  3.16it/s]"
     ]
    },
    {
     "name": "stdout",
     "output_type": "stream",
     "text": [
      "Failed gettin linkids 1157891790 1157891791\n"
     ]
    },
    {
     "name": "stderr",
     "output_type": "stream",
     "text": [
      "513it [02:31,  1.90it/s]"
     ]
    },
    {
     "name": "stdout",
     "output_type": "stream",
     "text": [
      "Failed gettin linkids 576718562 575145699\n"
     ]
    },
    {
     "name": "stderr",
     "output_type": "stream",
     "text": [
      "709it [03:33,  3.32it/s]"
     ]
    },
    {
     "name": "stdout",
     "output_type": "stream",
     "text": [
      "Failed gettin linkids 576719516 576719517\n"
     ]
    },
    {
     "name": "stderr",
     "output_type": "stream",
     "text": [
      "772it [03:53,  3.48it/s]"
     ]
    },
    {
     "name": "stdout",
     "output_type": "stream",
     "text": [
      "Failed gettin linkids 575146847 576719714\n"
     ]
    },
    {
     "name": "stderr",
     "output_type": "stream",
     "text": [
      "809it [04:04,  3.23it/s]"
     ]
    },
    {
     "name": "stdout",
     "output_type": "stream",
     "text": [
      "Failed gettin linkids 576719816 576719817\n"
     ]
    },
    {
     "name": "stderr",
     "output_type": "stream",
     "text": [
      "864it [04:22,  3.25it/s]"
     ]
    },
    {
     "name": "stdout",
     "output_type": "stream",
     "text": [
      "Failed gettin linkids 576720069 576720070\n"
     ]
    },
    {
     "name": "stderr",
     "output_type": "stream",
     "text": [
      "1026it [05:12,  3.22it/s]"
     ]
    },
    {
     "name": "stdout",
     "output_type": "stream",
     "text": [
      "Failed gettin linkids 576720939 1220022318\n"
     ]
    },
    {
     "name": "stderr",
     "output_type": "stream",
     "text": [
      "1143it [05:48,  3.64it/s]"
     ]
    },
    {
     "name": "stdout",
     "output_type": "stream",
     "text": [
      "Failed gettin linkids 576721309 913052062\n"
     ]
    },
    {
     "name": "stderr",
     "output_type": "stream",
     "text": [
      "1183it [05:59,  3.72it/s]"
     ]
    },
    {
     "name": "stdout",
     "output_type": "stream",
     "text": [
      "Failed gettin linkids 819466760 587731465\n"
     ]
    },
    {
     "name": "stderr",
     "output_type": "stream",
     "text": [
      "1186it [06:00,  3.83it/s]"
     ]
    },
    {
     "name": "stdout",
     "output_type": "stream",
     "text": [
      "Failed gettin linkids 575148558 575148559\n"
     ]
    },
    {
     "name": "stderr",
     "output_type": "stream",
     "text": [
      "1245it [06:18,  3.54it/s]"
     ]
    },
    {
     "name": "stdout",
     "output_type": "stream",
     "text": [
      "Failed gettin linkids 576721698 1212683041\n"
     ]
    },
    {
     "name": "stderr",
     "output_type": "stream",
     "text": [
      "1360it [06:55,  3.82it/s]"
     ]
    },
    {
     "name": "stdout",
     "output_type": "stream",
     "text": [
      "Failed gettin linkids 1181226548 575149622\n"
     ]
    },
    {
     "name": "stderr",
     "output_type": "stream",
     "text": [
      "1396it [07:08,  3.59it/s]"
     ]
    },
    {
     "name": "stdout",
     "output_type": "stream",
     "text": [
      "Failed gettin linkids 576722677 575149814\n"
     ]
    },
    {
     "name": "stderr",
     "output_type": "stream",
     "text": [
      "1445it [07:21,  3.47it/s]"
     ]
    },
    {
     "name": "stdout",
     "output_type": "stream",
     "text": [
      "Failed gettin linkids 812128369 576723055\n"
     ]
    },
    {
     "name": "stderr",
     "output_type": "stream",
     "text": [
      "1518it [07:42,  3.37it/s]"
     ]
    },
    {
     "name": "stdout",
     "output_type": "stream",
     "text": [
      "Failed gettin linkids 576723456 575150593\n"
     ]
    },
    {
     "name": "stderr",
     "output_type": "stream",
     "text": [
      "1520it [07:42,  3.55it/s]"
     ]
    },
    {
     "name": "stdout",
     "output_type": "stream",
     "text": [
      "Failed gettin linkids 1213471244 575150605\n"
     ]
    },
    {
     "name": "stderr",
     "output_type": "stream",
     "text": [
      "1703it [08:37,  2.22it/s]"
     ]
    },
    {
     "name": "stdout",
     "output_type": "stream",
     "text": [
      "Failed gettin linkids 575151277 576724139\n"
     ]
    },
    {
     "name": "stderr",
     "output_type": "stream",
     "text": [
      "1710it [08:39,  3.48it/s]"
     ]
    },
    {
     "name": "stdout",
     "output_type": "stream",
     "text": [
      "Failed gettin linkids 575151293 575151294\n"
     ]
    },
    {
     "name": "stderr",
     "output_type": "stream",
     "text": [
      "1744it [08:49,  3.72it/s]"
     ]
    },
    {
     "name": "stdout",
     "output_type": "stream",
     "text": [
      "Failed gettin linkids 916200823 576724345\n"
     ]
    },
    {
     "name": "stderr",
     "output_type": "stream",
     "text": [
      "1766it [08:55,  3.69it/s]"
     ]
    },
    {
     "name": "stdout",
     "output_type": "stream",
     "text": [
      "Failed gettin linkids 575151588 762584551\n"
     ]
    },
    {
     "name": "stderr",
     "output_type": "stream",
     "text": [
      "1791it [09:03,  3.80it/s]"
     ]
    },
    {
     "name": "stdout",
     "output_type": "stream",
     "text": [
      "Failed gettin linkids 767303317 767303321\n"
     ]
    },
    {
     "name": "stderr",
     "output_type": "stream",
     "text": [
      "1848it [09:18,  3.53it/s]"
     ]
    },
    {
     "name": "stdout",
     "output_type": "stream",
     "text": [
      "Failed gettin linkids 1212948544 1212948545\n"
     ]
    },
    {
     "name": "stderr",
     "output_type": "stream",
     "text": [
      "2076it [10:26,  3.32it/s]"
     ]
    },
    {
     "name": "stdout",
     "output_type": "stream",
     "text": [
      "Failed gettin linkids 542385253 542385254\n"
     ]
    },
    {
     "name": "stderr",
     "output_type": "stream",
     "text": [
      "2172it [10:57,  2.58it/s]"
     ]
    },
    {
     "name": "stdout",
     "output_type": "stream",
     "text": [
      "Failed gettin linkids 1181230526 575153600\n"
     ]
    },
    {
     "name": "stderr",
     "output_type": "stream",
     "text": [
      "2185it [11:01,  3.13it/s]"
     ]
    },
    {
     "name": "stdout",
     "output_type": "stream",
     "text": [
      "Failed gettin linkids 1217930726 542385641\n"
     ]
    },
    {
     "name": "stderr",
     "output_type": "stream",
     "text": [
      "2307it [11:43,  3.21it/s]"
     ]
    },
    {
     "name": "stdout",
     "output_type": "stream",
     "text": [
      "Failed gettin linkids 911746957 542386071\n"
     ]
    },
    {
     "name": "stderr",
     "output_type": "stream",
     "text": [
      "2529it [12:52,  3.43it/s]"
     ]
    },
    {
     "name": "stdout",
     "output_type": "stream",
     "text": [
      "Failed gettin linkids 542386994 542386995\n"
     ]
    },
    {
     "name": "stderr",
     "output_type": "stream",
     "text": [
      "2534it [12:54,  3.27it/s]"
     ]
    },
    {
     "name": "stdout",
     "output_type": "stream",
     "text": [
      "Failed gettin linkids 542387011 915155780\n"
     ]
    },
    {
     "name": "stderr",
     "output_type": "stream",
     "text": [
      "2543it [12:57,  3.35it/s]"
     ]
    },
    {
     "name": "stdout",
     "output_type": "stream",
     "text": [
      "Failed gettin linkids 542387041 542387045\n"
     ]
    },
    {
     "name": "stderr",
     "output_type": "stream",
     "text": [
      "2699it [13:46,  3.26it/s]"
     ]
    },
    {
     "name": "stdout",
     "output_type": "stream",
     "text": [
      "Failed gettin linkids 812030028 542387785\n"
     ]
    },
    {
     "name": "stderr",
     "output_type": "stream",
     "text": [
      "2815it [14:22,  3.24it/s]"
     ]
    },
    {
     "name": "stdout",
     "output_type": "stream",
     "text": [
      "Failed gettin linkids 1054617554 1054617555\n"
     ]
    },
    {
     "name": "stderr",
     "output_type": "stream",
     "text": [
      "3189it [16:17,  3.14it/s]"
     ]
    },
    {
     "name": "stdout",
     "output_type": "stream",
     "text": [
      "Failed gettin linkids 576731065 915158970\n"
     ]
    },
    {
     "name": "stderr",
     "output_type": "stream",
     "text": [
      "3297it [16:51,  3.45it/s]"
     ]
    },
    {
     "name": "stdout",
     "output_type": "stream",
     "text": [
      "Failed gettin linkids 1162361379 941111846\n"
     ]
    },
    {
     "name": "stderr",
     "output_type": "stream",
     "text": [
      "3473it [17:45,  3.33it/s]"
     ]
    },
    {
     "name": "stdout",
     "output_type": "stream",
     "text": [
      "Failed gettin linkids 576732453 915160355\n"
     ]
    },
    {
     "name": "stderr",
     "output_type": "stream",
     "text": [
      "3555it [18:12,  3.11it/s]"
     ]
    },
    {
     "name": "stdout",
     "output_type": "stream",
     "text": [
      "Failed gettin linkids 576732838 1160265382\n"
     ]
    },
    {
     "name": "stderr",
     "output_type": "stream",
     "text": [
      "3557it [18:12,  3.14it/s]"
     ]
    },
    {
     "name": "stdout",
     "output_type": "stream",
     "text": [
      "Failed gettin linkids 1166032550 1160265381\n"
     ]
    },
    {
     "name": "stderr",
     "output_type": "stream",
     "text": [
      "3648it [18:43,  3.20it/s]"
     ]
    },
    {
     "name": "stdout",
     "output_type": "stream",
     "text": [
      "Failed gettin linkids 808206552 808206554\n"
     ]
    },
    {
     "name": "stderr",
     "output_type": "stream",
     "text": [
      "3681it [18:54,  3.12it/s]"
     ]
    },
    {
     "name": "stdout",
     "output_type": "stream",
     "text": [
      "Failed gettin linkids 576733651 575160789\n"
     ]
    },
    {
     "name": "stderr",
     "output_type": "stream",
     "text": [
      "3692it [18:57,  3.10it/s]"
     ]
    },
    {
     "name": "stdout",
     "output_type": "stream",
     "text": [
      "Failed gettin linkids 868499950 913588719\n"
     ]
    },
    {
     "name": "stderr",
     "output_type": "stream",
     "text": [
      "4066it [20:54,  3.55it/s]"
     ]
    },
    {
     "name": "stdout",
     "output_type": "stream",
     "text": [
      "Failed gettin linkids 941116415 941116416\n"
     ]
    },
    {
     "name": "stderr",
     "output_type": "stream",
     "text": [
      "4281it [22:07,  3.05it/s]"
     ]
    },
    {
     "name": "stdout",
     "output_type": "stream",
     "text": [
      "Failed gettin linkids 1220301264 1220301265\n"
     ]
    },
    {
     "name": "stderr",
     "output_type": "stream",
     "text": [
      "4416it [22:53,  3.02it/s]"
     ]
    },
    {
     "name": "stdout",
     "output_type": "stream",
     "text": [
      "Failed gettin linkids 915166795 806639196\n"
     ]
    },
    {
     "name": "stderr",
     "output_type": "stream",
     "text": [
      "4511it [23:27,  2.85it/s]"
     ]
    },
    {
     "name": "stdout",
     "output_type": "stream",
     "text": [
      "Failed gettin linkids 1213749785 588012066\n"
     ]
    },
    {
     "name": "stderr",
     "output_type": "stream",
     "text": [
      "4562it [23:44,  3.11it/s]"
     ]
    },
    {
     "name": "stdout",
     "output_type": "stream",
     "text": [
      "Failed gettin linkids 851467395 746347677\n"
     ]
    },
    {
     "name": "stderr",
     "output_type": "stream",
     "text": [
      "4649it [24:16,  2.25it/s]"
     ]
    },
    {
     "name": "stdout",
     "output_type": "stream",
     "text": [
      "Failed gettin linkids 575168222 1237081859\n"
     ]
    },
    {
     "name": "stderr",
     "output_type": "stream",
     "text": [
      "4697it [24:37,  3.16it/s]"
     ]
    },
    {
     "name": "stdout",
     "output_type": "stream",
     "text": [
      "Failed gettin linkids 1061183612 1061183613\n"
     ]
    },
    {
     "name": "stderr",
     "output_type": "stream",
     "text": [
      "4794it [25:11,  3.21it/s]"
     ]
    },
    {
     "name": "stdout",
     "output_type": "stream",
     "text": [
      "Failed gettin linkids 849110185 849110186\n"
     ]
    },
    {
     "name": "stderr",
     "output_type": "stream",
     "text": [
      "4940it [26:00,  2.90it/s]"
     ]
    },
    {
     "name": "stdout",
     "output_type": "stream",
     "text": [
      "Failed gettin linkids 576219606 717622144\n"
     ]
    },
    {
     "name": "stderr",
     "output_type": "stream",
     "text": [
      "4979it [26:14,  2.82it/s]"
     ]
    },
    {
     "name": "stdout",
     "output_type": "stream",
     "text": [
      "Failed gettin linkids 762604254 575171296\n"
     ]
    },
    {
     "name": "stderr",
     "output_type": "stream",
     "text": [
      "4991it [26:18,  2.83it/s]"
     ]
    },
    {
     "name": "stdout",
     "output_type": "stream",
     "text": [
      "Failed gettin linkids 575171362 575171366\n"
     ]
    },
    {
     "name": "stderr",
     "output_type": "stream",
     "text": [
      "5046it [26:39,  2.77it/s]"
     ]
    },
    {
     "name": "stdout",
     "output_type": "stream",
     "text": [
      "Failed gettin linkids 851471617 588016898\n"
     ]
    },
    {
     "name": "stderr",
     "output_type": "stream",
     "text": [
      "5061it [26:44,  2.78it/s]"
     ]
    },
    {
     "name": "stdout",
     "output_type": "stream",
     "text": [
      "Failed gettin linkids 806645175 849898950\n"
     ]
    },
    {
     "name": "stderr",
     "output_type": "stream",
     "text": [
      "5081it [26:52,  2.56it/s]"
     ]
    },
    {
     "name": "stdout",
     "output_type": "stream",
     "text": [
      "Failed gettin linkids 575172199 575172206\n"
     ]
    },
    {
     "name": "stderr",
     "output_type": "stream",
     "text": [
      "5082it [26:52,  2.53it/s]"
     ]
    },
    {
     "name": "stdout",
     "output_type": "stream",
     "text": [
      "Failed gettin linkids 575172208 575172209\n"
     ]
    },
    {
     "name": "stderr",
     "output_type": "stream",
     "text": [
      "5134it [27:10,  2.99it/s]"
     ]
    },
    {
     "name": "stdout",
     "output_type": "stream",
     "text": [
      "Failed gettin linkids 575172578 575172579\n"
     ]
    },
    {
     "name": "stderr",
     "output_type": "stream",
     "text": [
      "5228it [27:44,  2.82it/s]"
     ]
    },
    {
     "name": "stdout",
     "output_type": "stream",
     "text": [
      "Failed gettin linkids 907309629 907309630\n"
     ]
    },
    {
     "name": "stderr",
     "output_type": "stream",
     "text": [
      "5231it [27:45,  3.01it/s]"
     ]
    },
    {
     "name": "stdout",
     "output_type": "stream",
     "text": [
      "Failed gettin linkids 907309641 907309642\n"
     ]
    },
    {
     "name": "stderr",
     "output_type": "stream",
     "text": [
      "5262it [27:55,  3.22it/s]"
     ]
    },
    {
     "name": "stdout",
     "output_type": "stream",
     "text": [
      "Failed gettin linkids 773354391 773354392\n"
     ]
    },
    {
     "name": "stderr",
     "output_type": "stream",
     "text": [
      "5308it [28:11,  2.77it/s]"
     ]
    },
    {
     "name": "stdout",
     "output_type": "stream",
     "text": [
      "Failed gettin linkids 849900728 858551481\n"
     ]
    },
    {
     "name": "stderr",
     "output_type": "stream",
     "text": [
      "5446it [28:58,  3.20it/s]"
     ]
    },
    {
     "name": "stdout",
     "output_type": "stream",
     "text": [
      "Failed gettin linkids 806647934 806647935\n"
     ]
    },
    {
     "name": "stderr",
     "output_type": "stream",
     "text": [
      "5569it [29:40,  2.88it/s]"
     ]
    },
    {
     "name": "stdout",
     "output_type": "stream",
     "text": [
      "Failed gettin linkids 575175817 913603727\n"
     ]
    },
    {
     "name": "stderr",
     "output_type": "stream",
     "text": [
      "6059it [32:30,  2.55it/s]"
     ]
    },
    {
     "name": "stdout",
     "output_type": "stream",
     "text": [
      "Failed gettin linkids 907315203 576227333\n"
     ]
    },
    {
     "name": "stderr",
     "output_type": "stream",
     "text": [
      "6093it [32:42,  3.27it/s]"
     ]
    },
    {
     "name": "stdout",
     "output_type": "stream",
     "text": [
      "Failed gettin linkids 587761849 1169305967\n"
     ]
    },
    {
     "name": "stderr",
     "output_type": "stream",
     "text": [
      "6095it [32:43,  3.22it/s]"
     ]
    },
    {
     "name": "stdout",
     "output_type": "stream",
     "text": [
      "Failed gettin linkids 1212713162 877580410\n"
     ]
    },
    {
     "name": "stderr",
     "output_type": "stream",
     "text": [
      "6528it [35:09,  3.02it/s]"
     ]
    },
    {
     "name": "stdout",
     "output_type": "stream",
     "text": [
      "Failed gettin linkids 576230500 1195938916\n"
     ]
    },
    {
     "name": "stderr",
     "output_type": "stream",
     "text": [
      "6549it [35:16,  3.34it/s]"
     ]
    },
    {
     "name": "stdout",
     "output_type": "stream",
     "text": [
      "Failed gettin linkids 1212716179 576230551\n"
     ]
    },
    {
     "name": "stderr",
     "output_type": "stream",
     "text": [
      "6593it [35:31,  2.92it/s]"
     ]
    },
    {
     "name": "stdout",
     "output_type": "stream",
     "text": [
      "Failed gettin linkids 542414141 542414142\n"
     ]
    },
    {
     "name": "stderr",
     "output_type": "stream",
     "text": [
      "6686it [36:03,  2.85it/s]"
     ]
    },
    {
     "name": "stdout",
     "output_type": "stream",
     "text": [
      "Failed gettin linkids 542414523 1219270335\n"
     ]
    },
    {
     "name": "stderr",
     "output_type": "stream",
     "text": [
      "6808it [36:45,  3.18it/s]"
     ]
    },
    {
     "name": "stdout",
     "output_type": "stream",
     "text": [
      "Failed gettin linkids 1160026465 1160026466\n"
     ]
    },
    {
     "name": "stderr",
     "output_type": "stream",
     "text": [
      "6861it [37:04,  2.48it/s]"
     ]
    },
    {
     "name": "stdout",
     "output_type": "stream",
     "text": [
      "Failed gettin linkids 542415507 576756372\n"
     ]
    },
    {
     "name": "stderr",
     "output_type": "stream",
     "text": [
      "6917it [37:22,  3.76it/s]"
     ]
    },
    {
     "name": "stdout",
     "output_type": "stream",
     "text": [
      "Failed gettin linkids 542415727 875076465\n"
     ]
    },
    {
     "name": "stderr",
     "output_type": "stream",
     "text": [
      "7440it [40:13,  3.11it/s]"
     ]
    },
    {
     "name": "stdout",
     "output_type": "stream",
     "text": [
      "Failed gettin linkids 1122018511 542418134\n"
     ]
    },
    {
     "name": "stderr",
     "output_type": "stream",
     "text": [
      "7461it [40:19,  3.28it/s]"
     ]
    },
    {
     "name": "stdout",
     "output_type": "stream",
     "text": [
      "Failed gettin linkids 576759138 576759144\n"
     ]
    },
    {
     "name": "stderr",
     "output_type": "stream",
     "text": [
      "7475it [40:24,  2.97it/s]"
     ]
    },
    {
     "name": "stdout",
     "output_type": "stream",
     "text": [
      "Failed gettin linkids 1112319428 851486158\n"
     ]
    },
    {
     "name": "stderr",
     "output_type": "stream",
     "text": [
      "7502it [40:33,  3.20it/s]"
     ]
    },
    {
     "name": "stdout",
     "output_type": "stream",
     "text": [
      "Failed gettin linkids 576759434 542418591\n"
     ]
    },
    {
     "name": "stderr",
     "output_type": "stream",
     "text": [
      "7518it [40:38,  3.12it/s]"
     ]
    },
    {
     "name": "stdout",
     "output_type": "stream",
     "text": [
      "Failed gettin linkids 812427044 576235301\n"
     ]
    },
    {
     "name": "stderr",
     "output_type": "stream",
     "text": [
      "7519it [40:38,  3.21it/s]"
     ]
    },
    {
     "name": "stdout",
     "output_type": "stream",
     "text": [
      "Failed gettin linkids 812427045 913876778\n"
     ]
    },
    {
     "name": "stderr",
     "output_type": "stream",
     "text": [
      "7557it [40:50,  3.34it/s]"
     ]
    },
    {
     "name": "stdout",
     "output_type": "stream",
     "text": [
      "Failed gettin linkids 576235545 576759836\n"
     ]
    },
    {
     "name": "stderr",
     "output_type": "stream",
     "text": [
      "7622it [41:11,  2.91it/s]"
     ]
    },
    {
     "name": "stdout",
     "output_type": "stream",
     "text": [
      "Failed gettin linkids 588032525 880323086\n"
     ]
    },
    {
     "name": "stderr",
     "output_type": "stream",
     "text": [
      "7670it [41:26,  3.78it/s]"
     ]
    },
    {
     "name": "stdout",
     "output_type": "stream",
     "text": [
      "Failed gettin linkids 1213246198 542419711\n"
     ]
    },
    {
     "name": "stderr",
     "output_type": "stream",
     "text": [
      "7796it [42:00,  3.69it/s]"
     ]
    },
    {
     "name": "stdout",
     "output_type": "stream",
     "text": [
      "Failed gettin linkids 576237167 576237170\n"
     ]
    },
    {
     "name": "stderr",
     "output_type": "stream",
     "text": [
      "7987it [42:52,  3.87it/s]"
     ]
    },
    {
     "name": "stdout",
     "output_type": "stream",
     "text": [
      "Failed gettin linkids 1220063982 1220063983\n"
     ]
    },
    {
     "name": "stderr",
     "output_type": "stream",
     "text": [
      "8017it [43:00,  3.78it/s]"
     ]
    },
    {
     "name": "stdout",
     "output_type": "stream",
     "text": [
      "Failed gettin linkids 576238434 806663011\n"
     ]
    },
    {
     "name": "stderr",
     "output_type": "stream",
     "text": [
      "8139it [43:34,  3.71it/s]"
     ]
    },
    {
     "name": "stdout",
     "output_type": "stream",
     "text": [
      "Failed gettin linkids 758318598 1221899850\n"
     ]
    },
    {
     "name": "stderr",
     "output_type": "stream",
     "text": [
      "8202it [43:51,  3.67it/s]"
     ]
    },
    {
     "name": "stdout",
     "output_type": "stream",
     "text": [
      "Failed gettin linkids 542422970 542422971\n"
     ]
    },
    {
     "name": "stderr",
     "output_type": "stream",
     "text": [
      "8262it [44:10,  3.96it/s]"
     ]
    },
    {
     "name": "stdout",
     "output_type": "stream",
     "text": [
      "Failed gettin linkids 542423425 542423426\n"
     ]
    },
    {
     "name": "stderr",
     "output_type": "stream",
     "text": [
      "8285it [44:16,  3.78it/s]"
     ]
    },
    {
     "name": "stdout",
     "output_type": "stream",
     "text": [
      "Failed gettin linkids 80263669 80263670\n"
     ]
    },
    {
     "name": "stderr",
     "output_type": "stream",
     "text": [
      "8311it [44:24,  3.67it/s]"
     ]
    },
    {
     "name": "stdout",
     "output_type": "stream",
     "text": [
      "Failed gettin linkids 907590226 80263764\n"
     ]
    },
    {
     "name": "stderr",
     "output_type": "stream",
     "text": [
      "8353it [44:36,  3.43it/s]"
     ]
    },
    {
     "name": "stdout",
     "output_type": "stream",
     "text": [
      "Failed gettin linkids 1130150634 542423786\n"
     ]
    },
    {
     "name": "stderr",
     "output_type": "stream",
     "text": [
      "8401it [44:49,  3.77it/s]"
     ]
    },
    {
     "name": "stdout",
     "output_type": "stream",
     "text": [
      "Failed gettin linkids 542423969 1180482466\n"
     ]
    },
    {
     "name": "stderr",
     "output_type": "stream",
     "text": [
      "8517it [45:22,  3.77it/s]"
     ]
    },
    {
     "name": "stdout",
     "output_type": "stream",
     "text": [
      "Failed gettin linkids 851492171 80264531\n"
     ]
    },
    {
     "name": "stderr",
     "output_type": "stream",
     "text": [
      "8519it [45:23,  3.62it/s]"
     ]
    },
    {
     "name": "stdout",
     "output_type": "stream",
     "text": [
      "Failed gettin linkids 80264535 724614493\n"
     ]
    },
    {
     "name": "stderr",
     "output_type": "stream",
     "text": [
      "8579it [45:40,  3.73it/s]"
     ]
    },
    {
     "name": "stdout",
     "output_type": "stream",
     "text": [
      "Failed gettin linkids 924368498 587775610\n"
     ]
    },
    {
     "name": "stderr",
     "output_type": "stream",
     "text": [
      "8607it [45:47,  3.61it/s]"
     ]
    },
    {
     "name": "stdout",
     "output_type": "stream",
     "text": [
      "Failed gettin linkids 1223999223 1223999224\n"
     ]
    },
    {
     "name": "stderr",
     "output_type": "stream",
     "text": [
      "8652it [46:01,  3.56it/s]"
     ]
    },
    {
     "name": "stdout",
     "output_type": "stream",
     "text": [
      "Failed gettin linkids 588038209 1219280964\n"
     ]
    },
    {
     "name": "stderr",
     "output_type": "stream",
     "text": [
      "8756it [46:34,  2.31it/s]"
     ]
    },
    {
     "name": "stdout",
     "output_type": "stream",
     "text": [
      "Failed gettin linkids 737198712 588038790\n"
     ]
    },
    {
     "name": "stderr",
     "output_type": "stream",
     "text": [
      "8873it [47:10,  3.52it/s]"
     ]
    },
    {
     "name": "stdout",
     "output_type": "stream",
     "text": [
      "Failed gettin linkids 744015144 1155056937\n"
     ]
    },
    {
     "name": "stderr",
     "output_type": "stream",
     "text": [
      "8896it [47:16,  3.78it/s]"
     ]
    },
    {
     "name": "stdout",
     "output_type": "stream",
     "text": [
      "Failed gettin linkids 708887898 877446491\n"
     ]
    },
    {
     "name": "stderr",
     "output_type": "stream",
     "text": [
      "8942it [47:32,  3.53it/s]"
     ]
    },
    {
     "name": "stdout",
     "output_type": "stream",
     "text": [
      "Failed gettin linkids 1214039612 1214039613\n"
     ]
    },
    {
     "name": "stderr",
     "output_type": "stream",
     "text": [
      "9004it [47:49,  3.70it/s]"
     ]
    },
    {
     "name": "stdout",
     "output_type": "stream",
     "text": [
      "Failed gettin linkids 1213253649 542427155\n"
     ]
    },
    {
     "name": "stderr",
     "output_type": "stream",
     "text": [
      "9010it [47:51,  3.64it/s]"
     ]
    },
    {
     "name": "stdout",
     "output_type": "stream",
     "text": [
      "Failed gettin linkids 915982397 915982398\n"
     ]
    },
    {
     "name": "stderr",
     "output_type": "stream",
     "text": [
      "9079it [48:11,  3.14it/s]"
     ]
    },
    {
     "name": "stdout",
     "output_type": "stream",
     "text": [
      "Failed gettin linkids 542427850 542427851\n"
     ]
    },
    {
     "name": "stderr",
     "output_type": "stream",
     "text": [
      "9395it [49:55,  3.27it/s]"
     ]
    },
    {
     "name": "stdout",
     "output_type": "stream",
     "text": [
      "Failed gettin linkids 542429768 542429769\n"
     ]
    },
    {
     "name": "stderr",
     "output_type": "stream",
     "text": [
      "9443it [50:11,  2.96it/s]"
     ]
    },
    {
     "name": "stdout",
     "output_type": "stream",
     "text": [
      "Failed gettin linkids 819516365 819516366\n"
     ]
    },
    {
     "name": "stderr",
     "output_type": "stream",
     "text": [
      "9663it [51:23,  2.77it/s]"
     ]
    },
    {
     "name": "stdout",
     "output_type": "stream",
     "text": [
      "Failed gettin linkids 1198840440 1115216508\n"
     ]
    },
    {
     "name": "stderr",
     "output_type": "stream",
     "text": [
      "9765it [51:55,  3.36it/s]"
     ]
    },
    {
     "name": "stdout",
     "output_type": "stream",
     "text": [
      "Failed gettin linkids 1156111644 80272677\n"
     ]
    },
    {
     "name": "stderr",
     "output_type": "stream",
     "text": [
      "9794it [52:04,  3.26it/s]"
     ]
    },
    {
     "name": "stdout",
     "output_type": "stream",
     "text": [
      "Failed gettin linkids 1007476222 1007476223\n"
     ]
    },
    {
     "name": "stderr",
     "output_type": "stream",
     "text": [
      "9861it [52:24,  3.24it/s]"
     ]
    },
    {
     "name": "stdout",
     "output_type": "stream",
     "text": [
      "Failed gettin linkids 806674369 1172365255\n"
     ]
    },
    {
     "name": "stderr",
     "output_type": "stream",
     "text": [
      "9862it [52:25,  3.27it/s]"
     ]
    },
    {
     "name": "stdout",
     "output_type": "stream",
     "text": [
      "Failed gettin linkids 1172365256 1172365258\n"
     ]
    },
    {
     "name": "stderr",
     "output_type": "stream",
     "text": [
      "9896it [52:36,  2.24it/s]"
     ]
    },
    {
     "name": "stdout",
     "output_type": "stream",
     "text": [
      "Failed gettin linkids 906813711 906813712\n"
     ]
    },
    {
     "name": "stderr",
     "output_type": "stream",
     "text": [
      "9908it [52:40,  3.29it/s]"
     ]
    },
    {
     "name": "stdout",
     "output_type": "stream",
     "text": [
      "Failed gettin linkids 927260996 927260997\n"
     ]
    },
    {
     "name": "stderr",
     "output_type": "stream",
     "text": [
      "9968it [53:02,  2.49it/s]"
     ]
    },
    {
     "name": "stdout",
     "output_type": "stream",
     "text": [
      "Failed gettin linkids 877454015 877454021\n"
     ]
    },
    {
     "name": "stderr",
     "output_type": "stream",
     "text": [
      "10123it [53:53,  3.12it/s]"
     ]
    },
    {
     "name": "stdout",
     "output_type": "stream",
     "text": [
      "Failed gettin linkids 1162143200 80274914\n"
     ]
    },
    {
     "name": "stderr",
     "output_type": "stream",
     "text": [
      "10215it [54:25,  3.13it/s]"
     ]
    },
    {
     "name": "stdout",
     "output_type": "stream",
     "text": [
      "Failed gettin linkids 80275466 1202251799\n"
     ]
    },
    {
     "name": "stderr",
     "output_type": "stream",
     "text": [
      "10270it [54:44,  2.97it/s]"
     ]
    },
    {
     "name": "stdout",
     "output_type": "stream",
     "text": [
      "Failed gettin linkids 80275772 905767226\n"
     ]
    },
    {
     "name": "stderr",
     "output_type": "stream",
     "text": [
      "10508it [56:03,  2.91it/s]"
     ]
    },
    {
     "name": "stdout",
     "output_type": "stream",
     "text": [
      "Failed gettin linkids 1144844094 1144844095\n"
     ]
    },
    {
     "name": "stderr",
     "output_type": "stream",
     "text": [
      "10573it [56:25,  2.91it/s]"
     ]
    },
    {
     "name": "stdout",
     "output_type": "stream",
     "text": [
      "Failed gettin linkids 806678963 80277942\n"
     ]
    },
    {
     "name": "stderr",
     "output_type": "stream",
     "text": [
      "10608it [56:37,  3.14it/s]"
     ]
    },
    {
     "name": "stdout",
     "output_type": "stream",
     "text": [
      "Failed gettin linkids 80278329 809300793\n"
     ]
    },
    {
     "name": "stderr",
     "output_type": "stream",
     "text": [
      "10614it [56:39,  3.08it/s]"
     ]
    },
    {
     "name": "stdout",
     "output_type": "stream",
     "text": [
      "Failed gettin linkids 80278389 80278390\n"
     ]
    },
    {
     "name": "stderr",
     "output_type": "stream",
     "text": [
      "10651it [56:51,  3.08it/s]"
     ]
    },
    {
     "name": "stdout",
     "output_type": "stream",
     "text": [
      "Failed gettin linkids 1226896464 985723988\n"
     ]
    },
    {
     "name": "stderr",
     "output_type": "stream",
     "text": [
      "10692it [57:04,  3.31it/s]"
     ]
    },
    {
     "name": "stdout",
     "output_type": "stream",
     "text": [
      "Failed gettin linkids 806679951 806679952\n"
     ]
    },
    {
     "name": "stderr",
     "output_type": "stream",
     "text": [
      "10763it [57:26,  3.27it/s]"
     ]
    },
    {
     "name": "stdout",
     "output_type": "stream",
     "text": [
      "Failed gettin linkids 881129507 80279618\n"
     ]
    },
    {
     "name": "stderr",
     "output_type": "stream",
     "text": [
      "10773it [57:30,  3.37it/s]"
     ]
    },
    {
     "name": "stdout",
     "output_type": "stream",
     "text": [
      "Failed gettin linkids 542439634 1172371671\n"
     ]
    },
    {
     "name": "stderr",
     "output_type": "stream",
     "text": [
      "11018it [58:47,  3.26it/s]"
     ]
    },
    {
     "name": "stdout",
     "output_type": "stream",
     "text": [
      "Failed gettin linkids 811401512 811401513\n"
     ]
    },
    {
     "name": "stderr",
     "output_type": "stream",
     "text": [
      "11128it [59:21,  3.36it/s]"
     ]
    },
    {
     "name": "stdout",
     "output_type": "stream",
     "text": [
      "Failed gettin linkids 772342663 901317510\n"
     ]
    },
    {
     "name": "stderr",
     "output_type": "stream",
     "text": [
      "11129it [59:21,  3.42it/s]"
     ]
    },
    {
     "name": "stdout",
     "output_type": "stream",
     "text": [
      "Failed gettin linkids 901317512 901317514\n"
     ]
    },
    {
     "name": "stderr",
     "output_type": "stream",
     "text": [
      "11176it [59:36,  3.25it/s]"
     ]
    },
    {
     "name": "stdout",
     "output_type": "stream",
     "text": [
      "Failed gettin linkids 553190510 553190511\n"
     ]
    },
    {
     "name": "stderr",
     "output_type": "stream",
     "text": [
      "11179it [59:37,  3.18it/s]"
     ]
    },
    {
     "name": "stdout",
     "output_type": "stream",
     "text": [
      "Failed gettin linkids 759760002 759760005\n"
     ]
    },
    {
     "name": "stderr",
     "output_type": "stream",
     "text": [
      "11199it [59:43,  3.17it/s]"
     ]
    },
    {
     "name": "stdout",
     "output_type": "stream",
     "text": [
      "Failed gettin linkids 897647831 897647834\n"
     ]
    },
    {
     "name": "stderr",
     "output_type": "stream",
     "text": [
      "11261it [1:00:02,  3.38it/s]"
     ]
    },
    {
     "name": "stdout",
     "output_type": "stream",
     "text": [
      "Failed gettin linkids 1202259439 997000690\n"
     ]
    },
    {
     "name": "stderr",
     "output_type": "stream",
     "text": [
      "11288it [1:00:11,  3.33it/s]"
     ]
    },
    {
     "name": "stdout",
     "output_type": "stream",
     "text": [
      "Failed gettin linkids 1178666680 1152452282\n"
     ]
    },
    {
     "name": "stderr",
     "output_type": "stream",
     "text": [
      "11358it [1:00:32,  3.14it/s]"
     ]
    },
    {
     "name": "stdout",
     "output_type": "stream",
     "text": [
      "Failed gettin linkids 743770349 553191662\n"
     ]
    },
    {
     "name": "stderr",
     "output_type": "stream",
     "text": [
      "11384it [1:00:40,  3.19it/s]"
     ]
    },
    {
     "name": "stdout",
     "output_type": "stream",
     "text": [
      "Failed gettin linkids 553191779 717556068\n"
     ]
    },
    {
     "name": "stderr",
     "output_type": "stream",
     "text": [
      "11386it [1:00:41,  3.27it/s]"
     ]
    },
    {
     "name": "stdout",
     "output_type": "stream",
     "text": [
      "Failed gettin linkids 553191797 553191798\n"
     ]
    },
    {
     "name": "stderr",
     "output_type": "stream",
     "text": [
      "11390it [1:00:42,  3.20it/s]"
     ]
    },
    {
     "name": "stdout",
     "output_type": "stream",
     "text": [
      "Failed gettin linkids 821365147 826608028\n"
     ]
    },
    {
     "name": "stderr",
     "output_type": "stream",
     "text": [
      "11420it [1:00:52,  3.32it/s]"
     ]
    },
    {
     "name": "stdout",
     "output_type": "stream",
     "text": [
      "Failed gettin linkids 897649212 897649213\n"
     ]
    },
    {
     "name": "stderr",
     "output_type": "stream",
     "text": [
      "11570it [1:01:45,  2.85it/s]"
     ]
    },
    {
     "name": "stdout",
     "output_type": "stream",
     "text": [
      "Failed gettin linkids 1222970931 1200950854\n"
     ]
    },
    {
     "name": "stderr",
     "output_type": "stream",
     "text": [
      "11600it [1:01:56,  3.13it/s]"
     ]
    },
    {
     "name": "stdout",
     "output_type": "stream",
     "text": [
      "Failed gettin linkids 587534112 587534113\n"
     ]
    },
    {
     "name": "stderr",
     "output_type": "stream",
     "text": [
      "11651it [1:02:13,  2.82it/s]"
     ]
    },
    {
     "name": "stdout",
     "output_type": "stream",
     "text": [
      "Failed gettin linkids 733024245 553193463\n"
     ]
    },
    {
     "name": "stderr",
     "output_type": "stream",
     "text": [
      "11673it [1:02:21,  2.61it/s]"
     ]
    },
    {
     "name": "stdout",
     "output_type": "stream",
     "text": [
      "Failed gettin linkids 553193606 553193607\n"
     ]
    },
    {
     "name": "stderr",
     "output_type": "stream",
     "text": [
      "11809it [1:03:05,  3.10it/s]"
     ]
    },
    {
     "name": "stdout",
     "output_type": "stream",
     "text": [
      "Failed gettin linkids 1156912155 553194525\n"
     ]
    },
    {
     "name": "stderr",
     "output_type": "stream",
     "text": [
      "11838it [1:03:15,  3.20it/s]"
     ]
    },
    {
     "name": "stdout",
     "output_type": "stream",
     "text": [
      "Failed gettin linkids 553194716 587535578\n"
     ]
    },
    {
     "name": "stderr",
     "output_type": "stream",
     "text": [
      "11894it [1:03:33,  3.29it/s]"
     ]
    },
    {
     "name": "stdout",
     "output_type": "stream",
     "text": [
      "Failed gettin linkids 553195075 553195076\n"
     ]
    },
    {
     "name": "stderr",
     "output_type": "stream",
     "text": [
      "12032it [1:04:18,  3.02it/s]"
     ]
    },
    {
     "name": "stdout",
     "output_type": "stream",
     "text": [
      "Failed gettin linkids 553195760 1212225776\n"
     ]
    },
    {
     "name": "stderr",
     "output_type": "stream",
     "text": [
      "12057it [1:04:26,  3.31it/s]"
     ]
    },
    {
     "name": "stdout",
     "output_type": "stream",
     "text": [
      "Failed gettin linkids 1054153157 1054153161\n"
     ]
    },
    {
     "name": "stderr",
     "output_type": "stream",
     "text": [
      "12058it [1:04:27,  3.43it/s]"
     ]
    },
    {
     "name": "stdout",
     "output_type": "stream",
     "text": [
      "Failed gettin linkids 1054153165 1054153167\n"
     ]
    },
    {
     "name": "stderr",
     "output_type": "stream",
     "text": [
      "12087it [1:04:35,  3.29it/s]"
     ]
    },
    {
     "name": "stdout",
     "output_type": "stream",
     "text": [
      "Failed gettin linkids 553196140 799349365\n"
     ]
    },
    {
     "name": "stderr",
     "output_type": "stream",
     "text": [
      "12118it [1:04:45,  3.36it/s]"
     ]
    },
    {
     "name": "stdout",
     "output_type": "stream",
     "text": [
      "Failed gettin linkids 553196270 553196271\n"
     ]
    },
    {
     "name": "stderr",
     "output_type": "stream",
     "text": [
      "12231it [1:05:22,  2.23it/s]"
     ]
    },
    {
     "name": "stdout",
     "output_type": "stream",
     "text": [
      "Failed gettin linkids 1221416898 1221416899\n"
     ]
    },
    {
     "name": "stderr",
     "output_type": "stream",
     "text": [
      "12542it [1:07:07,  3.31it/s]"
     ]
    },
    {
     "name": "stdout",
     "output_type": "stream",
     "text": [
      "Failed gettin linkids 1157967308 901328332\n"
     ]
    },
    {
     "name": "stderr",
     "output_type": "stream",
     "text": [
      "12701it [1:07:56,  3.27it/s]"
     ]
    },
    {
     "name": "stdout",
     "output_type": "stream",
     "text": [
      "Failed gettin linkids 772355050 772355056\n"
     ]
    },
    {
     "name": "stderr",
     "output_type": "stream",
     "text": [
      "12753it [1:08:12,  3.38it/s]"
     ]
    },
    {
     "name": "stdout",
     "output_type": "stream",
     "text": [
      "Failed gettin linkids 806958590 1219835408\n"
     ]
    },
    {
     "name": "stderr",
     "output_type": "stream",
     "text": [
      "12754it [1:08:12,  3.47it/s]"
     ]
    },
    {
     "name": "stdout",
     "output_type": "stream",
     "text": [
      "Failed gettin linkids 1219835409 1226389041\n"
     ]
    },
    {
     "name": "stderr",
     "output_type": "stream",
     "text": [
      "12876it [1:08:51,  3.15it/s]"
     ]
    },
    {
     "name": "stdout",
     "output_type": "stream",
     "text": [
      "Failed gettin linkids 1124940181 799619480\n"
     ]
    },
    {
     "name": "stderr",
     "output_type": "stream",
     "text": [
      "12907it [1:09:01,  3.23it/s]"
     ]
    },
    {
     "name": "stdout",
     "output_type": "stream",
     "text": [
      "Failed gettin linkids 553204448 906574607\n"
     ]
    },
    {
     "name": "stderr",
     "output_type": "stream",
     "text": [
      "13114it [1:10:10,  3.09it/s]"
     ]
    },
    {
     "name": "stdout",
     "output_type": "stream",
     "text": [
      "Failed gettin linkids 1194148179 553206104\n"
     ]
    },
    {
     "name": "stderr",
     "output_type": "stream",
     "text": [
      "13118it [1:10:12,  3.24it/s]"
     ]
    },
    {
     "name": "stdout",
     "output_type": "stream",
     "text": [
      "Failed gettin linkids 553206122 799621481\n"
     ]
    },
    {
     "name": "stderr",
     "output_type": "stream",
     "text": [
      "13119it [1:10:12,  3.39it/s]"
     ]
    },
    {
     "name": "stdout",
     "output_type": "stream",
     "text": [
      "Failed gettin linkids 799621484 799621486\n"
     ]
    },
    {
     "name": "stderr",
     "output_type": "stream",
     "text": [
      "13280it [1:11:05,  2.98it/s]"
     ]
    },
    {
     "name": "stdout",
     "output_type": "stream",
     "text": [
      "Failed gettin linkids 774456828 901334550\n"
     ]
    },
    {
     "name": "stderr",
     "output_type": "stream",
     "text": [
      "13287it [1:11:08,  3.17it/s]"
     ]
    },
    {
     "name": "stdout",
     "output_type": "stream",
     "text": [
      "Failed gettin linkids 806700641 806700642\n"
     ]
    },
    {
     "name": "stderr",
     "output_type": "stream",
     "text": [
      "13308it [1:11:14,  3.25it/s]"
     ]
    },
    {
     "name": "stdout",
     "output_type": "stream",
     "text": [
      "Failed gettin linkids 1195523529 806700771\n"
     ]
    },
    {
     "name": "stderr",
     "output_type": "stream",
     "text": [
      "13357it [1:11:30,  3.15it/s]"
     ]
    },
    {
     "name": "stdout",
     "output_type": "stream",
     "text": [
      "Failed gettin linkids 553207851 902121515\n"
     ]
    },
    {
     "name": "stderr",
     "output_type": "stream",
     "text": [
      "13473it [1:12:07,  3.26it/s]"
     ]
    },
    {
     "name": "stdout",
     "output_type": "stream",
     "text": [
      "Failed gettin linkids 799624097 799624098\n"
     ]
    },
    {
     "name": "stderr",
     "output_type": "stream",
     "text": [
      "13498it [1:12:15,  3.12it/s]"
     ]
    },
    {
     "name": "stdout",
     "output_type": "stream",
     "text": [
      "Failed gettin linkids 866995437 553209074\n"
     ]
    },
    {
     "name": "stderr",
     "output_type": "stream",
     "text": [
      "13595it [1:12:48,  2.95it/s]"
     ]
    },
    {
     "name": "stdout",
     "output_type": "stream",
     "text": [
      "Failed gettin linkids 1213343195 812994171\n"
     ]
    },
    {
     "name": "stderr",
     "output_type": "stream",
     "text": [
      "13769it [1:13:37,  3.67it/s]"
     ]
    },
    {
     "name": "stdout",
     "output_type": "stream",
     "text": [
      "Failed gettin linkids 1219843059 1159025651\n"
     ]
    },
    {
     "name": "stderr",
     "output_type": "stream",
     "text": [
      "13985it [1:14:39,  3.53it/s]"
     ]
    },
    {
     "name": "stdout",
     "output_type": "stream",
     "text": [
      "Failed gettin linkids 553211718 553211719\n"
     ]
    },
    {
     "name": "stderr",
     "output_type": "stream",
     "text": [
      "14013it [1:14:46,  3.59it/s]"
     ]
    },
    {
     "name": "stdout",
     "output_type": "stream",
     "text": [
      "Failed gettin linkids 1197561756 553211809\n"
     ]
    },
    {
     "name": "stderr",
     "output_type": "stream",
     "text": [
      "14014it [1:14:47,  3.49it/s]"
     ]
    },
    {
     "name": "stdout",
     "output_type": "stream",
     "text": [
      "Failed gettin linkids 553211811 553211815\n"
     ]
    },
    {
     "name": "stderr",
     "output_type": "stream",
     "text": [
      "14023it [1:14:49,  3.42it/s]"
     ]
    },
    {
     "name": "stdout",
     "output_type": "stream",
     "text": [
      "Failed gettin linkids 553211841 881153985\n"
     ]
    },
    {
     "name": "stderr",
     "output_type": "stream",
     "text": [
      "14029it [1:14:51,  3.57it/s]"
     ]
    },
    {
     "name": "stdout",
     "output_type": "stream",
     "text": [
      "Failed gettin linkids 553211851 588601290\n"
     ]
    },
    {
     "name": "stderr",
     "output_type": "stream",
     "text": [
      "14116it [1:15:16,  3.49it/s]"
     ]
    },
    {
     "name": "stdout",
     "output_type": "stream",
     "text": [
      "Failed gettin linkids 711547278 711547287\n"
     ]
    },
    {
     "name": "stderr",
     "output_type": "stream",
     "text": [
      "14126it [1:15:19,  3.50it/s]"
     ]
    },
    {
     "name": "stdout",
     "output_type": "stream",
     "text": [
      "Failed gettin linkids 743791050 711547340\n"
     ]
    },
    {
     "name": "stderr",
     "output_type": "stream",
     "text": [
      "14158it [1:15:28,  3.55it/s]"
     ]
    },
    {
     "name": "stdout",
     "output_type": "stream",
     "text": [
      "Failed gettin linkids 711547465 711547470\n"
     ]
    },
    {
     "name": "stderr",
     "output_type": "stream",
     "text": [
      "14406it [1:16:41,  3.56it/s]"
     ]
    },
    {
     "name": "stdout",
     "output_type": "stream",
     "text": [
      "Failed gettin linkids 880632986 553215143\n"
     ]
    },
    {
     "name": "stderr",
     "output_type": "stream",
     "text": [
      "14429it [1:16:47,  3.68it/s]"
     ]
    },
    {
     "name": "stdout",
     "output_type": "stream",
     "text": [
      "Failed gettin linkids 708404563 708404564\n"
     ]
    },
    {
     "name": "stderr",
     "output_type": "stream",
     "text": [
      "14480it [1:17:02,  3.55it/s]"
     ]
    },
    {
     "name": "stdout",
     "output_type": "stream",
     "text": [
      "Failed gettin linkids 1252616240 778659920\n"
     ]
    },
    {
     "name": "stderr",
     "output_type": "stream",
     "text": [
      "14490it [1:17:05,  3.54it/s]"
     ]
    },
    {
     "name": "stdout",
     "output_type": "stream",
     "text": [
      "Failed gettin linkids 553216201 553216202\n"
     ]
    },
    {
     "name": "stderr",
     "output_type": "stream",
     "text": [
      "14527it [1:17:15,  3.51it/s]"
     ]
    },
    {
     "name": "stdout",
     "output_type": "stream",
     "text": [
      "Failed gettin linkids 916285897 987589069\n"
     ]
    },
    {
     "name": "stderr",
     "output_type": "stream",
     "text": [
      "14719it [1:18:10,  3.54it/s]"
     ]
    },
    {
     "name": "stdout",
     "output_type": "stream",
     "text": [
      "Failed gettin linkids 771584136 771584137\n"
     ]
    },
    {
     "name": "stderr",
     "output_type": "stream",
     "text": [
      "14981it [1:19:26,  3.47it/s]"
     ]
    },
    {
     "name": "stdout",
     "output_type": "stream",
     "text": [
      "Failed gettin linkids 1219852833 1219852834\n"
     ]
    },
    {
     "name": "stderr",
     "output_type": "stream",
     "text": [
      "14999it [1:19:31,  3.59it/s]"
     ]
    },
    {
     "name": "stdout",
     "output_type": "stream",
     "text": [
      "Failed gettin linkids 1205435056 786266833\n"
     ]
    },
    {
     "name": "stderr",
     "output_type": "stream",
     "text": [
      "15005it [1:19:33,  3.49it/s]"
     ]
    },
    {
     "name": "stdout",
     "output_type": "stream",
     "text": [
      "Failed gettin linkids 1053129477 1053129479\n"
     ]
    },
    {
     "name": "stderr",
     "output_type": "stream",
     "text": [
      "15027it [1:19:39,  3.64it/s]"
     ]
    },
    {
     "name": "stdout",
     "output_type": "stream",
     "text": [
      "Failed gettin linkids 867269533 867269542\n"
     ]
    },
    {
     "name": "stderr",
     "output_type": "stream",
     "text": [
      "15137it [1:20:11,  3.56it/s]"
     ]
    },
    {
     "name": "stdout",
     "output_type": "stream",
     "text": [
      "Failed gettin linkids 1036091196 1036091199\n"
     ]
    },
    {
     "name": "stderr",
     "output_type": "stream",
     "text": [
      "15491it [1:21:54,  2.83it/s]"
     ]
    },
    {
     "name": "stdout",
     "output_type": "stream",
     "text": [
      "Failed gettin linkids 1044220382 1159039455\n"
     ]
    },
    {
     "name": "stderr",
     "output_type": "stream",
     "text": [
      "15581it [1:22:20,  3.51it/s]"
     ]
    },
    {
     "name": "stdout",
     "output_type": "stream",
     "text": [
      "Failed gettin linkids 708414820 708414821\n"
     ]
    },
    {
     "name": "stderr",
     "output_type": "stream",
     "text": [
      "15611it [1:22:29,  3.64it/s]"
     ]
    },
    {
     "name": "stdout",
     "output_type": "stream",
     "text": [
      "Failed gettin linkids 727551682 812224197\n"
     ]
    },
    {
     "name": "stderr",
     "output_type": "stream",
     "text": [
      "15694it [1:22:52,  3.76it/s]"
     ]
    },
    {
     "name": "stdout",
     "output_type": "stream",
     "text": [
      "Failed gettin linkids 588616196 708940286\n"
     ]
    },
    {
     "name": "stderr",
     "output_type": "stream",
     "text": [
      "15695it [1:22:52,  3.62it/s]"
     ]
    },
    {
     "name": "stdout",
     "output_type": "stream",
     "text": [
      "Failed gettin linkids 588616198 708940289\n"
     ]
    },
    {
     "name": "stderr",
     "output_type": "stream",
     "text": [
      "15850it [1:23:36,  3.66it/s]"
     ]
    },
    {
     "name": "stdout",
     "output_type": "stream",
     "text": [
      "Failed gettin linkids 545363732 545363736\n"
     ]
    },
    {
     "name": "stderr",
     "output_type": "stream",
     "text": [
      "15852it [1:23:37,  3.59it/s]"
     ]
    },
    {
     "name": "stdout",
     "output_type": "stream",
     "text": [
      "Failed gettin linkids 915773221 915773223\n"
     ]
    },
    {
     "name": "stderr",
     "output_type": "stream",
     "text": [
      "16106it [1:24:47,  3.72it/s]"
     ]
    },
    {
     "name": "stdout",
     "output_type": "stream",
     "text": [
      "Failed gettin linkids 588619494 917610215\n"
     ]
    },
    {
     "name": "stderr",
     "output_type": "stream",
     "text": [
      "16115it [1:24:49,  3.81it/s]"
     ]
    },
    {
     "name": "stdout",
     "output_type": "stream",
     "text": [
      "Failed gettin linkids 905551661 905551662\n"
     ]
    },
    {
     "name": "stderr",
     "output_type": "stream",
     "text": [
      "16143it [1:24:57,  3.80it/s]"
     ]
    },
    {
     "name": "stdout",
     "output_type": "stream",
     "text": [
      "Failed gettin linkids 1161404339 588619721\n"
     ]
    },
    {
     "name": "stderr",
     "output_type": "stream",
     "text": [
      "16182it [1:25:09,  2.52it/s]"
     ]
    },
    {
     "name": "stdout",
     "output_type": "stream",
     "text": [
      "Failed gettin linkids 945660106 925999307\n"
     ]
    },
    {
     "name": "stderr",
     "output_type": "stream",
     "text": [
      "16203it [1:25:14,  3.75it/s]"
     ]
    },
    {
     "name": "stdout",
     "output_type": "stream",
     "text": [
      "Failed gettin linkids 868065568 868065570\n"
     ]
    },
    {
     "name": "stderr",
     "output_type": "stream",
     "text": [
      "16326it [1:25:48,  3.55it/s]"
     ]
    },
    {
     "name": "stdout",
     "output_type": "stream",
     "text": [
      "Failed gettin linkids 925738211 925738214\n"
     ]
    },
    {
     "name": "stderr",
     "output_type": "stream",
     "text": [
      "16343it [1:25:53,  3.78it/s]"
     ]
    },
    {
     "name": "stdout",
     "output_type": "stream",
     "text": [
      "Failed gettin linkids 765306260 769238451\n"
     ]
    },
    {
     "name": "stderr",
     "output_type": "stream",
     "text": [
      "16496it [1:26:36,  2.93it/s]"
     ]
    },
    {
     "name": "stdout",
     "output_type": "stream",
     "text": [
      "Failed gettin linkids 1217244431 1213836560\n"
     ]
    },
    {
     "name": "stderr",
     "output_type": "stream",
     "text": [
      "16563it [1:26:55,  3.86it/s]"
     ]
    },
    {
     "name": "stdout",
     "output_type": "stream",
     "text": [
      "Failed gettin linkids 863612761 863612767\n"
     ]
    },
    {
     "name": "stderr",
     "output_type": "stream",
     "text": [
      "16575it [1:26:58,  3.72it/s]"
     ]
    },
    {
     "name": "stdout",
     "output_type": "stream",
     "text": [
      "Failed gettin linkids 863612815 863612818\n"
     ]
    },
    {
     "name": "stderr",
     "output_type": "stream",
     "text": [
      "16767it [1:27:51,  3.72it/s]"
     ]
    },
    {
     "name": "stdout",
     "output_type": "stream",
     "text": [
      "Failed gettin linkids 1047377684 867284756\n"
     ]
    },
    {
     "name": "stderr",
     "output_type": "stream",
     "text": [
      "16810it [1:28:03,  3.63it/s]"
     ]
    },
    {
     "name": "stdout",
     "output_type": "stream",
     "text": [
      "Failed gettin linkids 757971304 757971313\n"
     ]
    },
    {
     "name": "stderr",
     "output_type": "stream",
     "text": [
      "17232it [1:30:02,  3.17it/s]"
     ]
    },
    {
     "name": "stdout",
     "output_type": "stream",
     "text": [
      "Failed gettin linkids 909493441 948815040\n"
     ]
    },
    {
     "name": "stderr",
     "output_type": "stream",
     "text": [
      "17301it [1:30:22,  3.68it/s]"
     ]
    },
    {
     "name": "stdout",
     "output_type": "stream",
     "text": [
      "Failed gettin linkids 1120257933 1162463119\n"
     ]
    },
    {
     "name": "stderr",
     "output_type": "stream",
     "text": [
      "17377it [1:30:43,  3.71it/s]"
     ]
    },
    {
     "name": "stdout",
     "output_type": "stream",
     "text": [
      "Failed gettin linkids 743819964 743819965\n"
     ]
    },
    {
     "name": "stderr",
     "output_type": "stream",
     "text": [
      "17430it [1:30:57,  3.65it/s]"
     ]
    },
    {
     "name": "stdout",
     "output_type": "stream",
     "text": [
      "Failed gettin linkids 895602327 806735573\n"
     ]
    },
    {
     "name": "stderr",
     "output_type": "stream",
     "text": [
      "17591it [1:31:42,  3.63it/s]"
     ]
    },
    {
     "name": "stdout",
     "output_type": "stream",
     "text": [
      "Failed gettin linkids 1219614006 987878713\n"
     ]
    },
    {
     "name": "stderr",
     "output_type": "stream",
     "text": [
      "17674it [1:32:05,  3.71it/s]"
     ]
    },
    {
     "name": "stdout",
     "output_type": "stream",
     "text": [
      "Failed gettin linkids 915265599 915265600\n"
     ]
    },
    {
     "name": "stderr",
     "output_type": "stream",
     "text": [
      "17809it [1:32:42,  3.72it/s]"
     ]
    },
    {
     "name": "stdout",
     "output_type": "stream",
     "text": [
      "Failed gettin linkids 915266776 915266778\n"
     ]
    },
    {
     "name": "stderr",
     "output_type": "stream",
     "text": [
      "18089it [1:34:01,  3.63it/s]"
     ]
    },
    {
     "name": "stdout",
     "output_type": "stream",
     "text": [
      "Failed gettin linkids 774497514 553247979\n"
     ]
    },
    {
     "name": "stderr",
     "output_type": "stream",
     "text": [
      "18213it [1:34:35,  3.77it/s]"
     ]
    },
    {
     "name": "stdout",
     "output_type": "stream",
     "text": [
      "Failed gettin linkids 553248682 587589546\n"
     ]
    },
    {
     "name": "stderr",
     "output_type": "stream",
     "text": [
      "18244it [1:34:44,  3.69it/s]"
     ]
    },
    {
     "name": "stdout",
     "output_type": "stream",
     "text": [
      "Failed gettin linkids 587589875 587589876\n"
     ]
    },
    {
     "name": "stderr",
     "output_type": "stream",
     "text": [
      "18288it [1:34:56,  3.49it/s]"
     ]
    },
    {
     "name": "stdout",
     "output_type": "stream",
     "text": [
      "Failed gettin linkids 1162471932 1162471933\n"
     ]
    },
    {
     "name": "stderr",
     "output_type": "stream",
     "text": [
      "18443it [1:35:39,  3.73it/s]"
     ]
    },
    {
     "name": "stdout",
     "output_type": "stream",
     "text": [
      "Failed gettin linkids 1172696275 1000729812\n"
     ]
    },
    {
     "name": "stderr",
     "output_type": "stream",
     "text": [
      "18483it [1:35:50,  3.53it/s]"
     ]
    },
    {
     "name": "stdout",
     "output_type": "stream",
     "text": [
      "Failed gettin linkids 877522309 877522310\n"
     ]
    },
    {
     "name": "stderr",
     "output_type": "stream",
     "text": [
      "18553it [1:36:11,  3.45it/s]"
     ]
    },
    {
     "name": "stdout",
     "output_type": "stream",
     "text": [
      "Failed gettin linkids 1113452388 917106535\n"
     ]
    },
    {
     "name": "stderr",
     "output_type": "stream",
     "text": [
      "18663it [1:36:47,  3.51it/s]"
     ]
    },
    {
     "name": "stdout",
     "output_type": "stream",
     "text": [
      "Failed gettin linkids 1053160309 867300215\n"
     ]
    },
    {
     "name": "stderr",
     "output_type": "stream",
     "text": [
      "18773it [1:37:19,  3.49it/s]"
     ]
    },
    {
     "name": "stdout",
     "output_type": "stream",
     "text": [
      "Failed gettin linkids 553252188 851572066\n"
     ]
    },
    {
     "name": "stderr",
     "output_type": "stream",
     "text": [
      "18775it [1:37:19,  3.58it/s]"
     ]
    },
    {
     "name": "stdout",
     "output_type": "stream",
     "text": [
      "Failed gettin linkids 553252203 553252204\n"
     ]
    },
    {
     "name": "stderr",
     "output_type": "stream",
     "text": [
      "18788it [1:37:23,  3.55it/s]"
     ]
    },
    {
     "name": "stdout",
     "output_type": "stream",
     "text": [
      "Failed gettin linkids 709752292 709752293\n"
     ]
    },
    {
     "name": "stderr",
     "output_type": "stream",
     "text": [
      "18964it [1:38:14,  3.52it/s]"
     ]
    },
    {
     "name": "stdout",
     "output_type": "stream",
     "text": [
      "Failed gettin linkids 875166157 553253329\n"
     ]
    },
    {
     "name": "stderr",
     "output_type": "stream",
     "text": [
      "18973it [1:38:17,  3.40it/s]"
     ]
    },
    {
     "name": "stdout",
     "output_type": "stream",
     "text": [
      "Failed gettin linkids 875166186 875166187\n"
     ]
    },
    {
     "name": "stderr",
     "output_type": "stream",
     "text": [
      "18995it [1:38:23,  3.59it/s]"
     ]
    },
    {
     "name": "stdout",
     "output_type": "stream",
     "text": [
      "Failed gettin linkids 1125776040 1125776041\n"
     ]
    },
    {
     "name": "stderr",
     "output_type": "stream",
     "text": [
      "18996it [1:38:23,  3.58it/s]"
     ]
    },
    {
     "name": "stdout",
     "output_type": "stream",
     "text": [
      "Failed gettin linkids 1125776042 1138883253\n"
     ]
    },
    {
     "name": "stderr",
     "output_type": "stream",
     "text": [
      "19060it [1:38:42,  3.55it/s]"
     ]
    },
    {
     "name": "stdout",
     "output_type": "stream",
     "text": [
      "Failed gettin linkids 907148399 907148400\n"
     ]
    },
    {
     "name": "stderr",
     "output_type": "stream",
     "text": [
      "19168it [1:39:15,  3.54it/s]"
     ]
    },
    {
     "name": "stdout",
     "output_type": "stream",
     "text": [
      "Failed gettin linkids 717619166 717619167\n"
     ]
    },
    {
     "name": "stderr",
     "output_type": "stream",
     "text": [
      "19241it [1:39:39,  3.66it/s]"
     ]
    },
    {
     "name": "stdout",
     "output_type": "stream",
     "text": [
      "Failed gettin linkids 707658090 537264492\n"
     ]
    },
    {
     "name": "stderr",
     "output_type": "stream",
     "text": [
      "19295it [1:39:55,  3.49it/s]"
     ]
    },
    {
     "name": "stdout",
     "output_type": "stream",
     "text": [
      "Failed gettin linkids 537264711 537264712\n"
     ]
    },
    {
     "name": "stderr",
     "output_type": "stream",
     "text": [
      "19464it [1:40:47,  3.72it/s]"
     ]
    },
    {
     "name": "stdout",
     "output_type": "stream",
     "text": [
      "Failed gettin linkids 901121384 593888621\n"
     ]
    },
    {
     "name": "stderr",
     "output_type": "stream",
     "text": [
      "19551it [1:41:12,  3.24it/s]"
     ]
    },
    {
     "name": "stdout",
     "output_type": "stream",
     "text": [
      "Failed gettin linkids 871499375 593888881\n"
     ]
    },
    {
     "name": "stderr",
     "output_type": "stream",
     "text": [
      "19666it [1:41:49,  3.12it/s]"
     ]
    },
    {
     "name": "stdout",
     "output_type": "stream",
     "text": [
      "Failed gettin linkids 537266335 1227229350\n"
     ]
    },
    {
     "name": "stderr",
     "output_type": "stream",
     "text": [
      "19716it [1:42:06,  3.31it/s]"
     ]
    },
    {
     "name": "stdout",
     "output_type": "stream",
     "text": [
      "Failed gettin linkids 537266523 1212025180\n"
     ]
    },
    {
     "name": "stderr",
     "output_type": "stream",
     "text": [
      "19737it [1:42:15,  2.39it/s]"
     ]
    },
    {
     "name": "stdout",
     "output_type": "stream",
     "text": [
      "Failed gettin linkids 537266623 537266624\n"
     ]
    },
    {
     "name": "stderr",
     "output_type": "stream",
     "text": [
      "19760it [1:42:23,  3.36it/s]"
     ]
    },
    {
     "name": "stdout",
     "output_type": "stream",
     "text": [
      "Failed gettin linkids 901122631 901122634\n"
     ]
    },
    {
     "name": "stderr",
     "output_type": "stream",
     "text": [
      "19835it [1:42:46,  3.37it/s]"
     ]
    },
    {
     "name": "stdout",
     "output_type": "stream",
     "text": [
      "Failed gettin linkids 575015731 575015732\n"
     ]
    },
    {
     "name": "stderr",
     "output_type": "stream",
     "text": [
      "19881it [1:43:01,  3.20it/s]"
     ]
    },
    {
     "name": "stdout",
     "output_type": "stream",
     "text": [
      "Failed gettin linkids 575015839 740428701\n"
     ]
    },
    {
     "name": "stderr",
     "output_type": "stream",
     "text": [
      "19907it [1:43:10,  3.12it/s]"
     ]
    },
    {
     "name": "stdout",
     "output_type": "stream",
     "text": [
      "Failed gettin linkids 537267175 829295591\n"
     ]
    },
    {
     "name": "stderr",
     "output_type": "stream",
     "text": [
      "19909it [1:43:10,  3.13it/s]"
     ]
    },
    {
     "name": "stdout",
     "output_type": "stream",
     "text": [
      "Failed gettin linkids 811469802 829295592\n"
     ]
    },
    {
     "name": "stderr",
     "output_type": "stream",
     "text": [
      "19910it [1:43:11,  3.29it/s]"
     ]
    },
    {
     "name": "stdout",
     "output_type": "stream",
     "text": [
      "Failed gettin linkids 1166412775 829295593\n"
     ]
    },
    {
     "name": "stderr",
     "output_type": "stream",
     "text": [
      "20060it [1:43:59,  3.30it/s]"
     ]
    },
    {
     "name": "stdout",
     "output_type": "stream",
     "text": [
      "Failed gettin linkids 575016343 575016344\n"
     ]
    },
    {
     "name": "stderr",
     "output_type": "stream",
     "text": [
      "20161it [1:44:31,  3.22it/s]"
     ]
    },
    {
     "name": "stdout",
     "output_type": "stream",
     "text": [
      "Failed gettin linkids 851578546 851578551\n"
     ]
    },
    {
     "name": "stderr",
     "output_type": "stream",
     "text": [
      "20165it [1:44:32,  3.10it/s]"
     ]
    },
    {
     "name": "stdout",
     "output_type": "stream",
     "text": [
      "Failed gettin linkids 851578562 724700876\n"
     ]
    },
    {
     "name": "stderr",
     "output_type": "stream",
     "text": [
      "20262it [1:45:04,  3.33it/s]"
     ]
    },
    {
     "name": "stdout",
     "output_type": "stream",
     "text": [
      "Failed gettin linkids 1176375264 575016930\n"
     ]
    },
    {
     "name": "stderr",
     "output_type": "stream",
     "text": [
      "20290it [1:45:13,  3.07it/s]"
     ]
    },
    {
     "name": "stdout",
     "output_type": "stream",
     "text": [
      "Failed gettin linkids 537268295 575017032\n"
     ]
    },
    {
     "name": "stderr",
     "output_type": "stream",
     "text": [
      "20408it [1:45:55,  2.72it/s]"
     ]
    },
    {
     "name": "stdout",
     "output_type": "stream",
     "text": [
      "Failed gettin linkids 851579471 593891922\n"
     ]
    },
    {
     "name": "stderr",
     "output_type": "stream",
     "text": [
      "20411it [1:45:56,  2.93it/s]"
     ]
    },
    {
     "name": "stdout",
     "output_type": "stream",
     "text": [
      "Failed gettin linkids 537268826 537268832\n"
     ]
    },
    {
     "name": "stderr",
     "output_type": "stream",
     "text": [
      "20458it [1:46:15,  3.05it/s]"
     ]
    },
    {
     "name": "stdout",
     "output_type": "stream",
     "text": [
      "Failed gettin linkids 593892130 593892131\n"
     ]
    },
    {
     "name": "stderr",
     "output_type": "stream",
     "text": [
      "20492it [1:46:26,  2.73it/s]"
     ]
    },
    {
     "name": "stdout",
     "output_type": "stream",
     "text": [
      "Failed gettin linkids 593892281 537269178\n"
     ]
    },
    {
     "name": "stderr",
     "output_type": "stream",
     "text": [
      "20540it [1:46:44,  2.70it/s]"
     ]
    },
    {
     "name": "stdout",
     "output_type": "stream",
     "text": [
      "Failed gettin linkids 746984512 593892420\n"
     ]
    },
    {
     "name": "stderr",
     "output_type": "stream",
     "text": [
      "20628it [1:47:16,  3.38it/s]"
     ]
    },
    {
     "name": "stdout",
     "output_type": "stream",
     "text": [
      "Failed gettin linkids 593892733 537269631\n"
     ]
    },
    {
     "name": "stderr",
     "output_type": "stream",
     "text": [
      "20758it [1:48:02,  3.22it/s]"
     ]
    },
    {
     "name": "stdout",
     "output_type": "stream",
     "text": [
      "Failed gettin linkids 537270107 593893212\n"
     ]
    },
    {
     "name": "stderr",
     "output_type": "stream",
     "text": [
      "20858it [1:48:36,  3.34it/s]"
     ]
    },
    {
     "name": "stdout",
     "output_type": "stream",
     "text": [
      "Failed gettin linkids 593893594 593893596\n"
     ]
    },
    {
     "name": "stderr",
     "output_type": "stream",
     "text": [
      "20866it [1:48:39,  3.05it/s]"
     ]
    },
    {
     "name": "stdout",
     "output_type": "stream",
     "text": [
      "Failed gettin linkids 914757864 593893615\n"
     ]
    },
    {
     "name": "stderr",
     "output_type": "stream",
     "text": [
      "20910it [1:48:54,  2.98it/s]"
     ]
    },
    {
     "name": "stdout",
     "output_type": "stream",
     "text": [
      "Failed gettin linkids 907155831 593893752\n"
     ]
    },
    {
     "name": "stderr",
     "output_type": "stream",
     "text": [
      "20925it [1:48:59,  3.17it/s]"
     ]
    },
    {
     "name": "stdout",
     "output_type": "stream",
     "text": [
      "Failed gettin linkids 805968314 537270719\n"
     ]
    },
    {
     "name": "stderr",
     "output_type": "stream",
     "text": [
      "21073it [1:49:48,  3.09it/s]"
     ]
    },
    {
     "name": "stdout",
     "output_type": "stream",
     "text": [
      "Failed gettin linkids 575019915 593894282\n"
     ]
    },
    {
     "name": "stderr",
     "output_type": "stream",
     "text": [
      "21230it [1:50:41,  3.19it/s]"
     ]
    },
    {
     "name": "stdout",
     "output_type": "stream",
     "text": [
      "Failed gettin linkids 537271724 537271725\n"
     ]
    },
    {
     "name": "stderr",
     "output_type": "stream",
     "text": [
      "21252it [1:50:48,  3.16it/s]"
     ]
    },
    {
     "name": "stdout",
     "output_type": "stream",
     "text": [
      "Failed gettin linkids 537271812 537271813\n"
     ]
    },
    {
     "name": "stderr",
     "output_type": "stream",
     "text": [
      "21309it [1:51:09,  2.93it/s]"
     ]
    },
    {
     "name": "stdout",
     "output_type": "stream",
     "text": [
      "Failed gettin linkids 537272002 537272003\n"
     ]
    },
    {
     "name": "stderr",
     "output_type": "stream",
     "text": [
      "21461it [1:51:59,  3.29it/s]"
     ]
    },
    {
     "name": "stdout",
     "output_type": "stream",
     "text": [
      "Failed gettin linkids 867573895 537272456\n"
     ]
    },
    {
     "name": "stderr",
     "output_type": "stream",
     "text": [
      "21476it [1:52:04,  3.34it/s]"
     ]
    },
    {
     "name": "stdout",
     "output_type": "stream",
     "text": [
      "Failed gettin linkids 805970078 537272486\n"
     ]
    },
    {
     "name": "stderr",
     "output_type": "stream",
     "text": [
      "21482it [1:52:06,  3.17it/s]"
     ]
    },
    {
     "name": "stdout",
     "output_type": "stream",
     "text": [
      "Failed gettin linkids 593895593 593895596\n"
     ]
    },
    {
     "name": "stderr",
     "output_type": "stream",
     "text": [
      "21586it [1:52:40,  3.10it/s]"
     ]
    },
    {
     "name": "stdout",
     "output_type": "stream",
     "text": [
      "Failed gettin linkids 537272823 537272825\n"
     ]
    },
    {
     "name": "stderr",
     "output_type": "stream",
     "text": [
      "21599it [1:52:44,  3.35it/s]"
     ]
    },
    {
     "name": "stdout",
     "output_type": "stream",
     "text": [
      "Failed gettin linkids 905585166 537272851\n"
     ]
    },
    {
     "name": "stderr",
     "output_type": "stream",
     "text": [
      "21648it [1:52:59,  3.20it/s]"
     ]
    },
    {
     "name": "stdout",
     "output_type": "stream",
     "text": [
      "Failed gettin linkids 593896076 537272976\n"
     ]
    },
    {
     "name": "stderr",
     "output_type": "stream",
     "text": [
      "21682it [1:53:10,  3.32it/s]"
     ]
    },
    {
     "name": "stdout",
     "output_type": "stream",
     "text": [
      "Failed gettin linkids 850010858 759833333\n"
     ]
    },
    {
     "name": "stderr",
     "output_type": "stream",
     "text": [
      "21801it [1:53:48,  3.39it/s]"
     ]
    },
    {
     "name": "stdout",
     "output_type": "stream",
     "text": [
      "Failed gettin linkids 593896543 593896544\n"
     ]
    },
    {
     "name": "stderr",
     "output_type": "stream",
     "text": [
      "21827it [1:53:56,  3.27it/s]"
     ]
    },
    {
     "name": "stdout",
     "output_type": "stream",
     "text": [
      "Failed gettin linkids 537273494 537273499\n"
     ]
    },
    {
     "name": "stderr",
     "output_type": "stream",
     "text": [
      "21828it [1:53:56,  3.43it/s]"
     ]
    },
    {
     "name": "stdout",
     "output_type": "stream",
     "text": [
      "Failed gettin linkids 537273505 537273498\n"
     ]
    },
    {
     "name": "stderr",
     "output_type": "stream",
     "text": [
      "21840it [1:54:00,  3.33it/s]"
     ]
    },
    {
     "name": "stdout",
     "output_type": "stream",
     "text": [
      "Failed gettin linkids 537273537 537273538\n"
     ]
    },
    {
     "name": "stderr",
     "output_type": "stream",
     "text": [
      "21852it [1:54:04,  3.25it/s]"
     ]
    },
    {
     "name": "stdout",
     "output_type": "stream",
     "text": [
      "Failed gettin linkids 537273581 537273583\n"
     ]
    },
    {
     "name": "stderr",
     "output_type": "stream",
     "text": [
      "21862it [1:54:07,  3.27it/s]"
     ]
    },
    {
     "name": "stdout",
     "output_type": "stream",
     "text": [
      "Failed gettin linkids 537273622 537273627\n"
     ]
    },
    {
     "name": "stderr",
     "output_type": "stream",
     "text": [
      "21863it [1:54:07,  3.43it/s]"
     ]
    },
    {
     "name": "stdout",
     "output_type": "stream",
     "text": [
      "Failed gettin linkids 537273631 537273635\n"
     ]
    },
    {
     "name": "stderr",
     "output_type": "stream",
     "text": [
      "21866it [1:54:08,  3.43it/s]"
     ]
    },
    {
     "name": "stdout",
     "output_type": "stream",
     "text": [
      "Failed gettin linkids 537273652 537273655\n"
     ]
    },
    {
     "name": "stderr",
     "output_type": "stream",
     "text": [
      "21878it [1:54:12,  3.34it/s]"
     ]
    },
    {
     "name": "stdout",
     "output_type": "stream",
     "text": [
      "Failed gettin linkids 537273688 877274456\n"
     ]
    },
    {
     "name": "stderr",
     "output_type": "stream",
     "text": [
      "22144it [1:55:36,  3.25it/s]"
     ]
    },
    {
     "name": "stdout",
     "output_type": "stream",
     "text": [
      "Failed gettin linkids 1161177270 1161177271\n"
     ]
    },
    {
     "name": "stderr",
     "output_type": "stream",
     "text": [
      "22270it [1:56:15,  3.13it/s]"
     ]
    },
    {
     "name": "stdout",
     "output_type": "stream",
     "text": [
      "Failed gettin linkids 877275744 877275750\n"
     ]
    },
    {
     "name": "stderr",
     "output_type": "stream",
     "text": [
      "22473it [1:57:24,  3.17it/s]"
     ]
    },
    {
     "name": "stdout",
     "output_type": "stream",
     "text": [
      "Failed gettin linkids 711601489 537275733\n"
     ]
    },
    {
     "name": "stderr",
     "output_type": "stream",
     "text": [
      "22588it [1:58:03,  3.06it/s]"
     ]
    },
    {
     "name": "stdout",
     "output_type": "stream",
     "text": [
      "Failed gettin linkids 1047146140 575024801\n"
     ]
    },
    {
     "name": "stderr",
     "output_type": "stream",
     "text": [
      "22652it [1:58:26,  2.87it/s]"
     ]
    },
    {
     "name": "stdout",
     "output_type": "stream",
     "text": [
      "Failed gettin linkids 537276331 537276332\n"
     ]
    },
    {
     "name": "stderr",
     "output_type": "stream",
     "text": [
      "22977it [2:00:18,  3.29it/s]"
     ]
    },
    {
     "name": "stdout",
     "output_type": "stream",
     "text": [
      "Failed gettin linkids 537277361 537277362\n"
     ]
    },
    {
     "name": "stderr",
     "output_type": "stream",
     "text": [
      "23065it [2:00:47,  3.06it/s]"
     ]
    },
    {
     "name": "stdout",
     "output_type": "stream",
     "text": [
      "Failed gettin linkids 575026376 537277641\n"
     ]
    },
    {
     "name": "stderr",
     "output_type": "stream",
     "text": [
      "23098it [2:00:58,  3.03it/s]"
     ]
    },
    {
     "name": "stdout",
     "output_type": "stream",
     "text": [
      "Failed gettin linkids 575026461 575026464\n"
     ]
    },
    {
     "name": "stderr",
     "output_type": "stream",
     "text": [
      "23198it [2:01:31,  2.89it/s]"
     ]
    },
    {
     "name": "stdout",
     "output_type": "stream",
     "text": [
      "Failed gettin linkids 537278013 537278014\n"
     ]
    },
    {
     "name": "stderr",
     "output_type": "stream",
     "text": [
      "23229it [2:01:42,  3.17it/s]"
     ]
    },
    {
     "name": "stdout",
     "output_type": "stream",
     "text": [
      "Failed gettin linkids 537278160 575026896\n"
     ]
    },
    {
     "name": "stderr",
     "output_type": "stream",
     "text": [
      "23231it [2:01:42,  3.26it/s]"
     ]
    },
    {
     "name": "stdout",
     "output_type": "stream",
     "text": [
      "Failed gettin linkids 537278172 537278175\n"
     ]
    },
    {
     "name": "stderr",
     "output_type": "stream",
     "text": [
      "23278it [2:01:58,  2.91it/s]"
     ]
    },
    {
     "name": "stdout",
     "output_type": "stream",
     "text": [
      "Failed gettin linkids 575027071 537278336\n"
     ]
    },
    {
     "name": "stderr",
     "output_type": "stream",
     "text": [
      "23378it [2:02:31,  2.61it/s]"
     ]
    },
    {
     "name": "stdout",
     "output_type": "stream",
     "text": [
      "Failed gettin linkids 575027381 874920118\n"
     ]
    },
    {
     "name": "stderr",
     "output_type": "stream",
     "text": [
      "23439it [2:02:52,  3.06it/s]"
     ]
    },
    {
     "name": "stdout",
     "output_type": "stream",
     "text": [
      "Failed gettin linkids 537278813 537278814\n"
     ]
    },
    {
     "name": "stderr",
     "output_type": "stream",
     "text": [
      "23440it [2:02:52,  2.97it/s]"
     ]
    },
    {
     "name": "stdout",
     "output_type": "stream",
     "text": [
      "Failed gettin linkids 537278815 546978144\n"
     ]
    },
    {
     "name": "stderr",
     "output_type": "stream",
     "text": [
      "23449it [2:02:56,  2.47it/s]"
     ]
    },
    {
     "name": "stdout",
     "output_type": "stream",
     "text": [
      "Failed gettin linkids 537278845 537278846\n"
     ]
    },
    {
     "name": "stderr",
     "output_type": "stream",
     "text": [
      "23588it [2:03:41,  3.33it/s]"
     ]
    },
    {
     "name": "stdout",
     "output_type": "stream",
     "text": [
      "Failed gettin linkids 575028010 575028011\n"
     ]
    },
    {
     "name": "stderr",
     "output_type": "stream",
     "text": [
      "23736it [2:04:32,  2.76it/s]"
     ]
    },
    {
     "name": "stdout",
     "output_type": "stream",
     "text": [
      "Failed gettin linkids 537279670 545930426\n"
     ]
    },
    {
     "name": "stderr",
     "output_type": "stream",
     "text": [
      "23805it [2:04:55,  2.57it/s]"
     ]
    },
    {
     "name": "stdout",
     "output_type": "stream",
     "text": [
      "Failed gettin linkids 537279857 736509297\n"
     ]
    },
    {
     "name": "stderr",
     "output_type": "stream",
     "text": [
      "23809it [2:04:57,  2.26it/s]"
     ]
    },
    {
     "name": "stdout",
     "output_type": "stream",
     "text": [
      "Failed gettin linkids 545930625 537279875\n"
     ]
    },
    {
     "name": "stderr",
     "output_type": "stream",
     "text": [
      "23888it [2:05:25,  3.24it/s]"
     ]
    },
    {
     "name": "stdout",
     "output_type": "stream",
     "text": [
      "Failed gettin linkids 537280126 537280128\n"
     ]
    },
    {
     "name": "stderr",
     "output_type": "stream",
     "text": [
      "23907it [2:05:31,  3.04it/s]"
     ]
    },
    {
     "name": "stdout",
     "output_type": "stream",
     "text": [
      "Failed gettin linkids 537280180 545930932\n"
     ]
    },
    {
     "name": "stderr",
     "output_type": "stream",
     "text": [
      "23911it [2:05:32,  3.27it/s]"
     ]
    },
    {
     "name": "stdout",
     "output_type": "stream",
     "text": [
      "Failed gettin linkids 545930940 575028919\n"
     ]
    },
    {
     "name": "stderr",
     "output_type": "stream",
     "text": [
      "24084it [2:06:28,  3.29it/s]"
     ]
    },
    {
     "name": "stdout",
     "output_type": "stream",
     "text": [
      "Failed gettin linkids 537280608 575029350\n"
     ]
    },
    {
     "name": "stderr",
     "output_type": "stream",
     "text": [
      "24253it [2:07:21,  3.28it/s]"
     ]
    },
    {
     "name": "stdout",
     "output_type": "stream",
     "text": [
      "Failed gettin linkids 537281019 575029756\n"
     ]
    },
    {
     "name": "stderr",
     "output_type": "stream",
     "text": [
      "24259it [2:07:23,  3.12it/s]"
     ]
    },
    {
     "name": "stdout",
     "output_type": "stream",
     "text": [
      "Failed gettin linkids 915030534 1047151109\n"
     ]
    },
    {
     "name": "stderr",
     "output_type": "stream",
     "text": [
      "24386it [2:08:05,  2.99it/s]"
     ]
    },
    {
     "name": "stdout",
     "output_type": "stream",
     "text": [
      "Failed gettin linkids 575030064 537281330\n"
     ]
    },
    {
     "name": "stderr",
     "output_type": "stream",
     "text": [
      "24387it [2:08:05,  3.11it/s]"
     ]
    },
    {
     "name": "stdout",
     "output_type": "stream",
     "text": [
      "Failed gettin linkids 537281331 537281332\n"
     ]
    },
    {
     "name": "stderr",
     "output_type": "stream",
     "text": [
      "24428it [2:08:23,  3.04it/s]"
     ]
    },
    {
     "name": "stdout",
     "output_type": "stream",
     "text": [
      "Failed gettin linkids 575030187 575030191\n"
     ]
    },
    {
     "name": "stderr",
     "output_type": "stream",
     "text": [
      "24667it [2:09:45,  2.79it/s]"
     ]
    },
    {
     "name": "stdout",
     "output_type": "stream",
     "text": [
      "Failed gettin linkids 537282099 537282100\n"
     ]
    },
    {
     "name": "stderr",
     "output_type": "stream",
     "text": [
      "24690it [2:09:53,  3.07it/s]"
     ]
    },
    {
     "name": "stdout",
     "output_type": "stream",
     "text": [
      "Failed gettin linkids 575030889 537282154\n"
     ]
    },
    {
     "name": "stderr",
     "output_type": "stream",
     "text": [
      "24835it [2:10:43,  3.07it/s]"
     ]
    },
    {
     "name": "stdout",
     "output_type": "stream",
     "text": [
      "Failed gettin linkids 537282608 537282609\n"
     ]
    },
    {
     "name": "stderr",
     "output_type": "stream",
     "text": [
      "24992it [2:11:36,  3.16it/s]"
     ]
    },
    {
     "name": "stdout",
     "output_type": "stream",
     "text": [
      "Failed gettin linkids 537283047 1218333158\n"
     ]
    },
    {
     "name": "stderr",
     "output_type": "stream",
     "text": [
      "25100it [2:12:11,  3.00it/s]"
     ]
    },
    {
     "name": "stdout",
     "output_type": "stream",
     "text": [
      "Failed gettin linkids 1218333503 537283391\n"
     ]
    },
    {
     "name": "stderr",
     "output_type": "stream",
     "text": [
      "25101it [2:12:11,  3.09it/s]"
     ]
    },
    {
     "name": "stdout",
     "output_type": "stream",
     "text": [
      "Failed gettin linkids 537283392 545934148\n"
     ]
    },
    {
     "name": "stderr",
     "output_type": "stream",
     "text": [
      "25124it [2:12:19,  3.30it/s]"
     ]
    },
    {
     "name": "stdout",
     "output_type": "stream",
     "text": [
      "Failed gettin linkids 537283476 537283477\n"
     ]
    },
    {
     "name": "stderr",
     "output_type": "stream",
     "text": [
      "25132it [2:12:21,  3.16it/s]"
     ]
    },
    {
     "name": "stdout",
     "output_type": "stream",
     "text": [
      "Failed gettin linkids 931548069 537283494\n"
     ]
    },
    {
     "name": "stderr",
     "output_type": "stream",
     "text": [
      "25192it [2:12:41,  3.33it/s]"
     ]
    },
    {
     "name": "stdout",
     "output_type": "stream",
     "text": [
      "Failed gettin linkids 537283669 851594325\n"
     ]
    },
    {
     "name": "stderr",
     "output_type": "stream",
     "text": [
      "25210it [2:12:47,  2.90it/s]"
     ]
    },
    {
     "name": "stdout",
     "output_type": "stream",
     "text": [
      "Failed gettin linkids 537283732 537283735\n"
     ]
    },
    {
     "name": "stderr",
     "output_type": "stream",
     "text": [
      "25270it [2:13:07,  2.86it/s]"
     ]
    },
    {
     "name": "stdout",
     "output_type": "stream",
     "text": [
      "Failed gettin linkids 537283885 806505774\n"
     ]
    },
    {
     "name": "stderr",
     "output_type": "stream",
     "text": [
      "25320it [2:13:26,  2.71it/s]"
     ]
    },
    {
     "name": "stdout",
     "output_type": "stream",
     "text": [
      "Failed gettin linkids 537284135 537284137\n"
     ]
    },
    {
     "name": "stderr",
     "output_type": "stream",
     "text": [
      "25359it [2:13:40,  2.88it/s]"
     ]
    },
    {
     "name": "stdout",
     "output_type": "stream",
     "text": [
      "Failed gettin linkids 537284304 537284306\n"
     ]
    },
    {
     "name": "stderr",
     "output_type": "stream",
     "text": [
      "25409it [2:13:57,  3.50it/s]"
     ]
    },
    {
     "name": "stdout",
     "output_type": "stream",
     "text": [
      "Failed gettin linkids 537284573 593907679\n"
     ]
    },
    {
     "name": "stderr",
     "output_type": "stream",
     "text": [
      "25414it [2:13:58,  3.54it/s]"
     ]
    },
    {
     "name": "stdout",
     "output_type": "stream",
     "text": [
      "Failed gettin linkids 546983939 851595268\n"
     ]
    },
    {
     "name": "stderr",
     "output_type": "stream",
     "text": [
      "25469it [2:14:15,  3.53it/s]"
     ]
    },
    {
     "name": "stdout",
     "output_type": "stream",
     "text": [
      "Failed gettin linkids 877285553 587092143\n"
     ]
    },
    {
     "name": "stderr",
     "output_type": "stream",
     "text": [
      "25499it [2:14:23,  3.60it/s]"
     ]
    },
    {
     "name": "stdout",
     "output_type": "stream",
     "text": [
      "Failed gettin linkids 1158304056 537284921\n"
     ]
    },
    {
     "name": "stderr",
     "output_type": "stream",
     "text": [
      "25534it [2:14:34,  3.50it/s]"
     ]
    },
    {
     "name": "stdout",
     "output_type": "stream",
     "text": [
      "Failed gettin linkids 811749841 811749845\n"
     ]
    },
    {
     "name": "stderr",
     "output_type": "stream",
     "text": [
      "25605it [2:14:55,  3.21it/s]"
     ]
    },
    {
     "name": "stdout",
     "output_type": "stream",
     "text": [
      "Failed gettin linkids 587092671 769282762\n"
     ]
    },
    {
     "name": "stderr",
     "output_type": "stream",
     "text": [
      "25642it [2:15:05,  3.54it/s]"
     ]
    },
    {
     "name": "stdout",
     "output_type": "stream",
     "text": [
      "Failed gettin linkids 537285492 877286259\n"
     ]
    },
    {
     "name": "stderr",
     "output_type": "stream",
     "text": [
      "25644it [2:15:06,  3.52it/s]"
     ]
    },
    {
     "name": "stdout",
     "output_type": "stream",
     "text": [
      "Failed gettin linkids 877286265 537285498\n"
     ]
    },
    {
     "name": "stderr",
     "output_type": "stream",
     "text": [
      "25676it [2:15:15,  3.59it/s]"
     ]
    },
    {
     "name": "stdout",
     "output_type": "stream",
     "text": [
      "Failed gettin linkids 1006261258 1202869263\n"
     ]
    },
    {
     "name": "stderr",
     "output_type": "stream",
     "text": [
      "25833it [2:16:00,  3.60it/s]"
     ]
    },
    {
     "name": "stdout",
     "output_type": "stream",
     "text": [
      "Failed gettin linkids 537286266 537286268\n"
     ]
    },
    {
     "name": "stderr",
     "output_type": "stream",
     "text": [
      "25855it [2:16:07,  3.35it/s]"
     ]
    },
    {
     "name": "stdout",
     "output_type": "stream",
     "text": [
      "Failed gettin linkids 588928717 1219122903\n"
     ]
    },
    {
     "name": "stderr",
     "output_type": "stream",
     "text": [
      "25866it [2:16:10,  3.58it/s]"
     ]
    },
    {
     "name": "stdout",
     "output_type": "stream",
     "text": [
      "Failed gettin linkids 537286401 537286402\n"
     ]
    },
    {
     "name": "stderr",
     "output_type": "stream",
     "text": [
      "25958it [2:16:38,  3.42it/s]"
     ]
    },
    {
     "name": "stdout",
     "output_type": "stream",
     "text": [
      "Failed gettin linkids 537286768 851597424\n"
     ]
    },
    {
     "name": "stderr",
     "output_type": "stream",
     "text": [
      "26028it [2:16:59,  3.51it/s]"
     ]
    },
    {
     "name": "stdout",
     "output_type": "stream",
     "text": [
      "Failed gettin linkids 537287013 537287014\n"
     ]
    },
    {
     "name": "stderr",
     "output_type": "stream",
     "text": [
      "26029it [2:16:59,  3.57it/s]"
     ]
    },
    {
     "name": "stdout",
     "output_type": "stream",
     "text": [
      "Failed gettin linkids 537287015 537287017\n"
     ]
    },
    {
     "name": "stderr",
     "output_type": "stream",
     "text": [
      "26093it [2:17:18,  3.56it/s]"
     ]
    },
    {
     "name": "stdout",
     "output_type": "stream",
     "text": [
      "Failed gettin linkids 575036064 828267170\n"
     ]
    },
    {
     "name": "stderr",
     "output_type": "stream",
     "text": [
      "26197it [2:17:48,  3.48it/s]"
     ]
    },
    {
     "name": "stdout",
     "output_type": "stream",
     "text": [
      "Failed gettin linkids 743595199 761683134\n"
     ]
    },
    {
     "name": "stderr",
     "output_type": "stream",
     "text": [
      "26357it [2:18:43,  3.14it/s]"
     ]
    },
    {
     "name": "stdout",
     "output_type": "stream",
     "text": [
      "Failed gettin linkids 762732636 762732637\n"
     ]
    },
    {
     "name": "stderr",
     "output_type": "stream",
     "text": [
      "26560it [2:19:51,  3.10it/s]"
     ]
    },
    {
     "name": "stdout",
     "output_type": "stream",
     "text": [
      "Failed gettin linkids 737830323 575038900\n"
     ]
    },
    {
     "name": "stderr",
     "output_type": "stream",
     "text": [
      "26594it [2:20:03,  3.08it/s]"
     ]
    },
    {
     "name": "stdout",
     "output_type": "stream",
     "text": [
      "Failed gettin linkids 575039052 1006265931\n"
     ]
    },
    {
     "name": "stderr",
     "output_type": "stream",
     "text": [
      "26596it [2:20:03,  3.07it/s]"
     ]
    },
    {
     "name": "stdout",
     "output_type": "stream",
     "text": [
      "Failed gettin linkids 575039056 575039057\n"
     ]
    },
    {
     "name": "stderr",
     "output_type": "stream",
     "text": [
      "26662it [2:20:26,  3.09it/s]"
     ]
    },
    {
     "name": "stdout",
     "output_type": "stream",
     "text": [
      "Failed gettin linkids 545941282 545941283\n"
     ]
    },
    {
     "name": "stderr",
     "output_type": "stream",
     "text": [
      "26798it [2:21:11,  3.27it/s]"
     ]
    },
    {
     "name": "stdout",
     "output_type": "stream",
     "text": [
      "Failed gettin linkids 537291280 537291281\n"
     ]
    },
    {
     "name": "stderr",
     "output_type": "stream",
     "text": [
      "27143it [2:23:04,  3.08it/s]"
     ]
    },
    {
     "name": "stdout",
     "output_type": "stream",
     "text": [
      "Failed gettin linkids 537293096 758018346\n"
     ]
    },
    {
     "name": "stderr",
     "output_type": "stream",
     "text": [
      "27395it [2:24:26,  3.33it/s]"
     ]
    },
    {
     "name": "stdout",
     "output_type": "stream",
     "text": [
      "Failed gettin linkids 593917277 851604824\n"
     ]
    },
    {
     "name": "stderr",
     "output_type": "stream",
     "text": [
      "27437it [2:24:38,  3.39it/s]"
     ]
    },
    {
     "name": "stdout",
     "output_type": "stream",
     "text": [
      "Failed gettin linkids 705066542 1217295919\n"
     ]
    },
    {
     "name": "stderr",
     "output_type": "stream",
     "text": [
      "27447it [2:24:41,  3.50it/s]"
     ]
    },
    {
     "name": "stdout",
     "output_type": "stream",
     "text": [
      "Failed gettin linkids 537294420 545945172\n"
     ]
    },
    {
     "name": "stderr",
     "output_type": "stream",
     "text": [
      "27451it [2:24:43,  2.54it/s]"
     ]
    },
    {
     "name": "stdout",
     "output_type": "stream",
     "text": [
      "Failed gettin linkids 545945182 545945183\n"
     ]
    },
    {
     "name": "stderr",
     "output_type": "stream",
     "text": [
      "27522it [2:25:04,  3.52it/s]"
     ]
    },
    {
     "name": "stdout",
     "output_type": "stream",
     "text": [
      "Failed gettin linkids 907179961 705591227\n"
     ]
    },
    {
     "name": "stderr",
     "output_type": "stream",
     "text": [
      "27562it [2:25:16,  3.56it/s]"
     ]
    },
    {
     "name": "stdout",
     "output_type": "stream",
     "text": [
      "Failed gettin linkids 537294893 537294905\n"
     ]
    },
    {
     "name": "stderr",
     "output_type": "stream",
     "text": [
      "27571it [2:25:19,  3.51it/s]"
     ]
    },
    {
     "name": "stdout",
     "output_type": "stream",
     "text": [
      "Failed gettin linkids 915044453 537294953\n"
     ]
    },
    {
     "name": "stderr",
     "output_type": "stream",
     "text": [
      "27656it [2:25:44,  3.60it/s]"
     ]
    },
    {
     "name": "stdout",
     "output_type": "stream",
     "text": [
      "Failed gettin linkids 587102707 1168013813\n"
     ]
    },
    {
     "name": "stderr",
     "output_type": "stream",
     "text": [
      "27824it [2:26:35,  2.91it/s]"
     ]
    },
    {
     "name": "stdout",
     "output_type": "stream",
     "text": [
      "Failed gettin linkids 537296548 877297318\n"
     ]
    },
    {
     "name": "stderr",
     "output_type": "stream",
     "text": [
      "27830it [2:26:37,  3.00it/s]"
     ]
    },
    {
     "name": "stdout",
     "output_type": "stream",
     "text": [
      "Failed gettin linkids 537296573 537296574\n"
     ]
    },
    {
     "name": "stderr",
     "output_type": "stream",
     "text": [
      "27870it [2:26:51,  3.08it/s]"
     ]
    },
    {
     "name": "stdout",
     "output_type": "stream",
     "text": [
      "Failed gettin linkids 836140901 836140902\n"
     ]
    },
    {
     "name": "stderr",
     "output_type": "stream",
     "text": [
      "27871it [2:26:51,  2.99it/s]"
     ]
    },
    {
     "name": "stdout",
     "output_type": "stream",
     "text": [
      "Failed gettin linkids 836140903 537296746\n"
     ]
    },
    {
     "name": "stderr",
     "output_type": "stream",
     "text": [
      "27881it [2:26:54,  3.11it/s]"
     ]
    },
    {
     "name": "stdout",
     "output_type": "stream",
     "text": [
      "Failed gettin linkids 587104122 836140922\n"
     ]
    },
    {
     "name": "stderr",
     "output_type": "stream",
     "text": [
      "27883it [2:26:55,  3.05it/s]"
     ]
    },
    {
     "name": "stdout",
     "output_type": "stream",
     "text": [
      "Failed gettin linkids 836140925 836140928\n"
     ]
    },
    {
     "name": "stderr",
     "output_type": "stream",
     "text": [
      "27991it [2:27:28,  3.44it/s]"
     ]
    },
    {
     "name": "stdout",
     "output_type": "stream",
     "text": [
      "Failed gettin linkids 545948079 1204715953\n"
     ]
    },
    {
     "name": "stderr",
     "output_type": "stream",
     "text": [
      "27995it [2:27:29,  3.65it/s]"
     ]
    },
    {
     "name": "stdout",
     "output_type": "stream",
     "text": [
      "Failed gettin linkids 905347541 537297366\n"
     ]
    },
    {
     "name": "stderr",
     "output_type": "stream",
     "text": [
      "28086it [2:27:56,  3.55it/s]"
     ]
    },
    {
     "name": "stdout",
     "output_type": "stream",
     "text": [
      "Failed gettin linkids 743605351 743605352\n"
     ]
    },
    {
     "name": "stderr",
     "output_type": "stream",
     "text": [
      "28244it [2:28:42,  3.33it/s]"
     ]
    },
    {
     "name": "stdout",
     "output_type": "stream",
     "text": [
      "Failed gettin linkids 1140492439 545949848\n"
     ]
    },
    {
     "name": "stderr",
     "output_type": "stream",
     "text": [
      "28497it [2:30:00,  3.32it/s]"
     ]
    },
    {
     "name": "stdout",
     "output_type": "stream",
     "text": [
      "Failed gettin linkids 545951467 545951468\n"
     ]
    },
    {
     "name": "stderr",
     "output_type": "stream",
     "text": [
      "28531it [2:30:11,  3.35it/s]"
     ]
    },
    {
     "name": "stdout",
     "output_type": "stream",
     "text": [
      "Failed gettin linkids 891719554 545951620\n"
     ]
    },
    {
     "name": "stderr",
     "output_type": "stream",
     "text": [
      "28800it [2:31:33,  3.38it/s]"
     ]
    },
    {
     "name": "stdout",
     "output_type": "stream",
     "text": [
      "Failed gettin linkids 811242780 575051037\n"
     ]
    },
    {
     "name": "stderr",
     "output_type": "stream",
     "text": [
      "28836it [2:31:44,  3.45it/s]"
     ]
    },
    {
     "name": "stdout",
     "output_type": "stream",
     "text": [
      "Failed gettin linkids 811242979 545953259\n"
     ]
    },
    {
     "name": "stderr",
     "output_type": "stream",
     "text": [
      "28862it [2:31:52,  3.42it/s]"
     ]
    },
    {
     "name": "stdout",
     "output_type": "stream",
     "text": [
      "Failed gettin linkids 1202886217 545953353\n"
     ]
    },
    {
     "name": "stderr",
     "output_type": "stream",
     "text": [
      "28874it [2:31:55,  3.54it/s]"
     ]
    },
    {
     "name": "stdout",
     "output_type": "stream",
     "text": [
      "Failed gettin linkids 545953407 537302656\n"
     ]
    },
    {
     "name": "stderr",
     "output_type": "stream",
     "text": [
      "28913it [2:32:07,  3.36it/s]"
     ]
    },
    {
     "name": "stdout",
     "output_type": "stream",
     "text": [
      "Failed gettin linkids 587110117 575051494\n"
     ]
    },
    {
     "name": "stderr",
     "output_type": "stream",
     "text": [
      "28928it [2:32:12,  3.48it/s]"
     ]
    },
    {
     "name": "stdout",
     "output_type": "stream",
     "text": [
      "Failed gettin linkids 545953547 545953548\n"
     ]
    },
    {
     "name": "stderr",
     "output_type": "stream",
     "text": [
      "29067it [2:32:54,  3.49it/s]"
     ]
    },
    {
     "name": "stdout",
     "output_type": "stream",
     "text": [
      "Failed gettin linkids 587110630 545954024\n"
     ]
    },
    {
     "name": "stderr",
     "output_type": "stream",
     "text": [
      "29169it [2:33:26,  3.28it/s]"
     ]
    },
    {
     "name": "stdout",
     "output_type": "stream",
     "text": [
      "Failed gettin linkids 771922767 545954640\n"
     ]
    },
    {
     "name": "stderr",
     "output_type": "stream",
     "text": [
      "29368it [2:34:26,  3.45it/s]"
     ]
    },
    {
     "name": "stdout",
     "output_type": "stream",
     "text": [
      "Failed gettin linkids 537304694 1060544111\n"
     ]
    },
    {
     "name": "stderr",
     "output_type": "stream",
     "text": [
      "29423it [2:34:42,  3.50it/s]"
     ]
    },
    {
     "name": "stdout",
     "output_type": "stream",
     "text": [
      "Failed gettin linkids 877043459 877043460\n"
     ]
    },
    {
     "name": "stderr",
     "output_type": "stream",
     "text": [
      "29424it [2:34:43,  3.58it/s]"
     ]
    },
    {
     "name": "stdout",
     "output_type": "stream",
     "text": [
      "Failed gettin linkids 537304842 877043461\n"
     ]
    },
    {
     "name": "stderr",
     "output_type": "stream",
     "text": [
      "29634it [2:35:47,  3.23it/s]"
     ]
    },
    {
     "name": "stdout",
     "output_type": "stream",
     "text": [
      "Failed gettin linkids 874947492 822518695\n"
     ]
    },
    {
     "name": "stderr",
     "output_type": "stream",
     "text": [
      "29718it [2:36:14,  3.32it/s]"
     ]
    },
    {
     "name": "stdout",
     "output_type": "stream",
     "text": [
      "Failed gettin linkids 892249405 537306433\n"
     ]
    },
    {
     "name": "stderr",
     "output_type": "stream",
     "text": [
      "29906it [2:37:18,  3.04it/s]"
     ]
    },
    {
     "name": "stdout",
     "output_type": "stream",
     "text": [
      "Failed gettin linkids 764596357 764596358\n"
     ]
    },
    {
     "name": "stderr",
     "output_type": "stream",
     "text": [
      "29957it [2:37:36,  2.87it/s]"
     ]
    },
    {
     "name": "stdout",
     "output_type": "stream",
     "text": [
      "Failed gettin linkids 537307713 587115075\n"
     ]
    },
    {
     "name": "stderr",
     "output_type": "stream",
     "text": [
      "29976it [2:37:42,  3.23it/s]"
     ]
    },
    {
     "name": "stdout",
     "output_type": "stream",
     "text": [
      "Failed gettin linkids 874949259 874949260\n"
     ]
    },
    {
     "name": "stderr",
     "output_type": "stream",
     "text": [
      "30005it [2:37:56,  2.98it/s]"
     ]
    },
    {
     "name": "stdout",
     "output_type": "stream",
     "text": [
      "Failed gettin linkids 587115323 812034875\n"
     ]
    },
    {
     "name": "stderr",
     "output_type": "stream",
     "text": [
      "30166it [2:38:51,  3.05it/s]"
     ]
    },
    {
     "name": "stdout",
     "output_type": "stream",
     "text": [
      "Failed gettin linkids 545959627 537308877\n"
     ]
    },
    {
     "name": "stderr",
     "output_type": "stream",
     "text": [
      "30314it [2:39:40,  3.12it/s]"
     ]
    },
    {
     "name": "stdout",
     "output_type": "stream",
     "text": [
      "Failed gettin linkids 897495682 537309828\n"
     ]
    },
    {
     "name": "stderr",
     "output_type": "stream",
     "text": [
      "30436it [2:40:19,  3.28it/s]"
     ]
    },
    {
     "name": "stdout",
     "output_type": "stream",
     "text": [
      "Failed gettin linkids 537310531 537310537\n"
     ]
    },
    {
     "name": "stderr",
     "output_type": "stream",
     "text": [
      "30446it [2:40:22,  3.14it/s]"
     ]
    },
    {
     "name": "stdout",
     "output_type": "stream",
     "text": [
      "Failed gettin linkids 537310594 537310595\n"
     ]
    },
    {
     "name": "stderr",
     "output_type": "stream",
     "text": [
      "30464it [2:40:27,  3.12it/s]"
     ]
    },
    {
     "name": "stdout",
     "output_type": "stream",
     "text": [
      "Failed gettin linkids 537310653 537310654\n"
     ]
    },
    {
     "name": "stderr",
     "output_type": "stream",
     "text": [
      "30675it [2:41:40,  3.01it/s]"
     ]
    },
    {
     "name": "stdout",
     "output_type": "stream",
     "text": [
      "Failed gettin linkids 877574854 877574858\n"
     ]
    },
    {
     "name": "stderr",
     "output_type": "stream",
     "text": [
      "30676it [2:41:40,  3.19it/s]"
     ]
    },
    {
     "name": "stdout",
     "output_type": "stream",
     "text": [
      "Failed gettin linkids 877574860 877574861\n"
     ]
    },
    {
     "name": "stderr",
     "output_type": "stream",
     "text": [
      "30740it [2:42:02,  3.28it/s]"
     ]
    },
    {
     "name": "stdout",
     "output_type": "stream",
     "text": [
      "Failed gettin linkids 901430348 901430351\n"
     ]
    },
    {
     "name": "stderr",
     "output_type": "stream",
     "text": [
      "30824it [2:42:28,  3.23it/s]"
     ]
    },
    {
     "name": "stdout",
     "output_type": "stream",
     "text": [
      "Failed gettin linkids 537312897 769310343\n"
     ]
    },
    {
     "name": "stderr",
     "output_type": "stream",
     "text": [
      "30834it [2:42:32,  3.19it/s]"
     ]
    },
    {
     "name": "stdout",
     "output_type": "stream",
     "text": [
      "Failed gettin linkids 537312963 537312981\n"
     ]
    },
    {
     "name": "stderr",
     "output_type": "stream",
     "text": [
      "30871it [2:42:43,  3.20it/s]"
     ]
    },
    {
     "name": "stdout",
     "output_type": "stream",
     "text": [
      "Failed gettin linkids 812040150 1212334039\n"
     ]
    },
    {
     "name": "stderr",
     "output_type": "stream",
     "text": [
      "30883it [2:42:50,  2.13it/s]"
     ]
    },
    {
     "name": "stdout",
     "output_type": "stream",
     "text": [
      "Failed gettin linkids 1171177473 1202110465\n"
     ]
    },
    {
     "name": "stderr",
     "output_type": "stream",
     "text": [
      "30958it [2:43:14,  3.04it/s]"
     ]
    },
    {
     "name": "stdout",
     "output_type": "stream",
     "text": [
      "Failed gettin linkids 902218040 902218041\n"
     ]
    },
    {
     "name": "stderr",
     "output_type": "stream",
     "text": [
      "31051it [2:43:47,  3.19it/s]"
     ]
    },
    {
     "name": "stdout",
     "output_type": "stream",
     "text": [
      "Failed gettin linkids 537313994 545964758\n"
     ]
    },
    {
     "name": "stderr",
     "output_type": "stream",
     "text": [
      "31053it [2:43:48,  3.37it/s]"
     ]
    },
    {
     "name": "stdout",
     "output_type": "stream",
     "text": [
      "Failed gettin linkids 545964761 537314014\n"
     ]
    },
    {
     "name": "stderr",
     "output_type": "stream",
     "text": [
      "31089it [2:44:00,  3.19it/s]"
     ]
    },
    {
     "name": "stdout",
     "output_type": "stream",
     "text": [
      "Failed gettin linkids 537314254 537314256\n"
     ]
    },
    {
     "name": "stderr",
     "output_type": "stream",
     "text": [
      "31090it [2:44:00,  3.12it/s]"
     ]
    },
    {
     "name": "stdout",
     "output_type": "stream",
     "text": [
      "Failed gettin linkids 537314257 537314258\n"
     ]
    },
    {
     "name": "stderr",
     "output_type": "stream",
     "text": [
      "31284it [2:45:04,  3.17it/s]"
     ]
    },
    {
     "name": "stdout",
     "output_type": "stream",
     "text": [
      "Failed gettin linkids 587909080 587909081\n"
     ]
    },
    {
     "name": "stderr",
     "output_type": "stream",
     "text": [
      "31404it [2:45:42,  3.22it/s]"
     ]
    },
    {
     "name": "stdout",
     "output_type": "stream",
     "text": [
      "Failed gettin linkids 545966642 708758066\n"
     ]
    },
    {
     "name": "stderr",
     "output_type": "stream",
     "text": [
      "31443it [2:45:55,  3.21it/s]"
     ]
    },
    {
     "name": "stdout",
     "output_type": "stream",
     "text": [
      "Failed gettin linkids 877579030 537316119\n"
     ]
    },
    {
     "name": "stderr",
     "output_type": "stream",
     "text": [
      "31678it [2:47:14,  3.07it/s]"
     ]
    },
    {
     "name": "stdout",
     "output_type": "stream",
     "text": [
      "Failed gettin linkids 877318206 877580357\n"
     ]
    },
    {
     "name": "stderr",
     "output_type": "stream",
     "text": [
      "31706it [2:47:23,  3.18it/s]"
     ]
    },
    {
     "name": "stdout",
     "output_type": "stream",
     "text": [
      "Failed gettin linkids 764596359 764596361\n"
     ]
    },
    {
     "name": "stderr",
     "output_type": "stream",
     "text": [
      "31932it [2:48:39,  3.13it/s]"
     ]
    },
    {
     "name": "stdout",
     "output_type": "stream",
     "text": [
      "Failed gettin linkids 1049547880 1049547881\n"
     ]
    },
    {
     "name": "stderr",
     "output_type": "stream",
     "text": [
      "31968it [2:48:51,  3.01it/s]"
     ]
    },
    {
     "name": "stdout",
     "output_type": "stream",
     "text": [
      "Failed gettin linkids 717673679 717673681\n"
     ]
    },
    {
     "name": "stderr",
     "output_type": "stream",
     "text": [
      "32062it [2:49:22,  3.22it/s]"
     ]
    },
    {
     "name": "stdout",
     "output_type": "stream",
     "text": [
      "Failed gettin linkids 537319249 537319252\n"
     ]
    },
    {
     "name": "stderr",
     "output_type": "stream",
     "text": [
      "32063it [2:49:22,  3.23it/s]"
     ]
    },
    {
     "name": "stdout",
     "output_type": "stream",
     "text": [
      "Failed gettin linkids 537319253 537319259\n"
     ]
    },
    {
     "name": "stderr",
     "output_type": "stream",
     "text": [
      "32144it [2:49:54,  2.56it/s]"
     ]
    },
    {
     "name": "stdout",
     "output_type": "stream",
     "text": [
      "Failed gettin linkids 867096836 587127045\n"
     ]
    },
    {
     "name": "stderr",
     "output_type": "stream",
     "text": [
      "32145it [2:49:54,  2.80it/s]"
     ]
    },
    {
     "name": "stdout",
     "output_type": "stream",
     "text": [
      "Failed gettin linkids 867096837 769317127\n"
     ]
    },
    {
     "name": "stderr",
     "output_type": "stream",
     "text": [
      "32154it [2:49:58,  2.54it/s]"
     ]
    },
    {
     "name": "stdout",
     "output_type": "stream",
     "text": [
      "Failed gettin linkids 769317146 537319712\n"
     ]
    },
    {
     "name": "stderr",
     "output_type": "stream",
     "text": [
      "32164it [2:50:01,  3.14it/s]"
     ]
    },
    {
     "name": "stdout",
     "output_type": "stream",
     "text": [
      "Failed gettin linkids 537319757 877582682\n"
     ]
    },
    {
     "name": "stderr",
     "output_type": "stream",
     "text": [
      "32229it [2:50:29,  2.74it/s]"
     ]
    },
    {
     "name": "stdout",
     "output_type": "stream",
     "text": [
      "Failed gettin linkids 836164290 836164291\n"
     ]
    },
    {
     "name": "stderr",
     "output_type": "stream",
     "text": [
      "32231it [2:50:30,  2.65it/s]"
     ]
    },
    {
     "name": "stdout",
     "output_type": "stream",
     "text": [
      "Failed gettin linkids 836164292 836164295\n"
     ]
    },
    {
     "name": "stderr",
     "output_type": "stream",
     "text": [
      "32382it [2:51:22,  2.87it/s]"
     ]
    },
    {
     "name": "stdout",
     "output_type": "stream",
     "text": [
      "Failed gettin linkids 537320744 575069481\n"
     ]
    },
    {
     "name": "stderr",
     "output_type": "stream",
     "text": [
      "32523it [2:52:14,  3.01it/s]"
     ]
    },
    {
     "name": "stdout",
     "output_type": "stream",
     "text": [
      "Failed gettin linkids 537321331 575070068\n"
     ]
    },
    {
     "name": "stderr",
     "output_type": "stream",
     "text": [
      "32545it [2:52:22,  3.05it/s]"
     ]
    },
    {
     "name": "stdout",
     "output_type": "stream",
     "text": [
      "Failed gettin linkids 545972174 851632080\n"
     ]
    },
    {
     "name": "stderr",
     "output_type": "stream",
     "text": [
      "32546it [2:52:22,  3.14it/s]"
     ]
    },
    {
     "name": "stdout",
     "output_type": "stream",
     "text": [
      "Failed gettin linkids 851632081 851632082\n"
     ]
    },
    {
     "name": "stderr",
     "output_type": "stream",
     "text": [
      "32572it [2:52:31,  2.99it/s]"
     ]
    },
    {
     "name": "stdout",
     "output_type": "stream",
     "text": [
      "Failed gettin linkids 815718426 537321508\n"
     ]
    },
    {
     "name": "stderr",
     "output_type": "stream",
     "text": [
      "32579it [2:52:33,  3.36it/s]"
     ]
    },
    {
     "name": "stdout",
     "output_type": "stream",
     "text": [
      "Failed gettin linkids 773513262 773513264\n"
     ]
    },
    {
     "name": "stderr",
     "output_type": "stream",
     "text": [
      "32724it [2:53:27,  2.90it/s]"
     ]
    },
    {
     "name": "stdout",
     "output_type": "stream",
     "text": [
      "Failed gettin linkids 769319740 537322305\n"
     ]
    },
    {
     "name": "stderr",
     "output_type": "stream",
     "text": [
      "32896it [2:54:29,  3.07it/s]"
     ]
    },
    {
     "name": "stdout",
     "output_type": "stream",
     "text": [
      "Failed gettin linkids 1212605894 537322953\n"
     ]
    },
    {
     "name": "stderr",
     "output_type": "stream",
     "text": [
      "32902it [2:54:31,  2.80it/s]"
     ]
    },
    {
     "name": "stdout",
     "output_type": "stream",
     "text": [
      "Failed gettin linkids 537322988 537322989\n"
     ]
    },
    {
     "name": "stderr",
     "output_type": "stream",
     "text": [
      "33045it [2:55:21,  3.23it/s]"
     ]
    },
    {
     "name": "stdout",
     "output_type": "stream",
     "text": [
      "Failed gettin linkids 537323528 537323529\n"
     ]
    },
    {
     "name": "stderr",
     "output_type": "stream",
     "text": [
      "33224it [2:56:24,  3.50it/s]"
     ]
    },
    {
     "name": "stdout",
     "output_type": "stream",
     "text": [
      "Failed gettin linkids 946006770 946006771\n"
     ]
    },
    {
     "name": "stderr",
     "output_type": "stream",
     "text": [
      "33256it [2:56:34,  3.64it/s]"
     ]
    },
    {
     "name": "stdout",
     "output_type": "stream",
     "text": [
      "Failed gettin linkids 587131758 587131759\n"
     ]
    },
    {
     "name": "stderr",
     "output_type": "stream",
     "text": [
      "33277it [2:56:39,  3.52it/s]"
     ]
    },
    {
     "name": "stdout",
     "output_type": "stream",
     "text": [
      "Failed gettin linkids 1155460039 874965968\n"
     ]
    },
    {
     "name": "stderr",
     "output_type": "stream",
     "text": [
      "33286it [2:56:42,  3.86it/s]"
     ]
    },
    {
     "name": "stdout",
     "output_type": "stream",
     "text": [
      "Failed gettin linkids 874966000 874966001\n"
     ]
    },
    {
     "name": "stderr",
     "output_type": "stream",
     "text": [
      "33287it [2:56:42,  3.82it/s]"
     ]
    },
    {
     "name": "stdout",
     "output_type": "stream",
     "text": [
      "Failed gettin linkids 902228977 902228979\n"
     ]
    },
    {
     "name": "stderr",
     "output_type": "stream",
     "text": [
      "33612it [2:58:32,  3.00it/s]"
     ]
    },
    {
     "name": "stdout",
     "output_type": "stream",
     "text": [
      "Failed gettin linkids 1199239872 1199239873\n"
     ]
    },
    {
     "name": "stderr",
     "output_type": "stream",
     "text": [
      "33697it [2:59:03,  3.14it/s]"
     ]
    },
    {
     "name": "stdout",
     "output_type": "stream",
     "text": [
      "Failed gettin linkids 587133988 587133990\n"
     ]
    },
    {
     "name": "stderr",
     "output_type": "stream",
     "text": [
      "33809it [2:59:47,  1.84it/s]"
     ]
    },
    {
     "name": "stdout",
     "output_type": "stream",
     "text": [
      "Failed gettin linkids 717420386 575076197\n"
     ]
    },
    {
     "name": "stderr",
     "output_type": "stream",
     "text": [
      "34021it [3:00:56,  3.12it/s]"
     ]
    },
    {
     "name": "stdout",
     "output_type": "stream",
     "text": [
      "Failed gettin linkids 1202388213 906951926\n"
     ]
    },
    {
     "name": "stderr",
     "output_type": "stream",
     "text": [
      "34100it [3:01:24,  3.01it/s]"
     ]
    },
    {
     "name": "stdout",
     "output_type": "stream",
     "text": [
      "Failed gettin linkids 587136712 587136719\n"
     ]
    },
    {
     "name": "stderr",
     "output_type": "stream",
     "text": [
      "34279it [3:02:26,  3.15it/s]"
     ]
    },
    {
     "name": "stdout",
     "output_type": "stream",
     "text": [
      "Failed gettin linkids 868418231 543097530\n"
     ]
    },
    {
     "name": "stderr",
     "output_type": "stream",
     "text": [
      "34413it [3:03:13,  2.97it/s]"
     ]
    },
    {
     "name": "stdout",
     "output_type": "stream",
     "text": [
      "Failed gettin linkids 1132922054 1132922055\n"
     ]
    },
    {
     "name": "stderr",
     "output_type": "stream",
     "text": [
      "34459it [3:03:31,  3.42it/s]"
     ]
    },
    {
     "name": "stdout",
     "output_type": "stream",
     "text": [
      "Failed gettin linkids 543098273 1205536163\n"
     ]
    },
    {
     "name": "stderr",
     "output_type": "stream",
     "text": [
      "34530it [3:03:55,  2.90it/s]"
     ]
    },
    {
     "name": "stdout",
     "output_type": "stream",
     "text": [
      "Failed gettin linkids 982189708 982189710\n"
     ]
    },
    {
     "name": "stderr",
     "output_type": "stream",
     "text": [
      "34551it [3:04:01,  3.11it/s]"
     ]
    },
    {
     "name": "stdout",
     "output_type": "stream",
     "text": [
      "Failed gettin linkids 1162020573 1162020574\n"
     ]
    },
    {
     "name": "stderr",
     "output_type": "stream",
     "text": [
      "34585it [3:04:15,  3.15it/s]"
     ]
    },
    {
     "name": "stdout",
     "output_type": "stream",
     "text": [
      "Failed gettin linkids 543098728 543098730\n"
     ]
    },
    {
     "name": "stderr",
     "output_type": "stream",
     "text": [
      "34676it [3:04:45,  2.98it/s]"
     ]
    },
    {
     "name": "stdout",
     "output_type": "stream",
     "text": [
      "Failed gettin linkids 1226770713 543099173\n"
     ]
    },
    {
     "name": "stderr",
     "output_type": "stream",
     "text": [
      "34719it [3:04:59,  3.08it/s]"
     ]
    },
    {
     "name": "stdout",
     "output_type": "stream",
     "text": [
      "Failed gettin linkids 819465907 587663863\n"
     ]
    },
    {
     "name": "stderr",
     "output_type": "stream",
     "text": [
      "34765it [3:05:18,  2.94it/s]"
     ]
    },
    {
     "name": "stdout",
     "output_type": "stream",
     "text": [
      "Failed gettin linkids 543099621 543099622\n"
     ]
    },
    {
     "name": "stderr",
     "output_type": "stream",
     "text": [
      "34948it [3:06:22,  3.05it/s]"
     ]
    },
    {
     "name": "stdout",
     "output_type": "stream",
     "text": [
      "Failed gettin linkids 1200295515 1200295516\n"
     ]
    },
    {
     "name": "stderr",
     "output_type": "stream",
     "text": [
      "35022it [3:06:53,  3.00it/s]"
     ]
    },
    {
     "name": "stdout",
     "output_type": "stream",
     "text": [
      "Failed gettin linkids 543100933 543100944\n"
     ]
    },
    {
     "name": "stderr",
     "output_type": "stream",
     "text": [
      "35025it [3:06:54,  2.97it/s]"
     ]
    },
    {
     "name": "stdout",
     "output_type": "stream",
     "text": [
      "Failed gettin linkids 907155830 1151537183\n"
     ]
    },
    {
     "name": "stderr",
     "output_type": "stream",
     "text": [
      "35148it [3:07:39,  2.93it/s]"
     ]
    },
    {
     "name": "stdout",
     "output_type": "stream",
     "text": [
      "Failed gettin linkids 543101433 543101435\n"
     ]
    },
    {
     "name": "stderr",
     "output_type": "stream",
     "text": [
      "35271it [3:08:22,  3.03it/s]"
     ]
    },
    {
     "name": "stdout",
     "output_type": "stream",
     "text": [
      "Failed gettin linkids 771953801 1218647177\n"
     ]
    },
    {
     "name": "stderr",
     "output_type": "stream",
     "text": [
      "35712it [3:11:01,  1.39it/s]"
     ]
    },
    {
     "name": "stdout",
     "output_type": "stream",
     "text": [
      "Failed gettin linkids 1201872243 543104372\n"
     ]
    },
    {
     "name": "stderr",
     "output_type": "stream",
     "text": [
      "35772it [3:11:21,  2.99it/s]"
     ]
    },
    {
     "name": "stdout",
     "output_type": "stream",
     "text": [
      "Failed gettin linkids 1056120546 543104754\n"
     ]
    },
    {
     "name": "stderr",
     "output_type": "stream",
     "text": [
      "35876it [3:12:00,  3.18it/s]"
     ]
    },
    {
     "name": "stdout",
     "output_type": "stream",
     "text": [
      "Failed gettin linkids 543105450 1184833969\n"
     ]
    },
    {
     "name": "stderr",
     "output_type": "stream",
     "text": [
      "36053it [3:13:07,  1.16s/it]"
     ]
    },
    {
     "name": "stdout",
     "output_type": "stream",
     "text": [
      "Failed gettin linkids 761997245 761997246\n"
     ]
    },
    {
     "name": "stderr",
     "output_type": "stream",
     "text": [
      "36058it [3:13:08,  2.08it/s]"
     ]
    },
    {
     "name": "stdout",
     "output_type": "stream",
     "text": [
      "Failed gettin linkids 897525708 897525709\n"
     ]
    },
    {
     "name": "stderr",
     "output_type": "stream",
     "text": [
      "36059it [3:13:09,  2.32it/s]"
     ]
    },
    {
     "name": "stdout",
     "output_type": "stream",
     "text": [
      "Failed gettin linkids 897525710 897525712\n"
     ]
    },
    {
     "name": "stderr",
     "output_type": "stream",
     "text": [
      "36107it [3:13:25,  3.28it/s]"
     ]
    },
    {
     "name": "stdout",
     "output_type": "stream",
     "text": [
      "Failed gettin linkids 901458156 543107309\n"
     ]
    },
    {
     "name": "stderr",
     "output_type": "stream",
     "text": [
      "36108it [3:13:25,  3.30it/s]"
     ]
    },
    {
     "name": "stdout",
     "output_type": "stream",
     "text": [
      "Failed gettin linkids 543107310 543107311\n"
     ]
    },
    {
     "name": "stderr",
     "output_type": "stream",
     "text": [
      "36155it [3:13:40,  3.21it/s]"
     ]
    },
    {
     "name": "stdout",
     "output_type": "stream",
     "text": [
      "Failed gettin linkids 812329341 1210263931\n"
     ]
    },
    {
     "name": "stderr",
     "output_type": "stream",
     "text": [
      "36171it [3:13:45,  3.30it/s]"
     ]
    },
    {
     "name": "stdout",
     "output_type": "stream",
     "text": [
      "Failed gettin linkids 543107520 543107522\n"
     ]
    },
    {
     "name": "stderr",
     "output_type": "stream",
     "text": [
      "36238it [3:14:12,  3.08it/s]"
     ]
    },
    {
     "name": "stdout",
     "output_type": "stream",
     "text": [
      "Failed gettin linkids 543107821 543107822\n"
     ]
    },
    {
     "name": "stderr",
     "output_type": "stream",
     "text": [
      "36323it [3:14:40,  3.14it/s]"
     ]
    },
    {
     "name": "stdout",
     "output_type": "stream",
     "text": [
      "Failed gettin linkids 543108222 819932288\n"
     ]
    },
    {
     "name": "stderr",
     "output_type": "stream",
     "text": [
      "36368it [3:14:59,  1.86it/s]"
     ]
    },
    {
     "name": "stdout",
     "output_type": "stream",
     "text": [
      "Failed gettin linkids 543108473 543108474\n"
     ]
    },
    {
     "name": "stderr",
     "output_type": "stream",
     "text": [
      "36444it [3:15:26,  2.03it/s]"
     ]
    },
    {
     "name": "stdout",
     "output_type": "stream",
     "text": [
      "Failed gettin linkids 917712748 917712749\n"
     ]
    },
    {
     "name": "stderr",
     "output_type": "stream",
     "text": [
      "36446it [3:15:27,  2.32it/s]"
     ]
    },
    {
     "name": "stdout",
     "output_type": "stream",
     "text": [
      "Failed gettin linkids 1196371833 543108987\n"
     ]
    },
    {
     "name": "stderr",
     "output_type": "stream",
     "text": [
      "36447it [3:15:27,  2.45it/s]"
     ]
    },
    {
     "name": "stdout",
     "output_type": "stream",
     "text": [
      "Failed gettin linkids 543108988 543108996\n"
     ]
    },
    {
     "name": "stderr",
     "output_type": "stream",
     "text": [
      "36450it [3:15:28,  3.02it/s]"
     ]
    },
    {
     "name": "stdout",
     "output_type": "stream",
     "text": [
      "Failed gettin linkids 543109001 543109004\n"
     ]
    },
    {
     "name": "stderr",
     "output_type": "stream",
     "text": [
      "36480it [3:15:38,  3.14it/s]"
     ]
    },
    {
     "name": "stdout",
     "output_type": "stream",
     "text": [
      "Failed gettin linkids 543109158 543109165\n"
     ]
    },
    {
     "name": "stderr",
     "output_type": "stream",
     "text": [
      "36481it [3:15:39,  3.18it/s]"
     ]
    },
    {
     "name": "stdout",
     "output_type": "stream",
     "text": [
      "Failed gettin linkids 543109166 543109173\n"
     ]
    },
    {
     "name": "stderr",
     "output_type": "stream",
     "text": [
      "36482it [3:15:39,  3.19it/s]"
     ]
    },
    {
     "name": "stdout",
     "output_type": "stream",
     "text": [
      "Failed gettin linkids 543109174 543109175\n"
     ]
    },
    {
     "name": "stderr",
     "output_type": "stream",
     "text": [
      "36483it [3:15:39,  3.11it/s]"
     ]
    },
    {
     "name": "stdout",
     "output_type": "stream",
     "text": [
      "Failed gettin linkids 543109176 543109180\n"
     ]
    },
    {
     "name": "stderr",
     "output_type": "stream",
     "text": [
      "36558it [3:16:04,  3.09it/s]"
     ]
    },
    {
     "name": "stdout",
     "output_type": "stream",
     "text": [
      "Failed gettin linkids 543109419 836140912\n"
     ]
    },
    {
     "name": "stderr",
     "output_type": "stream",
     "text": [
      "36560it [3:16:04,  3.19it/s]"
     ]
    },
    {
     "name": "stdout",
     "output_type": "stream",
     "text": [
      "Failed gettin linkids 836140913 543109429\n"
     ]
    },
    {
     "name": "stderr",
     "output_type": "stream",
     "text": [
      "36578it [3:16:10,  3.16it/s]"
     ]
    },
    {
     "name": "stdout",
     "output_type": "stream",
     "text": [
      "Failed gettin linkids 836140926 543109492\n"
     ]
    },
    {
     "name": "stderr",
     "output_type": "stream",
     "text": [
      "36634it [3:16:29,  2.93it/s]"
     ]
    },
    {
     "name": "stdout",
     "output_type": "stream",
     "text": [
      "Failed gettin linkids 711406358 543109911\n"
     ]
    },
    {
     "name": "stderr",
     "output_type": "stream",
     "text": [
      "36724it [3:17:05,  3.09it/s]"
     ]
    },
    {
     "name": "stdout",
     "output_type": "stream",
     "text": [
      "Failed gettin linkids 543110344 1054029001\n"
     ]
    },
    {
     "name": "stderr",
     "output_type": "stream",
     "text": [
      "36729it [3:17:07,  2.94it/s]"
     ]
    },
    {
     "name": "stdout",
     "output_type": "stream",
     "text": [
      "Failed gettin linkids 895694038 895694039\n"
     ]
    },
    {
     "name": "stderr",
     "output_type": "stream",
     "text": [
      "36751it [3:17:14,  3.22it/s]"
     ]
    },
    {
     "name": "stdout",
     "output_type": "stream",
     "text": [
      "Failed gettin linkids 1181169044 867382678\n"
     ]
    },
    {
     "name": "stderr",
     "output_type": "stream",
     "text": [
      "36784it [3:17:25,  2.97it/s]"
     ]
    },
    {
     "name": "stdout",
     "output_type": "stream",
     "text": [
      "Failed gettin linkids 942356168 1044854484\n"
     ]
    },
    {
     "name": "stderr",
     "output_type": "stream",
     "text": [
      "36832it [3:17:41,  3.13it/s]"
     ]
    },
    {
     "name": "stdout",
     "output_type": "stream",
     "text": [
      "Failed gettin linkids 1180383346 543111283\n"
     ]
    },
    {
     "name": "stderr",
     "output_type": "stream",
     "text": [
      "36847it [3:17:46,  3.15it/s]"
     ]
    },
    {
     "name": "stdout",
     "output_type": "stream",
     "text": [
      "Failed gettin linkids 588724461 878131438\n"
     ]
    },
    {
     "name": "stderr",
     "output_type": "stream",
     "text": [
      "36899it [3:18:03,  3.27it/s]"
     ]
    },
    {
     "name": "stdout",
     "output_type": "stream",
     "text": [
      "Failed gettin linkids 543111785 901462633\n"
     ]
    },
    {
     "name": "stderr",
     "output_type": "stream",
     "text": [
      "36943it [3:18:19,  2.95it/s]"
     ]
    },
    {
     "name": "stdout",
     "output_type": "stream",
     "text": [
      "Failed gettin linkids 587676506 543112027\n"
     ]
    },
    {
     "name": "stderr",
     "output_type": "stream",
     "text": [
      "36966it [3:18:27,  3.14it/s]"
     ]
    },
    {
     "name": "stdout",
     "output_type": "stream",
     "text": [
      "Failed gettin linkids 537277777 543112281\n"
     ]
    },
    {
     "name": "stderr",
     "output_type": "stream",
     "text": [
      "36980it [3:18:32,  3.20it/s]"
     ]
    },
    {
     "name": "stdout",
     "output_type": "stream",
     "text": [
      "Failed gettin linkids 543112385 906706118\n"
     ]
    },
    {
     "name": "stderr",
     "output_type": "stream",
     "text": [
      "37059it [3:18:58,  2.98it/s]"
     ]
    },
    {
     "name": "stdout",
     "output_type": "stream",
     "text": [
      "Failed gettin linkids 1178812170 543112973\n"
     ]
    },
    {
     "name": "stderr",
     "output_type": "stream",
     "text": [
      "37062it [3:18:59,  3.00it/s]"
     ]
    },
    {
     "name": "stdout",
     "output_type": "stream",
     "text": [
      "Failed gettin linkids 543113025 543113026\n"
     ]
    },
    {
     "name": "stderr",
     "output_type": "stream",
     "text": [
      "37235it [3:19:57,  3.12it/s]"
     ]
    },
    {
     "name": "stdout",
     "output_type": "stream",
     "text": [
      "Failed gettin linkids 543114421 588727477\n"
     ]
    },
    {
     "name": "stderr",
     "output_type": "stream",
     "text": [
      "37260it [3:20:05,  3.16it/s]"
     ]
    },
    {
     "name": "stdout",
     "output_type": "stream",
     "text": [
      "Failed gettin linkids 1181173078 1181173080\n"
     ]
    },
    {
     "name": "stderr",
     "output_type": "stream",
     "text": [
      "37323it [3:20:26,  3.13it/s]"
     ]
    },
    {
     "name": "stdout",
     "output_type": "stream",
     "text": [
      "Failed gettin linkids 1219184423 812336936\n"
     ]
    },
    {
     "name": "stderr",
     "output_type": "stream",
     "text": [
      "37331it [3:20:29,  3.17it/s]"
     ]
    },
    {
     "name": "stdout",
     "output_type": "stream",
     "text": [
      "Failed gettin linkids 543115067 543115068\n"
     ]
    },
    {
     "name": "stderr",
     "output_type": "stream",
     "text": [
      "37460it [3:21:16,  3.08it/s]"
     ]
    },
    {
     "name": "stdout",
     "output_type": "stream",
     "text": [
      "Failed gettin linkids 901466840 877611741\n"
     ]
    },
    {
     "name": "stderr",
     "output_type": "stream",
     "text": [
      "37466it [3:21:18,  3.10it/s]"
     ]
    },
    {
     "name": "stdout",
     "output_type": "stream",
     "text": [
      "Failed gettin linkids 588729099 880495373\n"
     ]
    },
    {
     "name": "stderr",
     "output_type": "stream",
     "text": [
      "37513it [3:21:36,  1.58it/s]"
     ]
    },
    {
     "name": "stdout",
     "output_type": "stream",
     "text": [
      "Failed gettin linkids 1114065952 1114065953\n"
     ]
    },
    {
     "name": "stderr",
     "output_type": "stream",
     "text": [
      "37514it [3:21:37,  1.86it/s]"
     ]
    },
    {
     "name": "stdout",
     "output_type": "stream",
     "text": [
      "Failed gettin linkids 1114065954 811289668\n"
     ]
    },
    {
     "name": "stderr",
     "output_type": "stream",
     "text": [
      "37678it [3:22:46,  2.36it/s]"
     ]
    },
    {
     "name": "stdout",
     "output_type": "stream",
     "text": [
      "Failed gettin linkids 543117328 906448912\n"
     ]
    },
    {
     "name": "stderr",
     "output_type": "stream",
     "text": [
      "37700it [3:22:54,  3.15it/s]"
     ]
    },
    {
     "name": "stdout",
     "output_type": "stream",
     "text": [
      "Failed gettin linkids 984305790 984305791\n"
     ]
    },
    {
     "name": "stderr",
     "output_type": "stream",
     "text": [
      "37860it [3:23:52,  3.05it/s]"
     ]
    },
    {
     "name": "stdout",
     "output_type": "stream",
     "text": [
      "Failed gettin linkids 771970213 771970214\n"
     ]
    },
    {
     "name": "stderr",
     "output_type": "stream",
     "text": [
      "37916it [3:24:11,  3.08it/s]"
     ]
    },
    {
     "name": "stdout",
     "output_type": "stream",
     "text": [
      "Failed gettin linkids 877352484 543118889\n"
     ]
    },
    {
     "name": "stderr",
     "output_type": "stream",
     "text": [
      "38000it [3:24:39,  3.03it/s]"
     ]
    },
    {
     "name": "stdout",
     "output_type": "stream",
     "text": [
      "Failed gettin linkids 832788671 543119553\n"
     ]
    },
    {
     "name": "stderr",
     "output_type": "stream",
     "text": [
      "38076it [3:25:05,  3.22it/s]"
     ]
    },
    {
     "name": "stdout",
     "output_type": "stream",
     "text": [
      "Failed gettin linkids 1041455897 1041455898\n"
     ]
    },
    {
     "name": "stderr",
     "output_type": "stream",
     "text": [
      "38278it [3:26:14,  3.09it/s]"
     ]
    },
    {
     "name": "stdout",
     "output_type": "stream",
     "text": [
      "Failed gettin linkids 543121550 543121551\n"
     ]
    },
    {
     "name": "stderr",
     "output_type": "stream",
     "text": [
      "38349it [3:26:38,  2.89it/s]"
     ]
    },
    {
     "name": "stdout",
     "output_type": "stream",
     "text": [
      "Failed gettin linkids 1070817988 1169384136\n"
     ]
    },
    {
     "name": "stderr",
     "output_type": "stream",
     "text": [
      "38416it [3:27:01,  3.07it/s]"
     ]
    },
    {
     "name": "stdout",
     "output_type": "stream",
     "text": [
      "Failed gettin linkids 851666153 881026281\n"
     ]
    },
    {
     "name": "stderr",
     "output_type": "stream",
     "text": [
      "38441it [3:27:09,  3.27it/s]"
     ]
    },
    {
     "name": "stdout",
     "output_type": "stream",
     "text": [
      "Failed gettin linkids 543122740 1165452608\n"
     ]
    },
    {
     "name": "stderr",
     "output_type": "stream",
     "text": [
      "38467it [3:27:18,  3.01it/s]"
     ]
    },
    {
     "name": "stdout",
     "output_type": "stream",
     "text": [
      "Failed gettin linkids 851666404 774071782\n"
     ]
    },
    {
     "name": "stderr",
     "output_type": "stream",
     "text": [
      "38468it [3:27:19,  3.06it/s]"
     ]
    },
    {
     "name": "stdout",
     "output_type": "stream",
     "text": [
      "Failed gettin linkids 851666405 774071784\n"
     ]
    },
    {
     "name": "stderr",
     "output_type": "stream",
     "text": [
      "38472it [3:27:20,  2.93it/s]"
     ]
    },
    {
     "name": "stdout",
     "output_type": "stream",
     "text": [
      "Failed gettin linkids 543122936 543122937\n"
     ]
    },
    {
     "name": "stderr",
     "output_type": "stream",
     "text": [
      "38504it [3:27:31,  3.18it/s]"
     ]
    },
    {
     "name": "stdout",
     "output_type": "stream",
     "text": [
      "Failed gettin linkids 811296463 543123169\n"
     ]
    },
    {
     "name": "stderr",
     "output_type": "stream",
     "text": [
      "38728it [3:28:50,  2.93it/s]"
     ]
    },
    {
     "name": "stdout",
     "output_type": "stream",
     "text": [
      "Failed gettin linkids 916155807 916155808\n"
     ]
    },
    {
     "name": "stderr",
     "output_type": "stream",
     "text": [
      "39014it [3:30:26,  3.09it/s]"
     ]
    },
    {
     "name": "stdout",
     "output_type": "stream",
     "text": [
      "Failed gettin linkids 1181185009 1181185050\n"
     ]
    },
    {
     "name": "stderr",
     "output_type": "stream",
     "text": [
      "39139it [3:31:08,  3.27it/s]"
     ]
    },
    {
     "name": "stdout",
     "output_type": "stream",
     "text": [
      "Failed gettin linkids 811825138 1160214514\n"
     ]
    },
    {
     "name": "stderr",
     "output_type": "stream",
     "text": [
      "39242it [3:31:47,  2.90it/s]"
     ]
    },
    {
     "name": "stdout",
     "output_type": "stream",
     "text": [
      "Failed gettin linkids 907770588 809259435\n"
     ]
    },
    {
     "name": "stderr",
     "output_type": "stream",
     "text": [
      "39444it [3:33:02,  3.26it/s]"
     ]
    },
    {
     "name": "stdout",
     "output_type": "stream",
     "text": [
      "Failed gettin linkids 918520532 901481179\n"
     ]
    },
    {
     "name": "stderr",
     "output_type": "stream",
     "text": [
      "39504it [3:33:22,  3.18it/s]"
     ]
    },
    {
     "name": "stdout",
     "output_type": "stream",
     "text": [
      "Failed gettin linkids 721126571 851674283\n"
     ]
    },
    {
     "name": "stderr",
     "output_type": "stream",
     "text": [
      "39506it [3:33:22,  3.48it/s]"
     ]
    },
    {
     "name": "stdout",
     "output_type": "stream",
     "text": [
      "Failed gettin linkids 721126592 867665104\n"
     ]
    },
    {
     "name": "stderr",
     "output_type": "stream",
     "text": [
      "39578it [3:33:52,  1.99it/s]"
     ]
    },
    {
     "name": "stdout",
     "output_type": "stream",
     "text": [
      "Failed gettin linkids 880510703 880510704\n"
     ]
    },
    {
     "name": "stderr",
     "output_type": "stream",
     "text": [
      "39594it [3:33:58,  3.08it/s]"
     ]
    },
    {
     "name": "stdout",
     "output_type": "stream",
     "text": [
      "Failed gettin linkids 1145014183 1145014184\n"
     ]
    },
    {
     "name": "stderr",
     "output_type": "stream",
     "text": [
      "39636it [3:34:12,  3.29it/s]"
     ]
    },
    {
     "name": "stdout",
     "output_type": "stream",
     "text": [
      "Failed gettin linkids 916162771 864258262\n"
     ]
    },
    {
     "name": "stderr",
     "output_type": "stream",
     "text": [
      "39738it [3:34:51,  1.98it/s]"
     ]
    },
    {
     "name": "stdout",
     "output_type": "stream",
     "text": [
      "Failed gettin linkids 587697115 743410662\n"
     ]
    },
    {
     "name": "stderr",
     "output_type": "stream",
     "text": [
      "39801it [3:35:13,  3.06it/s]"
     ]
    },
    {
     "name": "stdout",
     "output_type": "stream",
     "text": [
      "Failed gettin linkids 850365882 1162579396\n"
     ]
    },
    {
     "name": "stderr",
     "output_type": "stream",
     "text": [
      "39910it [3:35:52,  2.99it/s]"
     ]
    },
    {
     "name": "stdout",
     "output_type": "stream",
     "text": [
      "Failed gettin linkids 810258962 746820127\n"
     ]
    },
    {
     "name": "stderr",
     "output_type": "stream",
     "text": [
      "39946it [3:36:04,  3.05it/s]"
     ]
    },
    {
     "name": "stdout",
     "output_type": "stream",
     "text": [
      "Failed gettin linkids 1188008854 1202688919\n"
     ]
    },
    {
     "name": "stderr",
     "output_type": "stream",
     "text": [
      "40075it [3:36:48,  2.91it/s]"
     ]
    },
    {
     "name": "stdout",
     "output_type": "stream",
     "text": [
      "Failed gettin linkids 866883792 1120901329\n"
     ]
    },
    {
     "name": "stderr",
     "output_type": "stream",
     "text": [
      "40114it [3:37:01,  3.02it/s]"
     ]
    },
    {
     "name": "stdout",
     "output_type": "stream",
     "text": [
      "Failed gettin linkids 866621927 877369825\n"
     ]
    },
    {
     "name": "stderr",
     "output_type": "stream",
     "text": [
      "40159it [3:37:17,  3.02it/s]"
     ]
    },
    {
     "name": "stdout",
     "output_type": "stream",
     "text": [
      "Failed gettin linkids 587701211 1132698616\n"
     ]
    },
    {
     "name": "stderr",
     "output_type": "stream",
     "text": [
      "40240it [3:37:44,  3.02it/s]"
     ]
    },
    {
     "name": "stdout",
     "output_type": "stream",
     "text": [
      "Failed gettin linkids 1213702001 811310962\n"
     ]
    },
    {
     "name": "stderr",
     "output_type": "stream",
     "text": [
      "40323it [3:38:13,  3.03it/s]"
     ]
    },
    {
     "name": "stdout",
     "output_type": "stream",
     "text": [
      "Failed gettin linkids 811311666 811311667\n"
     ]
    },
    {
     "name": "stderr",
     "output_type": "stream",
     "text": [
      "40378it [3:38:32,  2.78it/s]"
     ]
    },
    {
     "name": "stdout",
     "output_type": "stream",
     "text": [
      "Failed gettin linkids 866624580 866624581\n"
     ]
    },
    {
     "name": "stderr",
     "output_type": "stream",
     "text": [
      "40386it [3:38:35,  2.92it/s]"
     ]
    },
    {
     "name": "stdout",
     "output_type": "stream",
     "text": [
      "Failed gettin linkids 916646150 866624619\n"
     ]
    },
    {
     "name": "stderr",
     "output_type": "stream",
     "text": [
      "40499it [3:39:14,  3.03it/s]"
     ]
    },
    {
     "name": "stdout",
     "output_type": "stream",
     "text": [
      "Failed gettin linkids 1070049813 1070049814\n"
     ]
    },
    {
     "name": "stderr",
     "output_type": "stream",
     "text": [
      "40566it [3:39:36,  3.03it/s]"
     ]
    },
    {
     "name": "stdout",
     "output_type": "stream",
     "text": [
      "Failed gettin linkids 815770986 837791084\n"
     ]
    },
    {
     "name": "stderr",
     "output_type": "stream",
     "text": [
      "40570it [3:39:37,  2.95it/s]"
     ]
    },
    {
     "name": "stdout",
     "output_type": "stream",
     "text": [
      "Failed gettin linkids 1143713146 837791100\n"
     ]
    },
    {
     "name": "stderr",
     "output_type": "stream",
     "text": [
      "40571it [3:39:38,  3.02it/s]"
     ]
    },
    {
     "name": "stdout",
     "output_type": "stream",
     "text": [
      "Failed gettin linkids 837791101 837791105\n"
     ]
    },
    {
     "name": "stderr",
     "output_type": "stream",
     "text": [
      "40625it [3:39:58,  2.52it/s]"
     ]
    },
    {
     "name": "stdout",
     "output_type": "stream",
     "text": [
      "Failed gettin linkids 849850339 1203482607\n"
     ]
    },
    {
     "name": "stderr",
     "output_type": "stream",
     "text": [
      "40660it [3:40:11,  2.92it/s]"
     ]
    },
    {
     "name": "stdout",
     "output_type": "stream",
     "text": [
      "Failed gettin linkids 802402640 1219211611\n"
     ]
    },
    {
     "name": "stderr",
     "output_type": "stream",
     "text": [
      "40723it [3:40:31,  3.13it/s]"
     ]
    },
    {
     "name": "stdout",
     "output_type": "stream",
     "text": [
      "Failed gettin linkids 1218425763 877376422\n"
     ]
    },
    {
     "name": "stderr",
     "output_type": "stream",
     "text": [
      "40838it [3:41:09,  2.98it/s]"
     ]
    },
    {
     "name": "stdout",
     "output_type": "stream",
     "text": [
      "Failed gettin linkids 981448927 1131395297\n"
     ]
    },
    {
     "name": "stderr",
     "output_type": "stream",
     "text": [
      "40851it [3:41:13,  3.22it/s]"
     ]
    },
    {
     "name": "stdout",
     "output_type": "stream",
     "text": [
      "Failed gettin linkids 855357834 855357835\n"
     ]
    },
    {
     "name": "stderr",
     "output_type": "stream",
     "text": [
      "40854it [3:41:14,  3.23it/s]"
     ]
    },
    {
     "name": "stdout",
     "output_type": "stream",
     "text": [
      "Failed gettin linkids 743946696 743946697\n"
     ]
    },
    {
     "name": "stderr",
     "output_type": "stream",
     "text": [
      "40908it [3:41:32,  3.08it/s]"
     ]
    },
    {
     "name": "stdout",
     "output_type": "stream",
     "text": [
      "Failed gettin linkids 813415502 1232059466\n"
     ]
    },
    {
     "name": "stderr",
     "output_type": "stream",
     "text": [
      "40909it [3:41:33,  3.16it/s]"
     ]
    },
    {
     "name": "stdout",
     "output_type": "stream",
     "text": [
      "Failed gettin linkids 813415505 588758124\n"
     ]
    },
    {
     "name": "stderr",
     "output_type": "stream",
     "text": [
      "40925it [3:41:38,  3.11it/s]"
     ]
    },
    {
     "name": "stdout",
     "output_type": "stream",
     "text": [
      "Failed gettin linkids 1080016192 1211874631\n"
     ]
    },
    {
     "name": "stderr",
     "output_type": "stream",
     "text": [
      "40992it [3:42:00,  2.90it/s]"
     ]
    },
    {
     "name": "stdout",
     "output_type": "stream",
     "text": [
      "Failed gettin linkids 591380769 1198768424\n"
     ]
    },
    {
     "name": "stderr",
     "output_type": "stream",
     "text": [
      "41026it [3:42:11,  3.10it/s]"
     ]
    },
    {
     "name": "stdout",
     "output_type": "stream",
     "text": [
      "Failed gettin linkids 996131521 996131522\n"
     ]
    },
    {
     "name": "stderr",
     "output_type": "stream",
     "text": [
      "41168it [3:42:57,  3.16it/s]"
     ]
    },
    {
     "name": "stdout",
     "output_type": "stream",
     "text": [
      "Failed gettin linkids 821545305 864012632\n"
     ]
    },
    {
     "name": "stderr",
     "output_type": "stream",
     "text": [
      "41174it [3:42:59,  3.16it/s]"
     ]
    },
    {
     "name": "stdout",
     "output_type": "stream",
     "text": [
      "Failed gettin linkids 864012649 864012650\n"
     ]
    },
    {
     "name": "stderr",
     "output_type": "stream",
     "text": [
      "41177it [3:43:00,  3.32it/s]"
     ]
    },
    {
     "name": "stdout",
     "output_type": "stream",
     "text": [
      "Failed gettin linkids 864012667 864012668\n"
     ]
    },
    {
     "name": "stderr",
     "output_type": "stream",
     "text": [
      "41264it [3:43:28,  3.21it/s]"
     ]
    },
    {
     "name": "stdout",
     "output_type": "stream",
     "text": [
      "Failed gettin linkids 773311715 773311716\n"
     ]
    },
    {
     "name": "stderr",
     "output_type": "stream",
     "text": [
      "41340it [3:43:53,  3.19it/s]"
     ]
    },
    {
     "name": "stdout",
     "output_type": "stream",
     "text": [
      "Failed gettin linkids 841207997 937939134\n"
     ]
    },
    {
     "name": "stderr",
     "output_type": "stream",
     "text": [
      "41405it [3:44:14,  3.08it/s]"
     ]
    },
    {
     "name": "stdout",
     "output_type": "stream",
     "text": [
      "Failed gettin linkids 918279110 918279111\n"
     ]
    },
    {
     "name": "stderr",
     "output_type": "stream",
     "text": [
      "41447it [3:44:28,  3.13it/s]"
     ]
    },
    {
     "name": "stdout",
     "output_type": "stream",
     "text": [
      "Failed gettin linkids 917231164 917231165\n"
     ]
    },
    {
     "name": "stderr",
     "output_type": "stream",
     "text": [
      "41481it [3:44:38,  3.30it/s]"
     ]
    },
    {
     "name": "stdout",
     "output_type": "stream",
     "text": [
      "Failed gettin linkids 905186069 905186070\n"
     ]
    },
    {
     "name": "stderr",
     "output_type": "stream",
     "text": [
      "41526it [3:44:53,  3.22it/s]"
     ]
    },
    {
     "name": "stdout",
     "output_type": "stream",
     "text": [
      "Failed gettin linkids 1185667462 1185667463\n"
     ]
    },
    {
     "name": "stderr",
     "output_type": "stream",
     "text": [
      "41597it [3:45:16,  3.03it/s]"
     ]
    },
    {
     "name": "stdout",
     "output_type": "stream",
     "text": [
      "Failed gettin linkids 902028532 902028534\n"
     ]
    },
    {
     "name": "stderr",
     "output_type": "stream",
     "text": [
      "41672it [3:45:41,  3.23it/s]"
     ]
    },
    {
     "name": "stdout",
     "output_type": "stream",
     "text": [
      "Failed gettin linkids 1197203276 838065997\n"
     ]
    },
    {
     "name": "stderr",
     "output_type": "stream",
     "text": [
      "41840it [3:46:35,  3.17it/s]"
     ]
    },
    {
     "name": "stdout",
     "output_type": "stream",
     "text": [
      "Failed gettin linkids 956818926 956818927\n"
     ]
    },
    {
     "name": "stderr",
     "output_type": "stream",
     "text": [
      "41926it [3:47:03,  3.17it/s]"
     ]
    },
    {
     "name": "stdout",
     "output_type": "stream",
     "text": [
      "Failed gettin linkids 784591417 1215031875\n"
     ]
    },
    {
     "name": "stderr",
     "output_type": "stream",
     "text": [
      "41984it [3:47:25,  1.25it/s]"
     ]
    },
    {
     "name": "stdout",
     "output_type": "stream",
     "text": [
      "Failed gettin linkids 867691631 867691636\n"
     ]
    },
    {
     "name": "stderr",
     "output_type": "stream",
     "text": [
      "42004it [3:47:32,  2.90it/s]"
     ]
    },
    {
     "name": "stdout",
     "output_type": "stream",
     "text": [
      "Failed gettin linkids 870575433 932965705\n"
     ]
    },
    {
     "name": "stderr",
     "output_type": "stream",
     "text": [
      "42034it [3:47:42,  3.11it/s]"
     ]
    },
    {
     "name": "stdout",
     "output_type": "stream",
     "text": [
      "Failed gettin linkids 920645259 851701419\n"
     ]
    },
    {
     "name": "stderr",
     "output_type": "stream",
     "text": [
      "42291it [3:49:05,  3.20it/s]"
     ]
    },
    {
     "name": "stdout",
     "output_type": "stream",
     "text": [
      "Failed gettin linkids 867433174 867433175\n"
     ]
    },
    {
     "name": "stderr",
     "output_type": "stream",
     "text": [
      "42355it [3:49:25,  3.32it/s]"
     ]
    },
    {
     "name": "stdout",
     "output_type": "stream",
     "text": [
      "Failed gettin linkids 824179788 746847309\n"
     ]
    },
    {
     "name": "stderr",
     "output_type": "stream",
     "text": [
      "42444it [3:49:54,  3.18it/s]"
     ]
    },
    {
     "name": "stdout",
     "output_type": "stream",
     "text": [
      "Failed gettin linkids 945290923 945290924\n"
     ]
    },
    {
     "name": "stderr",
     "output_type": "stream",
     "text": [
      "42459it [3:49:59,  3.12it/s]"
     ]
    },
    {
     "name": "stdout",
     "output_type": "stream",
     "text": [
      "Failed gettin linkids 867696371 867696372\n"
     ]
    },
    {
     "name": "stderr",
     "output_type": "stream",
     "text": [
      "42495it [3:50:10,  3.08it/s]\n"
     ]
    },
    {
     "ename": "StopIteration",
     "evalue": "",
     "output_type": "error",
     "traceback": [
      "\u001b[1;31m---------------------------------------------------------------------------\u001b[0m",
      "\u001b[1;31mStopIteration\u001b[0m                             Traceback (most recent call last)",
      "\u001b[1;32m<ipython-input-8-877502af6704>\u001b[0m in \u001b[0;36m<module>\u001b[1;34m\u001b[0m\n\u001b[0;32m     10\u001b[0m \u001b[1;33m\u001b[0m\u001b[0m\n\u001b[0;32m     11\u001b[0m     \u001b[0mfirst_linkid\u001b[0m \u001b[1;33m=\u001b[0m \u001b[0mtmp_linkid\u001b[0m\u001b[1;33m\u001b[0m\u001b[1;33m\u001b[0m\u001b[0m\n\u001b[1;32m---> 12\u001b[1;33m     \u001b[0msecond_linkid\u001b[0m \u001b[1;33m=\u001b[0m \u001b[0mnext\u001b[0m\u001b[1;33m(\u001b[0m\u001b[0mlinkid_it\u001b[0m\u001b[1;33m)\u001b[0m\u001b[1;33m\u001b[0m\u001b[1;33m\u001b[0m\u001b[0m\n\u001b[0m\u001b[0;32m     13\u001b[0m \u001b[1;33m\u001b[0m\u001b[0m\n\u001b[0;32m     14\u001b[0m     \u001b[0mlink_init\u001b[0m \u001b[1;33m=\u001b[0m \u001b[1;34m\"link!-\"\u001b[0m\u001b[1;33m+\u001b[0m\u001b[0mstr\u001b[0m\u001b[1;33m(\u001b[0m\u001b[0mfirst_linkid\u001b[0m\u001b[1;33m)\u001b[0m \u001b[1;31m# 721130424\u001b[0m\u001b[1;33m\u001b[0m\u001b[1;33m\u001b[0m\u001b[0m\n",
      "\u001b[1;31mStopIteration\u001b[0m: "
     ]
    }
   ],
   "source": [
    "API_KEY = \"xEm8G0fGfrsDHyEkeLVD3VtjIKXSFQSgDYw82Wm_q8Y\"\n",
    "BASE_URL = \"https://route.ls.hereapi.com/routing/7.2/calculateroute.json\"\n",
    "\n",
    "linkid_info_df = pd.DataFrame()\n",
    "failed_link_id = []\n",
    "print(\"Translating {} links\".format(len(all_link_id)))\n",
    "\n",
    "linkid_it = iter(all_link_id)\n",
    "for tmp_linkid in tqdm(linkid_it):\n",
    "\n",
    "    first_linkid = tmp_linkid\n",
    "    second_linkid = next(linkid_it)\n",
    "    \n",
    "    link_init = \"link!-\"+str(first_linkid) # 721130424\n",
    "    link_end = \"link!-\"+str(second_linkid) # 721130424\n",
    "\n",
    "    params = {\"apiKey\": API_KEY,\n",
    "                \"waypoint0\": link_init,\n",
    "                \"waypoint1\": link_end,\n",
    "                \"mode\": \"fastest;car;traffic:disabled\"}\n",
    "    try:\n",
    "        r = requests.get(BASE_URL, params=params)\n",
    "        json_response = r.json()\n",
    "        org_dest_list = json_response[\"response\"][\"route\"][0][\"waypoint\"]\n",
    "    except KeyError:\n",
    "        print(\"Failed gettin linkids\", first_linkid, second_linkid)\n",
    "        failed_link_id.append(first_linkid)\n",
    "        failed_link_id.append(second_linkid)\n",
    "        continue\n",
    "    \n",
    "    tmp_df = pd.DataFrame()\n",
    "    tmp_df[\"linkid\"] = [str(first_linkid), str(second_linkid)]\n",
    "    tmp_df[\"latitude\"] = [org_dest_list[0][\"mappedPosition\"][\"latitude\"], org_dest_list[1][\"mappedPosition\"][\"latitude\"]]\n",
    "    tmp_df[\"longitude\"] = [org_dest_list[0][\"mappedPosition\"][\"longitude\"], org_dest_list[1][\"mappedPosition\"][\"longitude\"]]\n",
    "    tmp_df[\"road_name\"] = [org_dest_list[0][\"mappedRoadName\"], org_dest_list[1][\"mappedRoadName\"]]\n",
    "    linkid_info_df = pd.concat([linkid_info_df, tmp_df])\n",
    "\n",
    "linkid_info_df = linkid_info_df.reset_index(drop=True)"
   ]
  },
  {
   "cell_type": "code",
   "execution_count": 10,
   "metadata": {
    "collapsed": true,
    "jupyter": {
     "outputs_hidden": true
    }
   },
   "outputs": [
    {
     "data": {
      "text/plain": [
       "[576717032,\n",
       " 575144173,\n",
       " 813433231,\n",
       " 924320142,\n",
       " 576717980,\n",
       " 576717997,\n",
       " 762578126,\n",
       " 762578127,\n",
       " 762578140,\n",
       " 820511965,\n",
       " 1157891790,\n",
       " 1157891791,\n",
       " 576718562,\n",
       " 575145699,\n",
       " 576719516,\n",
       " 576719517,\n",
       " 575146847,\n",
       " 576719714,\n",
       " 576719816,\n",
       " 576719817,\n",
       " 576720069,\n",
       " 576720070,\n",
       " 576720939,\n",
       " 1220022318,\n",
       " 576721309,\n",
       " 913052062,\n",
       " 819466760,\n",
       " 587731465,\n",
       " 575148558,\n",
       " 575148559,\n",
       " 576721698,\n",
       " 1212683041,\n",
       " 1181226548,\n",
       " 575149622,\n",
       " 576722677,\n",
       " 575149814,\n",
       " 812128369,\n",
       " 576723055,\n",
       " 576723456,\n",
       " 575150593,\n",
       " 1213471244,\n",
       " 575150605,\n",
       " 575151277,\n",
       " 576724139,\n",
       " 575151293,\n",
       " 575151294,\n",
       " 916200823,\n",
       " 576724345,\n",
       " 575151588,\n",
       " 762584551,\n",
       " 767303317,\n",
       " 767303321,\n",
       " 1212948544,\n",
       " 1212948545,\n",
       " 542385253,\n",
       " 542385254,\n",
       " 1181230526,\n",
       " 575153600,\n",
       " 1217930726,\n",
       " 542385641,\n",
       " 911746957,\n",
       " 542386071,\n",
       " 542386994,\n",
       " 542386995,\n",
       " 542387011,\n",
       " 915155780,\n",
       " 542387041,\n",
       " 542387045,\n",
       " 812030028,\n",
       " 542387785,\n",
       " 1054617554,\n",
       " 1054617555,\n",
       " 576731065,\n",
       " 915158970,\n",
       " 1162361379,\n",
       " 941111846,\n",
       " 576732453,\n",
       " 915160355,\n",
       " 576732838,\n",
       " 1160265382,\n",
       " 1166032550,\n",
       " 1160265381,\n",
       " 808206552,\n",
       " 808206554,\n",
       " 576733651,\n",
       " 575160789,\n",
       " 868499950,\n",
       " 913588719,\n",
       " 941116415,\n",
       " 941116416,\n",
       " 1220301264,\n",
       " 1220301265,\n",
       " 915166795,\n",
       " 806639196,\n",
       " 1213749785,\n",
       " 588012066,\n",
       " 851467395,\n",
       " 746347677,\n",
       " 575168222,\n",
       " 1237081859,\n",
       " 1061183612,\n",
       " 1061183613,\n",
       " 849110185,\n",
       " 849110186,\n",
       " 576219606,\n",
       " 717622144,\n",
       " 762604254,\n",
       " 575171296,\n",
       " 575171362,\n",
       " 575171366,\n",
       " 851471617,\n",
       " 588016898,\n",
       " 806645175,\n",
       " 849898950,\n",
       " 575172199,\n",
       " 575172206,\n",
       " 575172208,\n",
       " 575172209,\n",
       " 575172578,\n",
       " 575172579,\n",
       " 907309629,\n",
       " 907309630,\n",
       " 907309641,\n",
       " 907309642,\n",
       " 773354391,\n",
       " 773354392,\n",
       " 849900728,\n",
       " 858551481,\n",
       " 806647934,\n",
       " 806647935,\n",
       " 575175817,\n",
       " 913603727,\n",
       " 907315203,\n",
       " 576227333,\n",
       " 587761849,\n",
       " 1169305967,\n",
       " 1212713162,\n",
       " 877580410,\n",
       " 576230500,\n",
       " 1195938916,\n",
       " 1212716179,\n",
       " 576230551,\n",
       " 542414141,\n",
       " 542414142,\n",
       " 542414523,\n",
       " 1219270335,\n",
       " 1160026465,\n",
       " 1160026466,\n",
       " 542415507,\n",
       " 576756372,\n",
       " 542415727,\n",
       " 875076465,\n",
       " 1122018511,\n",
       " 542418134,\n",
       " 576759138,\n",
       " 576759144,\n",
       " 1112319428,\n",
       " 851486158,\n",
       " 576759434,\n",
       " 542418591,\n",
       " 812427044,\n",
       " 576235301,\n",
       " 812427045,\n",
       " 913876778,\n",
       " 576235545,\n",
       " 576759836,\n",
       " 588032525,\n",
       " 880323086,\n",
       " 1213246198,\n",
       " 542419711,\n",
       " 576237167,\n",
       " 576237170,\n",
       " 1220063982,\n",
       " 1220063983,\n",
       " 576238434,\n",
       " 806663011,\n",
       " 758318598,\n",
       " 1221899850,\n",
       " 542422970,\n",
       " 542422971,\n",
       " 542423425,\n",
       " 542423426,\n",
       " 80263669,\n",
       " 80263670,\n",
       " 907590226,\n",
       " 80263764,\n",
       " 1130150634,\n",
       " 542423786,\n",
       " 542423969,\n",
       " 1180482466,\n",
       " 851492171,\n",
       " 80264531,\n",
       " 80264535,\n",
       " 724614493,\n",
       " 924368498,\n",
       " 587775610,\n",
       " 1223999223,\n",
       " 1223999224,\n",
       " 588038209,\n",
       " 1219280964,\n",
       " 737198712,\n",
       " 588038790,\n",
       " 744015144,\n",
       " 1155056937,\n",
       " 708887898,\n",
       " 877446491,\n",
       " 1214039612,\n",
       " 1214039613,\n",
       " 1213253649,\n",
       " 542427155,\n",
       " 915982397,\n",
       " 915982398,\n",
       " 542427850,\n",
       " 542427851,\n",
       " 542429768,\n",
       " 542429769,\n",
       " 819516365,\n",
       " 819516366,\n",
       " 1198840440,\n",
       " 1115216508,\n",
       " 1156111644,\n",
       " 80272677,\n",
       " 1007476222,\n",
       " 1007476223,\n",
       " 806674369,\n",
       " 1172365255,\n",
       " 1172365256,\n",
       " 1172365258,\n",
       " 906813711,\n",
       " 906813712,\n",
       " 927260996,\n",
       " 927260997,\n",
       " 877454015,\n",
       " 877454021,\n",
       " 1162143200,\n",
       " 80274914,\n",
       " 80275466,\n",
       " 1202251799,\n",
       " 80275772,\n",
       " 905767226,\n",
       " 1144844094,\n",
       " 1144844095,\n",
       " 806678963,\n",
       " 80277942,\n",
       " 80278329,\n",
       " 809300793,\n",
       " 80278389,\n",
       " 80278390,\n",
       " 1226896464,\n",
       " 985723988,\n",
       " 806679951,\n",
       " 806679952,\n",
       " 881129507,\n",
       " 80279618,\n",
       " 542439634,\n",
       " 1172371671,\n",
       " 811401512,\n",
       " 811401513,\n",
       " 772342663,\n",
       " 901317510,\n",
       " 901317512,\n",
       " 901317514,\n",
       " 553190510,\n",
       " 553190511,\n",
       " 759760002,\n",
       " 759760005,\n",
       " 897647831,\n",
       " 897647834,\n",
       " 1202259439,\n",
       " 997000690,\n",
       " 1178666680,\n",
       " 1152452282,\n",
       " 743770349,\n",
       " 553191662,\n",
       " 553191779,\n",
       " 717556068,\n",
       " 553191797,\n",
       " 553191798,\n",
       " 821365147,\n",
       " 826608028,\n",
       " 897649212,\n",
       " 897649213,\n",
       " 1222970931,\n",
       " 1200950854,\n",
       " 587534112,\n",
       " 587534113,\n",
       " 733024245,\n",
       " 553193463,\n",
       " 553193606,\n",
       " 553193607,\n",
       " 1156912155,\n",
       " 553194525,\n",
       " 553194716,\n",
       " 587535578,\n",
       " 553195075,\n",
       " 553195076,\n",
       " 553195760,\n",
       " 1212225776,\n",
       " 1054153157,\n",
       " 1054153161,\n",
       " 1054153165,\n",
       " 1054153167,\n",
       " 553196140,\n",
       " 799349365,\n",
       " 553196270,\n",
       " 553196271,\n",
       " 1221416898,\n",
       " 1221416899,\n",
       " 1157967308,\n",
       " 901328332,\n",
       " 772355050,\n",
       " 772355056,\n",
       " 806958590,\n",
       " 1219835408,\n",
       " 1219835409,\n",
       " 1226389041,\n",
       " 1124940181,\n",
       " 799619480,\n",
       " 553204448,\n",
       " 906574607,\n",
       " 1194148179,\n",
       " 553206104,\n",
       " 553206122,\n",
       " 799621481,\n",
       " 799621484,\n",
       " 799621486,\n",
       " 774456828,\n",
       " 901334550,\n",
       " 806700641,\n",
       " 806700642,\n",
       " 1195523529,\n",
       " 806700771,\n",
       " 553207851,\n",
       " 902121515,\n",
       " 799624097,\n",
       " 799624098,\n",
       " 866995437,\n",
       " 553209074,\n",
       " 1213343195,\n",
       " 812994171,\n",
       " 1219843059,\n",
       " 1159025651,\n",
       " 553211718,\n",
       " 553211719,\n",
       " 1197561756,\n",
       " 553211809,\n",
       " 553211811,\n",
       " 553211815,\n",
       " 553211841,\n",
       " 881153985,\n",
       " 553211851,\n",
       " 588601290,\n",
       " 711547278,\n",
       " 711547287,\n",
       " 743791050,\n",
       " 711547340,\n",
       " 711547465,\n",
       " 711547470,\n",
       " 880632986,\n",
       " 553215143,\n",
       " 708404563,\n",
       " 708404564,\n",
       " 1252616240,\n",
       " 778659920,\n",
       " 553216201,\n",
       " 553216202,\n",
       " 916285897,\n",
       " 987589069,\n",
       " 771584136,\n",
       " 771584137,\n",
       " 1219852833,\n",
       " 1219852834,\n",
       " 1205435056,\n",
       " 786266833,\n",
       " 1053129477,\n",
       " 1053129479,\n",
       " 867269533,\n",
       " 867269542,\n",
       " 1036091196,\n",
       " 1036091199,\n",
       " 1044220382,\n",
       " 1159039455,\n",
       " 708414820,\n",
       " 708414821,\n",
       " 727551682,\n",
       " 812224197,\n",
       " 588616196,\n",
       " 708940286,\n",
       " 588616198,\n",
       " 708940289,\n",
       " 545363732,\n",
       " 545363736,\n",
       " 915773221,\n",
       " 915773223,\n",
       " 588619494,\n",
       " 917610215,\n",
       " 905551661,\n",
       " 905551662,\n",
       " 1161404339,\n",
       " 588619721,\n",
       " 945660106,\n",
       " 925999307,\n",
       " 868065568,\n",
       " 868065570,\n",
       " 925738211,\n",
       " 925738214,\n",
       " 765306260,\n",
       " 769238451,\n",
       " 1217244431,\n",
       " 1213836560,\n",
       " 863612761,\n",
       " 863612767,\n",
       " 863612815,\n",
       " 863612818,\n",
       " 1047377684,\n",
       " 867284756,\n",
       " 757971304,\n",
       " 757971313,\n",
       " 909493441,\n",
       " 948815040,\n",
       " 1120257933,\n",
       " 1162463119,\n",
       " 743819964,\n",
       " 743819965,\n",
       " 895602327,\n",
       " 806735573,\n",
       " 1219614006,\n",
       " 987878713,\n",
       " 915265599,\n",
       " 915265600,\n",
       " 915266776,\n",
       " 915266778,\n",
       " 774497514,\n",
       " 553247979,\n",
       " 553248682,\n",
       " 587589546,\n",
       " 587589875,\n",
       " 587589876,\n",
       " 1162471932,\n",
       " 1162471933,\n",
       " 1172696275,\n",
       " 1000729812,\n",
       " 877522309,\n",
       " 877522310,\n",
       " 1113452388,\n",
       " 917106535,\n",
       " 1053160309,\n",
       " 867300215,\n",
       " 553252188,\n",
       " 851572066,\n",
       " 553252203,\n",
       " 553252204,\n",
       " 709752292,\n",
       " 709752293,\n",
       " 875166157,\n",
       " 553253329,\n",
       " 875166186,\n",
       " 875166187,\n",
       " 1125776040,\n",
       " 1125776041,\n",
       " 1125776042,\n",
       " 1138883253,\n",
       " 907148399,\n",
       " 907148400,\n",
       " 717619166,\n",
       " 717619167,\n",
       " 707658090,\n",
       " 537264492,\n",
       " 537264711,\n",
       " 537264712,\n",
       " 901121384,\n",
       " 593888621,\n",
       " 871499375,\n",
       " 593888881,\n",
       " 537266335,\n",
       " 1227229350,\n",
       " 537266523,\n",
       " 1212025180,\n",
       " 537266623,\n",
       " 537266624,\n",
       " 901122631,\n",
       " 901122634,\n",
       " 575015731,\n",
       " 575015732,\n",
       " 575015839,\n",
       " 740428701,\n",
       " 537267175,\n",
       " 829295591,\n",
       " 811469802,\n",
       " 829295592,\n",
       " 1166412775,\n",
       " 829295593,\n",
       " 575016343,\n",
       " 575016344,\n",
       " 851578546,\n",
       " 851578551,\n",
       " 851578562,\n",
       " 724700876,\n",
       " 1176375264,\n",
       " 575016930,\n",
       " 537268295,\n",
       " 575017032,\n",
       " 851579471,\n",
       " 593891922,\n",
       " 537268826,\n",
       " 537268832,\n",
       " 593892130,\n",
       " 593892131,\n",
       " 593892281,\n",
       " 537269178,\n",
       " 746984512,\n",
       " 593892420,\n",
       " 593892733,\n",
       " 537269631,\n",
       " 537270107,\n",
       " 593893212,\n",
       " 593893594,\n",
       " 593893596,\n",
       " 914757864,\n",
       " 593893615,\n",
       " 907155831,\n",
       " 593893752,\n",
       " 805968314,\n",
       " 537270719,\n",
       " 575019915,\n",
       " 593894282,\n",
       " 537271724,\n",
       " 537271725,\n",
       " 537271812,\n",
       " 537271813,\n",
       " 537272002,\n",
       " 537272003,\n",
       " 867573895,\n",
       " 537272456,\n",
       " 805970078,\n",
       " 537272486,\n",
       " 593895593,\n",
       " 593895596,\n",
       " 537272823,\n",
       " 537272825,\n",
       " 905585166,\n",
       " 537272851,\n",
       " 593896076,\n",
       " 537272976,\n",
       " 850010858,\n",
       " 759833333,\n",
       " 593896543,\n",
       " 593896544,\n",
       " 537273494,\n",
       " 537273499,\n",
       " 537273505,\n",
       " 537273498,\n",
       " 537273537,\n",
       " 537273538,\n",
       " 537273581,\n",
       " 537273583,\n",
       " 537273622,\n",
       " 537273627,\n",
       " 537273631,\n",
       " 537273635,\n",
       " 537273652,\n",
       " 537273655,\n",
       " 537273688,\n",
       " 877274456,\n",
       " 1161177270,\n",
       " 1161177271,\n",
       " 877275744,\n",
       " 877275750,\n",
       " 711601489,\n",
       " 537275733,\n",
       " 1047146140,\n",
       " 575024801,\n",
       " 537276331,\n",
       " 537276332,\n",
       " 537277361,\n",
       " 537277362,\n",
       " 575026376,\n",
       " 537277641,\n",
       " 575026461,\n",
       " 575026464,\n",
       " 537278013,\n",
       " 537278014,\n",
       " 537278160,\n",
       " 575026896,\n",
       " 537278172,\n",
       " 537278175,\n",
       " 575027071,\n",
       " 537278336,\n",
       " 575027381,\n",
       " 874920118,\n",
       " 537278813,\n",
       " 537278814,\n",
       " 537278815,\n",
       " 546978144,\n",
       " 537278845,\n",
       " 537278846,\n",
       " 575028010,\n",
       " 575028011,\n",
       " 537279670,\n",
       " 545930426,\n",
       " 537279857,\n",
       " 736509297,\n",
       " 545930625,\n",
       " 537279875,\n",
       " 537280126,\n",
       " 537280128,\n",
       " 537280180,\n",
       " 545930932,\n",
       " 545930940,\n",
       " 575028919,\n",
       " 537280608,\n",
       " 575029350,\n",
       " 537281019,\n",
       " 575029756,\n",
       " 915030534,\n",
       " 1047151109,\n",
       " 575030064,\n",
       " 537281330,\n",
       " 537281331,\n",
       " 537281332,\n",
       " 575030187,\n",
       " 575030191,\n",
       " 537282099,\n",
       " 537282100,\n",
       " 575030889,\n",
       " 537282154,\n",
       " 537282608,\n",
       " 537282609,\n",
       " 537283047,\n",
       " 1218333158,\n",
       " 1218333503,\n",
       " 537283391,\n",
       " 537283392,\n",
       " 545934148,\n",
       " 537283476,\n",
       " 537283477,\n",
       " 931548069,\n",
       " 537283494,\n",
       " 537283669,\n",
       " 851594325,\n",
       " 537283732,\n",
       " 537283735,\n",
       " 537283885,\n",
       " 806505774,\n",
       " 537284135,\n",
       " 537284137,\n",
       " 537284304,\n",
       " 537284306,\n",
       " 537284573,\n",
       " 593907679,\n",
       " 546983939,\n",
       " 851595268,\n",
       " 877285553,\n",
       " 587092143,\n",
       " 1158304056,\n",
       " 537284921,\n",
       " 811749841,\n",
       " 811749845,\n",
       " 587092671,\n",
       " 769282762,\n",
       " 537285492,\n",
       " 877286259,\n",
       " 877286265,\n",
       " 537285498,\n",
       " 1006261258,\n",
       " 1202869263,\n",
       " 537286266,\n",
       " 537286268,\n",
       " 588928717,\n",
       " 1219122903,\n",
       " 537286401,\n",
       " 537286402,\n",
       " 537286768,\n",
       " 851597424,\n",
       " 537287013,\n",
       " 537287014,\n",
       " 537287015,\n",
       " 537287017,\n",
       " 575036064,\n",
       " 828267170,\n",
       " 743595199,\n",
       " 761683134,\n",
       " 762732636,\n",
       " 762732637,\n",
       " 737830323,\n",
       " 575038900,\n",
       " 575039052,\n",
       " 1006265931,\n",
       " 575039056,\n",
       " 575039057,\n",
       " 545941282,\n",
       " 545941283,\n",
       " 537291280,\n",
       " 537291281,\n",
       " 537293096,\n",
       " 758018346,\n",
       " 593917277,\n",
       " 851604824,\n",
       " 705066542,\n",
       " 1217295919,\n",
       " 537294420,\n",
       " 545945172,\n",
       " 545945182,\n",
       " 545945183,\n",
       " 907179961,\n",
       " 705591227,\n",
       " 537294893,\n",
       " 537294905,\n",
       " 915044453,\n",
       " 537294953,\n",
       " 587102707,\n",
       " 1168013813,\n",
       " 537296548,\n",
       " 877297318,\n",
       " 537296573,\n",
       " 537296574,\n",
       " 836140901,\n",
       " 836140902,\n",
       " 836140903,\n",
       " 537296746,\n",
       " 587104122,\n",
       " 836140922,\n",
       " 836140925,\n",
       " 836140928,\n",
       " 545948079,\n",
       " 1204715953,\n",
       " 905347541,\n",
       " 537297366,\n",
       " 743605351,\n",
       " 743605352,\n",
       " 1140492439,\n",
       " 545949848,\n",
       " 545951467,\n",
       " 545951468,\n",
       " 891719554,\n",
       " 545951620,\n",
       " 811242780,\n",
       " 575051037,\n",
       " 811242979,\n",
       " 545953259,\n",
       " 1202886217,\n",
       " 545953353,\n",
       " 545953407,\n",
       " 537302656,\n",
       " 587110117,\n",
       " 575051494,\n",
       " 545953547,\n",
       " 545953548,\n",
       " 587110630,\n",
       " 545954024,\n",
       " 771922767,\n",
       " 545954640,\n",
       " 537304694,\n",
       " 1060544111,\n",
       " 877043459,\n",
       " 877043460,\n",
       " 537304842,\n",
       " 877043461,\n",
       " 874947492,\n",
       " 822518695,\n",
       " 892249405,\n",
       " 537306433,\n",
       " 764596357,\n",
       " 764596358,\n",
       " 537307713,\n",
       " 587115075,\n",
       " 874949259,\n",
       " 874949260,\n",
       " 587115323,\n",
       " 812034875,\n",
       " 545959627,\n",
       " 537308877,\n",
       " 897495682,\n",
       " 537309828,\n",
       " 537310531,\n",
       " 537310537,\n",
       " 537310594,\n",
       " 537310595,\n",
       " 537310653,\n",
       " 537310654,\n",
       " 877574854,\n",
       " 877574858,\n",
       " 877574860,\n",
       " 877574861,\n",
       " 901430348,\n",
       " 901430351,\n",
       " 537312897,\n",
       " 769310343,\n",
       " 537312963,\n",
       " 537312981,\n",
       " 812040150,\n",
       " 1212334039,\n",
       " 1171177473,\n",
       " 1202110465,\n",
       " 902218040,\n",
       " 902218041,\n",
       " 537313994,\n",
       " 545964758,\n",
       " 545964761,\n",
       " 537314014,\n",
       " 537314254,\n",
       " 537314256,\n",
       " 537314257,\n",
       " 537314258,\n",
       " 587909080,\n",
       " 587909081,\n",
       " 545966642,\n",
       " 708758066,\n",
       " 877579030,\n",
       " 537316119,\n",
       " 877318206,\n",
       " 877580357,\n",
       " 764596359,\n",
       " 764596361,\n",
       " 1049547880,\n",
       " 1049547881,\n",
       " 717673679,\n",
       " 717673681,\n",
       " 537319249,\n",
       " 537319252,\n",
       " 537319253,\n",
       " 537319259,\n",
       " 867096836,\n",
       " 587127045,\n",
       " 867096837,\n",
       " 769317127,\n",
       " 769317146,\n",
       " 537319712,\n",
       " 537319757,\n",
       " 877582682,\n",
       " 836164290,\n",
       " 836164291,\n",
       " 836164292,\n",
       " 836164295,\n",
       " 537320744,\n",
       " 575069481,\n",
       " 537321331,\n",
       " 575070068,\n",
       " 545972174,\n",
       " 851632080,\n",
       " 851632081,\n",
       " 851632082,\n",
       " 815718426,\n",
       " 537321508,\n",
       " 773513262,\n",
       " 773513264,\n",
       " 769319740,\n",
       " 537322305,\n",
       " 1212605894,\n",
       " 537322953,\n",
       " 537322988,\n",
       " 537322989,\n",
       " 537323528,\n",
       " 537323529,\n",
       " 946006770,\n",
       " 946006771,\n",
       " 587131758,\n",
       " 587131759,\n",
       " 1155460039,\n",
       " 874965968,\n",
       " 874966000,\n",
       " 874966001,\n",
       " 902228977,\n",
       " 902228979,\n",
       " 1199239872,\n",
       " 1199239873,\n",
       " 587133988,\n",
       " 587133990,\n",
       " 717420386,\n",
       " 575076197,\n",
       " 1202388213,\n",
       " 906951926,\n",
       " 587136712,\n",
       " 587136719,\n",
       " 868418231,\n",
       " 543097530,\n",
       " 1132922054,\n",
       " 1132922055,\n",
       " 543098273,\n",
       " 1205536163,\n",
       " 982189708,\n",
       " 982189710,\n",
       " 1162020573,\n",
       " 1162020574,\n",
       " 543098728,\n",
       " 543098730,\n",
       " 1226770713,\n",
       " 543099173,\n",
       " 819465907,\n",
       " 587663863,\n",
       " 543099621,\n",
       " 543099622,\n",
       " 1200295515,\n",
       " 1200295516,\n",
       " 543100933,\n",
       " 543100944,\n",
       " 907155830,\n",
       " 1151537183,\n",
       " 543101433,\n",
       " 543101435,\n",
       " 771953801,\n",
       " 1218647177,\n",
       " 1201872243,\n",
       " 543104372,\n",
       " 1056120546,\n",
       " 543104754,\n",
       " 543105450,\n",
       " 1184833969,\n",
       " 761997245,\n",
       " 761997246,\n",
       " 897525708,\n",
       " 897525709,\n",
       " 897525710,\n",
       " 897525712,\n",
       " 901458156,\n",
       " 543107309,\n",
       " 543107310,\n",
       " 543107311,\n",
       " 812329341,\n",
       " 1210263931,\n",
       " 543107520,\n",
       " 543107522,\n",
       " 543107821,\n",
       " 543107822,\n",
       " 543108222,\n",
       " 819932288,\n",
       " 543108473,\n",
       " 543108474,\n",
       " 917712748,\n",
       " 917712749,\n",
       " 1196371833,\n",
       " 543108987,\n",
       " 543108988,\n",
       " 543108996,\n",
       " 543109001,\n",
       " 543109004,\n",
       " 543109158,\n",
       " 543109165,\n",
       " 543109166,\n",
       " 543109173,\n",
       " 543109174,\n",
       " 543109175,\n",
       " 543109176,\n",
       " 543109180,\n",
       " 543109419,\n",
       " 836140912,\n",
       " 836140913,\n",
       " 543109429,\n",
       " 836140926,\n",
       " 543109492,\n",
       " 711406358,\n",
       " 543109911,\n",
       " 543110344,\n",
       " 1054029001,\n",
       " 895694038,\n",
       " 895694039,\n",
       " 1181169044,\n",
       " 867382678,\n",
       " 942356168,\n",
       " 1044854484,\n",
       " 1180383346,\n",
       " 543111283,\n",
       " 588724461,\n",
       " 878131438,\n",
       " 543111785,\n",
       " 901462633,\n",
       " 587676506,\n",
       " 543112027,\n",
       " 537277777,\n",
       " 543112281,\n",
       " 543112385,\n",
       " 906706118,\n",
       " 1178812170,\n",
       " 543112973,\n",
       " 543113025,\n",
       " 543113026,\n",
       " 543114421,\n",
       " 588727477,\n",
       " 1181173078,\n",
       " 1181173080,\n",
       " 1219184423,\n",
       " 812336936,\n",
       " 543115067,\n",
       " 543115068,\n",
       " 901466840,\n",
       " 877611741,\n",
       " 588729099,\n",
       " 880495373,\n",
       " 1114065952,\n",
       " 1114065953,\n",
       " 1114065954,\n",
       " 811289668,\n",
       " 543117328,\n",
       " 906448912,\n",
       " 984305790,\n",
       " 984305791,\n",
       " 771970213,\n",
       " 771970214,\n",
       " 877352484,\n",
       " 543118889,\n",
       " ...]"
      ]
     },
     "execution_count": 10,
     "metadata": {},
     "output_type": "execute_result"
    }
   ],
   "source": [
    "failed_link_id"
   ]
  },
  {
   "cell_type": "code",
   "execution_count": 9,
   "metadata": {},
   "outputs": [
    {
     "data": {
      "text/html": [
       "<div>\n",
       "<style scoped>\n",
       "    .dataframe tbody tr th:only-of-type {\n",
       "        vertical-align: middle;\n",
       "    }\n",
       "\n",
       "    .dataframe tbody tr th {\n",
       "        vertical-align: top;\n",
       "    }\n",
       "\n",
       "    .dataframe thead th {\n",
       "        text-align: right;\n",
       "    }\n",
       "</style>\n",
       "<table border=\"1\" class=\"dataframe\">\n",
       "  <thead>\n",
       "    <tr style=\"text-align: right;\">\n",
       "      <th></th>\n",
       "      <th>linkid</th>\n",
       "      <th>latitude</th>\n",
       "      <th>longitude</th>\n",
       "      <th>road_name</th>\n",
       "    </tr>\n",
       "  </thead>\n",
       "  <tbody>\n",
       "    <tr>\n",
       "      <th>0</th>\n",
       "      <td>575143936</td>\n",
       "      <td>41.174556</td>\n",
       "      <td>-8.683999</td>\n",
       "      <td>Rua Manuel Dias da Fonseca</td>\n",
       "    </tr>\n",
       "    <tr>\n",
       "      <th>1</th>\n",
       "      <td>575143938</td>\n",
       "      <td>41.185590</td>\n",
       "      <td>-8.691142</td>\n",
       "      <td>Rua de Álvaro Castelões</td>\n",
       "    </tr>\n",
       "    <tr>\n",
       "      <th>0</th>\n",
       "      <td>575143939</td>\n",
       "      <td>41.185130</td>\n",
       "      <td>-8.690613</td>\n",
       "      <td>Rua de Álvaro Castelões</td>\n",
       "    </tr>\n",
       "    <tr>\n",
       "      <th>1</th>\n",
       "      <td>575143940</td>\n",
       "      <td>41.185312</td>\n",
       "      <td>-8.690828</td>\n",
       "      <td>Rua de Álvaro Castelões</td>\n",
       "    </tr>\n",
       "    <tr>\n",
       "      <th>0</th>\n",
       "      <td>576716805</td>\n",
       "      <td>41.239055</td>\n",
       "      <td>-8.690425</td>\n",
       "      <td>Rua Vilar do Senhor</td>\n",
       "    </tr>\n",
       "    <tr>\n",
       "      <th>...</th>\n",
       "      <td>...</td>\n",
       "      <td>...</td>\n",
       "      <td>...</td>\n",
       "      <td>...</td>\n",
       "    </tr>\n",
       "    <tr>\n",
       "      <th>1</th>\n",
       "      <td>587726830</td>\n",
       "      <td>38.649399</td>\n",
       "      <td>-9.044857</td>\n",
       "      <td>Rua da Liberdade</td>\n",
       "    </tr>\n",
       "    <tr>\n",
       "      <th>0</th>\n",
       "      <td>587726831</td>\n",
       "      <td>38.649777</td>\n",
       "      <td>-9.045068</td>\n",
       "      <td>Rua da Liberdade</td>\n",
       "    </tr>\n",
       "    <tr>\n",
       "      <th>1</th>\n",
       "      <td>1171259379</td>\n",
       "      <td>41.155316</td>\n",
       "      <td>-8.591116</td>\n",
       "      <td>Praça das Flores</td>\n",
       "    </tr>\n",
       "    <tr>\n",
       "      <th>0</th>\n",
       "      <td>1171259380</td>\n",
       "      <td>41.155482</td>\n",
       "      <td>-8.591116</td>\n",
       "      <td>Praça das Flores</td>\n",
       "    </tr>\n",
       "    <tr>\n",
       "      <th>1</th>\n",
       "      <td>1171259381</td>\n",
       "      <td>41.158421</td>\n",
       "      <td>-8.612139</td>\n",
       "      <td>Rua de Antero de Quental</td>\n",
       "    </tr>\n",
       "  </tbody>\n",
       "</table>\n",
       "<p>83858 rows × 4 columns</p>\n",
       "</div>"
      ],
      "text/plain": [
       "        linkid   latitude  longitude                   road_name\n",
       "0    575143936  41.174556  -8.683999  Rua Manuel Dias da Fonseca\n",
       "1    575143938  41.185590  -8.691142     Rua de Álvaro Castelões\n",
       "0    575143939  41.185130  -8.690613     Rua de Álvaro Castelões\n",
       "1    575143940  41.185312  -8.690828     Rua de Álvaro Castelões\n",
       "0    576716805  41.239055  -8.690425         Rua Vilar do Senhor\n",
       "..         ...        ...        ...                         ...\n",
       "1    587726830  38.649399  -9.044857            Rua da Liberdade\n",
       "0    587726831  38.649777  -9.045068            Rua da Liberdade\n",
       "1   1171259379  41.155316  -8.591116            Praça das Flores\n",
       "0   1171259380  41.155482  -8.591116            Praça das Flores\n",
       "1   1171259381  41.158421  -8.612139    Rua de Antero de Quental\n",
       "\n",
       "[83858 rows x 4 columns]"
      ]
     },
     "execution_count": 9,
     "metadata": {},
     "output_type": "execute_result"
    }
   ],
   "source": [
    "linkid_info_df"
   ]
  },
  {
   "cell_type": "code",
   "execution_count": 11,
   "metadata": {},
   "outputs": [],
   "source": [
    "linkid_info_df.to_csv(DATA_DIR+\"link_id_dictionary.csv\", index=False)"
   ]
  },
  {
   "cell_type": "code",
   "execution_count": 13,
   "metadata": {},
   "outputs": [
    {
     "data": {
      "text/html": [
       "<div>\n",
       "<style scoped>\n",
       "    .dataframe tbody tr th:only-of-type {\n",
       "        vertical-align: middle;\n",
       "    }\n",
       "\n",
       "    .dataframe tbody tr th {\n",
       "        vertical-align: top;\n",
       "    }\n",
       "\n",
       "    .dataframe thead th {\n",
       "        text-align: right;\n",
       "    }\n",
       "</style>\n",
       "<table border=\"1\" class=\"dataframe\">\n",
       "  <thead>\n",
       "    <tr style=\"text-align: right;\">\n",
       "      <th></th>\n",
       "      <th>linkid</th>\n",
       "    </tr>\n",
       "  </thead>\n",
       "  <tbody>\n",
       "    <tr>\n",
       "      <th>0</th>\n",
       "      <td>576717032</td>\n",
       "    </tr>\n",
       "    <tr>\n",
       "      <th>1</th>\n",
       "      <td>575144173</td>\n",
       "    </tr>\n",
       "    <tr>\n",
       "      <th>2</th>\n",
       "      <td>813433231</td>\n",
       "    </tr>\n",
       "    <tr>\n",
       "      <th>3</th>\n",
       "      <td>924320142</td>\n",
       "    </tr>\n",
       "    <tr>\n",
       "      <th>4</th>\n",
       "      <td>576717980</td>\n",
       "    </tr>\n",
       "    <tr>\n",
       "      <th>...</th>\n",
       "      <td>...</td>\n",
       "    </tr>\n",
       "    <tr>\n",
       "      <th>1127</th>\n",
       "      <td>746847309</td>\n",
       "    </tr>\n",
       "    <tr>\n",
       "      <th>1128</th>\n",
       "      <td>945290923</td>\n",
       "    </tr>\n",
       "    <tr>\n",
       "      <th>1129</th>\n",
       "      <td>945290924</td>\n",
       "    </tr>\n",
       "    <tr>\n",
       "      <th>1130</th>\n",
       "      <td>867696371</td>\n",
       "    </tr>\n",
       "    <tr>\n",
       "      <th>1131</th>\n",
       "      <td>867696372</td>\n",
       "    </tr>\n",
       "  </tbody>\n",
       "</table>\n",
       "<p>1132 rows × 1 columns</p>\n",
       "</div>"
      ],
      "text/plain": [
       "         linkid\n",
       "0     576717032\n",
       "1     575144173\n",
       "2     813433231\n",
       "3     924320142\n",
       "4     576717980\n",
       "...         ...\n",
       "1127  746847309\n",
       "1128  945290923\n",
       "1129  945290924\n",
       "1130  867696371\n",
       "1131  867696372\n",
       "\n",
       "[1132 rows x 1 columns]"
      ]
     },
     "execution_count": 13,
     "metadata": {},
     "output_type": "execute_result"
    }
   ],
   "source": [
    "pd.DataFrame(failed_link_id, columns=[\"linkid\"]).to_csv(DATA_DIR+\"link_id_missing\", index=False)"
   ]
  },
  {
   "cell_type": "markdown",
   "metadata": {},
   "source": [
    "### Get link_id info that failed to obtain on the first step"
   ]
  },
  {
   "cell_type": "code",
   "execution_count": 15,
   "metadata": {},
   "outputs": [],
   "source": [
    "failed_link_id = pd.read_csv(DATA_DIR+\"link_id_missing.csv\")"
   ]
  },
  {
   "cell_type": "code",
   "execution_count": 16,
   "metadata": {},
   "outputs": [
    {
     "data": {
      "text/plain": [
       "array([576717032, 575144173, 813433231, ..., 945290924, 867696371,\n",
       "       867696372])"
      ]
     },
     "execution_count": 16,
     "metadata": {},
     "output_type": "execute_result"
    }
   ],
   "source": [
    "failed_link_id[\"linkid\"].values"
   ]
  },
  {
   "cell_type": "code",
   "execution_count": 20,
   "metadata": {},
   "outputs": [
    {
     "name": "stderr",
     "output_type": "stream",
     "text": [
      "  0%|          | 0/1132 [00:00<?, ?it/s]"
     ]
    },
    {
     "name": "stdout",
     "output_type": "stream",
     "text": [
      "Translating 1132 links\n"
     ]
    },
    {
     "name": "stderr",
     "output_type": "stream",
     "text": [
      "100%|██████████| 1132/1132 [05:43<00:00,  3.30it/s]\n"
     ]
    }
   ],
   "source": [
    "API_KEY = \"xEm8G0fGfrsDHyEkeLVD3VtjIKXSFQSgDYw82Wm_q8Y\"\n",
    "BASE_URL = \"https://route.ls.hereapi.com/routing/7.2/calculateroute.json\"\n",
    "\n",
    "remaining_link_id = pd.DataFrame()\n",
    "invalid_link = []\n",
    "\n",
    "print(\"Translating {} links\".format(len(failed_link_id[\"linkid\"].values)))\n",
    "\n",
    "for tmp_linkid in tqdm(failed_link_id[\"linkid\"].values):\n",
    "    \n",
    "    link_init = \"link!-\"+str(tmp_linkid) # 721130424\n",
    "    link_end = \"link!-721130424\"\n",
    "\n",
    "    params = {\"apiKey\": API_KEY,\n",
    "                \"waypoint0\": link_init,\n",
    "                \"waypoint1\": link_end,\n",
    "                \"mode\": \"fastest;car;traffic:disabled\"}\n",
    "    try:\n",
    "        r = requests.get(BASE_URL, params=params)\n",
    "        json_response = r.json()\n",
    "        org_dest_list = json_response[\"response\"][\"route\"][0][\"waypoint\"]\n",
    "    except KeyError:\n",
    "        #print(\"Failed getting link\", tmp_linkid)\n",
    "        invalid_link.append(tmp_linkid)\n",
    "        continue\n",
    "    \n",
    "    tmp_df = pd.DataFrame()\n",
    "    tmp_df[\"linkid\"] = [str(tmp_linkid)]\n",
    "    tmp_df[\"latitude\"] = [org_dest_list[0][\"mappedPosition\"][\"latitude\"]]\n",
    "    tmp_df[\"longitude\"] = [org_dest_list[0][\"mappedPosition\"][\"longitude\"]]\n",
    "    tmp_df[\"road_name\"] = [org_dest_list[0][\"mappedRoadName\"]]\n",
    "    remaining_link_id = pd.concat([remaining_link_id, tmp_df])\n",
    "\n",
    "remaining_link_id = remaining_link_id.reset_index(drop=True)"
   ]
  },
  {
   "cell_type": "code",
   "execution_count": 21,
   "metadata": {},
   "outputs": [
    {
     "name": "stdout",
     "output_type": "stream",
     "text": [
      "Link_ids with no mapping:  499\n"
     ]
    }
   ],
   "source": [
    "remaining_link_id.to_csv(DATA_DIR+\"link_id_dictionary_pt2.csv\", index=False)\n",
    "pd.DataFrame(invalid_link, columns=[\"linkid\"]).to_csv(DATA_DIR+\"link_id_invalid.csv\", index=False)\n",
    "print(\"Link_ids with no mapping: \", len(invalid_link))"
   ]
  },
  {
   "cell_type": "markdown",
   "metadata": {},
   "source": [
    "### Merge on final translation table"
   ]
  },
  {
   "cell_type": "code",
   "execution_count": 24,
   "metadata": {},
   "outputs": [],
   "source": [
    "link_id_dict_pt1 = pd.read_csv(DATA_DIR+\"link_id_dictionary_pt1.csv\")\n",
    "link_id_dict_pt2 = pd.read_csv(DATA_DIR+\"link_id_dictionary_pt2.csv\")\n",
    "link_id_all = pd.concat([link_id_dict_pt1, link_id_dict_pt2]).reset_index()\n",
    "link_id_all = link_id_all.drop([\"index\"], axis=1)\n",
    "link_id_all.to_csv(DATA_DIR+\"link_id_dictionary_final.csv\", index=False)"
   ]
  },
  {
   "cell_type": "code",
   "execution_count": 25,
   "metadata": {},
   "outputs": [
    {
     "data": {
      "text/html": [
       "<div>\n",
       "<style scoped>\n",
       "    .dataframe tbody tr th:only-of-type {\n",
       "        vertical-align: middle;\n",
       "    }\n",
       "\n",
       "    .dataframe tbody tr th {\n",
       "        vertical-align: top;\n",
       "    }\n",
       "\n",
       "    .dataframe thead th {\n",
       "        text-align: right;\n",
       "    }\n",
       "</style>\n",
       "<table border=\"1\" class=\"dataframe\">\n",
       "  <thead>\n",
       "    <tr style=\"text-align: right;\">\n",
       "      <th></th>\n",
       "      <th>linkid</th>\n",
       "      <th>latitude</th>\n",
       "      <th>longitude</th>\n",
       "      <th>road_name</th>\n",
       "    </tr>\n",
       "  </thead>\n",
       "  <tbody>\n",
       "    <tr>\n",
       "      <th>0</th>\n",
       "      <td>575143936</td>\n",
       "      <td>41.174556</td>\n",
       "      <td>-8.683999</td>\n",
       "      <td>Rua Manuel Dias da Fonseca</td>\n",
       "    </tr>\n",
       "    <tr>\n",
       "      <th>1</th>\n",
       "      <td>575143938</td>\n",
       "      <td>41.185590</td>\n",
       "      <td>-8.691142</td>\n",
       "      <td>Rua de Álvaro Castelões</td>\n",
       "    </tr>\n",
       "    <tr>\n",
       "      <th>2</th>\n",
       "      <td>575143939</td>\n",
       "      <td>41.185130</td>\n",
       "      <td>-8.690613</td>\n",
       "      <td>Rua de Álvaro Castelões</td>\n",
       "    </tr>\n",
       "    <tr>\n",
       "      <th>3</th>\n",
       "      <td>575143940</td>\n",
       "      <td>41.185312</td>\n",
       "      <td>-8.690828</td>\n",
       "      <td>Rua de Álvaro Castelões</td>\n",
       "    </tr>\n",
       "    <tr>\n",
       "      <th>4</th>\n",
       "      <td>576716805</td>\n",
       "      <td>41.239055</td>\n",
       "      <td>-8.690425</td>\n",
       "      <td>Rua Vilar do Senhor</td>\n",
       "    </tr>\n",
       "    <tr>\n",
       "      <th>...</th>\n",
       "      <td>...</td>\n",
       "      <td>...</td>\n",
       "      <td>...</td>\n",
       "      <td>...</td>\n",
       "    </tr>\n",
       "    <tr>\n",
       "      <th>84486</th>\n",
       "      <td>920645259</td>\n",
       "      <td>38.505458</td>\n",
       "      <td>-8.891222</td>\n",
       "      <td>Setúbal-Tróia</td>\n",
       "    </tr>\n",
       "    <tr>\n",
       "      <th>84487</th>\n",
       "      <td>867433175</td>\n",
       "      <td>41.169947</td>\n",
       "      <td>-8.621508</td>\n",
       "      <td>Rua de Monsanto</td>\n",
       "    </tr>\n",
       "    <tr>\n",
       "      <th>84488</th>\n",
       "      <td>746847309</td>\n",
       "      <td>38.778340</td>\n",
       "      <td>-9.097531</td>\n",
       "      <td>Avenida Dom João II</td>\n",
       "    </tr>\n",
       "    <tr>\n",
       "      <th>84489</th>\n",
       "      <td>945290923</td>\n",
       "      <td>40.843855</td>\n",
       "      <td>-8.390797</td>\n",
       "      <td>Avenida do Milénio</td>\n",
       "    </tr>\n",
       "    <tr>\n",
       "      <th>84490</th>\n",
       "      <td>867696372</td>\n",
       "      <td>41.172851</td>\n",
       "      <td>-8.601308</td>\n",
       "      <td>Rua António Salgado Júnior</td>\n",
       "    </tr>\n",
       "  </tbody>\n",
       "</table>\n",
       "<p>84491 rows × 4 columns</p>\n",
       "</div>"
      ],
      "text/plain": [
       "          linkid   latitude  longitude                   road_name\n",
       "0      575143936  41.174556  -8.683999  Rua Manuel Dias da Fonseca\n",
       "1      575143938  41.185590  -8.691142     Rua de Álvaro Castelões\n",
       "2      575143939  41.185130  -8.690613     Rua de Álvaro Castelões\n",
       "3      575143940  41.185312  -8.690828     Rua de Álvaro Castelões\n",
       "4      576716805  41.239055  -8.690425         Rua Vilar do Senhor\n",
       "...          ...        ...        ...                         ...\n",
       "84486  920645259  38.505458  -8.891222               Setúbal-Tróia\n",
       "84487  867433175  41.169947  -8.621508             Rua de Monsanto\n",
       "84488  746847309  38.778340  -9.097531         Avenida Dom João II\n",
       "84489  945290923  40.843855  -8.390797          Avenida do Milénio\n",
       "84490  867696372  41.172851  -8.601308  Rua António Salgado Júnior\n",
       "\n",
       "[84491 rows x 4 columns]"
      ]
     },
     "execution_count": 25,
     "metadata": {},
     "output_type": "execute_result"
    }
   ],
   "source": [
    "link_id_all"
   ]
  },
  {
   "cell_type": "code",
   "execution_count": null,
   "metadata": {},
   "outputs": [],
   "source": []
  }
 ],
 "metadata": {
  "kernelspec": {
   "display_name": "Python 3",
   "language": "python",
   "name": "python3"
  },
  "language_info": {
   "codemirror_mode": {
    "name": "ipython",
    "version": 3
   },
   "file_extension": ".py",
   "mimetype": "text/x-python",
   "name": "python",
   "nbconvert_exporter": "python",
   "pygments_lexer": "ipython3",
   "version": "3.8.5"
  },
  "varInspector": {
   "cols": {
    "lenName": 16,
    "lenType": 16,
    "lenVar": 40
   },
   "kernels_config": {
    "python": {
     "delete_cmd_postfix": "",
     "delete_cmd_prefix": "del ",
     "library": "var_list.py",
     "varRefreshCmd": "print(var_dic_list())"
    },
    "r": {
     "delete_cmd_postfix": ") ",
     "delete_cmd_prefix": "rm(",
     "library": "var_list.r",
     "varRefreshCmd": "cat(var_dic_list()) "
    }
   },
   "types_to_exclude": [
    "module",
    "function",
    "builtin_function_or_method",
    "instance",
    "_Feature"
   ],
   "window_display": false
  }
 },
 "nbformat": 4,
 "nbformat_minor": 4
}
